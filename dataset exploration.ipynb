{
 "cells": [
  {
   "cell_type": "code",
   "execution_count": 16,
   "id": "elect-firewall",
   "metadata": {},
   "outputs": [],
   "source": [
    "# import gmaps\n",
    "import pandas as pd"
   ]
  },
  {
   "cell_type": "code",
   "execution_count": 17,
   "id": "fifteen-disposal",
   "metadata": {},
   "outputs": [],
   "source": [
    "df = pd.read_csv('MFP Regular Sites 2019 - addresses2019 updated.csv')"
   ]
  },
  {
   "cell_type": "code",
   "execution_count": 18,
   "id": "ahead-shareware",
   "metadata": {},
   "outputs": [
    {
     "data": {
      "text/plain": [
       "Index(['Site Name', 'Address', 'City', 'State', 'ZIP', 'latitude', 'longitude',\n",
       "       'Number of Visits in 2019', 'Average Demand per Visit',\n",
       "       'StDev(Demand per Visit)', 'Unnamed: 10',\n",
       "       'Demand per Visit == the number of clients serviced on that visit'],\n",
       "      dtype='object')"
      ]
     },
     "execution_count": 18,
     "metadata": {},
     "output_type": "execute_result"
    }
   ],
   "source": [
    "df.columns"
   ]
  },
  {
   "cell_type": "code",
   "execution_count": 19,
   "id": "given-sterling",
   "metadata": {},
   "outputs": [],
   "source": [
    "locations = df[['latitude', 'longitude']]\n",
    "weights = df['Average Demand per Visit']"
   ]
  },
  {
   "cell_type": "code",
   "execution_count": 20,
   "id": "falling-strap",
   "metadata": {},
   "outputs": [
    {
     "data": {
      "text/plain": [
       "70"
      ]
     },
     "execution_count": 20,
     "metadata": {},
     "output_type": "execute_result"
    }
   ],
   "source": [
    "len(df)"
   ]
  }
 ],
 "metadata": {
  "kernelspec": {
   "display_name": "Python 3 (ipykernel)",
   "language": "python",
   "name": "python3"
  },
  "language_info": {
   "codemirror_mode": {
    "name": "ipython",
    "version": 3
   },
   "file_extension": ".py",
   "mimetype": "text/x-python",
   "name": "python",
   "nbconvert_exporter": "python",
   "pygments_lexer": "ipython3",
   "version": "3.9.6"
  }
 },
 "nbformat": 4,
 "nbformat_minor": 5
}
