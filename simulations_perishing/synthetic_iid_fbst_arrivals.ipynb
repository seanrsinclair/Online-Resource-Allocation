{
 "cells": [
  {
   "cell_type": "code",
   "execution_count": 2,
   "metadata": {},
   "outputs": [],
   "source": [
    "import warnings;\n",
    "warnings.filterwarnings('ignore');\n",
    "\n",
    "from time import sleep\n",
    "from tqdm.auto import tqdm\n",
    "\n",
    "import sys\n",
    "import importlib\n",
    "import numpy as np\n",
    "import nbformat\n",
    "# import plotly.express\n",
    "# import plotly.express as px\n",
    "import pandas as pd\n",
    "import cvxpy as cp\n",
    "import scipy.optimize as optimization\n",
    "import matplotlib.pyplot as plt\n",
    "import seaborn as sns"
   ]
  },
  {
   "cell_type": "code",
   "execution_count": 12,
   "metadata": {},
   "outputs": [
    {
     "name": "stdout",
     "output_type": "stream",
     "text": [
      "[0.25 0.3  0.45]\n",
      "70\n"
     ]
    }
   ],
   "source": [
    "df = pd.read_csv('../MFP Regular Sites 2019 - addresses2019 updated.csv')\n",
    "locations = df[['latitude', 'longitude']]\n",
    "data_weights = df['Average Demand per Visit']\n",
    "data_stdev = df['StDev(Demand per Visit)']\n",
    "\n",
    "max_n = len(data_stdev)\n",
    "dist_types = np.asarray([.25, .3, 1-.25-.3])\n",
    "print(dist_types)\n",
    "\n",
    "\n",
    "print(max_n)\n",
    "\n",
    "num_iterations = 10"
   ]
  },
  {
   "cell_type": "markdown",
   "metadata": {},
   "source": [
    "Simulating B items, each associated with a generic distribution (to be filled in after)\n",
    "Each item is tagged with an expected perishing date, true perishing date drawn from dist, indicator as to whether perished, indicator as to whether allocated\n",
    "Sort according to perishing date and go down list, skipping what perished and what was allocated\n"
   ]
  },
  {
   "cell_type": "code",
   "execution_count": 7,
   "metadata": {},
   "outputs": [],
   "source": [
    "def time_dist(b, n):\n",
    "    val = np.random.binomial(n=1, p = min(0.03, 1/np.sqrt(n)))\n",
    "    return val + (1-val)*n"
   ]
  },
  {
   "cell_type": "code",
   "execution_count": 24,
   "metadata": {},
   "outputs": [
    {
     "data": {
      "application/vnd.jupyter.widget-view+json": {
       "model_id": "1f913a066c44449c94d05bd5d3040d25",
       "version_major": 2,
       "version_minor": 0
      },
      "text/plain": [
       "  0%|          | 0/65 [00:00<?, ?it/s]"
      ]
     },
     "metadata": {},
     "output_type": "display_data"
    },
    {
     "name": "stdout",
     "output_type": "stream",
     "text": [
      "Num Locations: 10\n"
     ]
    },
    {
     "ename": "IndexError",
     "evalue": "index 1203 is out of bounds for axis 0 with size 1203",
     "output_type": "error",
     "traceback": [
      "\u001b[0;31m---------------------------------------------------------------------------\u001b[0m",
      "\u001b[0;31mIndexError\u001b[0m                                Traceback (most recent call last)",
      "\u001b[0;32m<ipython-input-24-e3184e2489c2>\u001b[0m in \u001b[0;36m<module>\u001b[0;34m\u001b[0m\n\u001b[1;32m     45\u001b[0m         \u001b[0mresource_dict\u001b[0m \u001b[0;34m=\u001b[0m \u001b[0;34m{\u001b[0m\u001b[0;34m}\u001b[0m\u001b[0;34m\u001b[0m\u001b[0;34m\u001b[0m\u001b[0m\n\u001b[1;32m     46\u001b[0m         \u001b[0;32mfor\u001b[0m \u001b[0mb\u001b[0m \u001b[0;32min\u001b[0m \u001b[0mrange\u001b[0m\u001b[0;34m(\u001b[0m\u001b[0mmax_budget\u001b[0m\u001b[0;34m)\u001b[0m\u001b[0;34m:\u001b[0m\u001b[0;34m\u001b[0m\u001b[0;34m\u001b[0m\u001b[0m\n\u001b[0;32m---> 47\u001b[0;31m             \u001b[0mresource_dict\u001b[0m\u001b[0;34m[\u001b[0m\u001b[0mstr\u001b[0m\u001b[0;34m(\u001b[0m\u001b[0mb\u001b[0m\u001b[0;34m)\u001b[0m\u001b[0;34m]\u001b[0m \u001b[0;34m=\u001b[0m \u001b[0;34m(\u001b[0m\u001b[0;36m0\u001b[0m\u001b[0;34m,\u001b[0m \u001b[0mresource_perish\u001b[0m\u001b[0;34m[\u001b[0m\u001b[0mb\u001b[0m\u001b[0;34m]\u001b[0m\u001b[0;34m)\u001b[0m\u001b[0;34m\u001b[0m\u001b[0;34m\u001b[0m\u001b[0m\n\u001b[0m\u001b[1;32m     48\u001b[0m \u001b[0;31m#         print(f'Starting Resource Dictionary: {resource_dict}')\u001b[0m\u001b[0;34m\u001b[0m\u001b[0;34m\u001b[0m\u001b[0;34m\u001b[0m\u001b[0m\n\u001b[1;32m     49\u001b[0m         \u001b[0mflag\u001b[0m \u001b[0;34m=\u001b[0m \u001b[0;32mFalse\u001b[0m\u001b[0;34m\u001b[0m\u001b[0;34m\u001b[0m\u001b[0m\n",
      "\u001b[0;31mIndexError\u001b[0m: index 1203 is out of bounds for axis 0 with size 1203"
     ]
    }
   ],
   "source": [
    "conf_cons = 2\n",
    "num_groups = np.arange(5, max_n)\n",
    "\n",
    "data = []\n",
    "\n",
    "for n in tqdm(num_groups):\n",
    "# for n in [10]:\n",
    "    n = int(n) + 5\n",
    "    \n",
    "    \n",
    "    print('Num Locations: ' + str(n))\n",
    "    num_valid = 0\n",
    "    while num_valid < num_iterations:\n",
    "        \n",
    "        \n",
    "        index = np.random.choice(max_n, n, replace=False)\n",
    "        mean_size = np.asarray([dist_types * data_weights[index].to_numpy()[j] for j in range(n)])\n",
    "        stdev_size = np.asarray([(dist_types**2) * data_weights[index].to_numpy()[j] for j in range(n)])\n",
    "             \n",
    "        max_budget = int(np.sum(mean_size))\n",
    "        \n",
    "        size = np.maximum(1, np.random.normal(mean_size, stdev_size))\n",
    "        size = np.sum(size, axis=1)\n",
    "        mean_size = np.sum(mean_size, axis=1)\n",
    "        \n",
    "        \n",
    "        resource_perish = np.asarray([time_dist(b,n) for b in range(budget)])\n",
    "        \n",
    "        # Note - going to assume that time_dist is ordered so that we can allocate in decreasing order\n",
    "        check_optimality = [(max_budget / np.sum(size))*np.sum(size[:(t+1)]) \n",
    "                                - np.count_nonzero([resource_perish <= t]) for t in range(n)]\n",
    "        if np.min(check_optimality) < 0: # checks if B/N is feasible in hindsight\n",
    "#             print('Invalid')\n",
    "            continue\n",
    "        else:\n",
    "            num_valid += 1\n",
    "#             print('Valid')\n",
    "            \n",
    "        # Sets up optimal solution in hindsight and lower threshold allocation\n",
    "        xopt = max_budget / np.sum(size)\n",
    "        x_lower = (max_budget / (mean_size*n + conf_cons / np.sqrt(n)))*(1 - conf_cons / np.sqrt(n))\n",
    "\n",
    "\n",
    "        # dictionary keeping track of amount of each resource which is used and its perishing time\n",
    "        resource_dict = {}\n",
    "        for b in range(max_budget):\n",
    "            resource_dict[str(b)] = (0, resource_perish[b])\n",
    "#         print(f'Starting Resource Dictionary: {resource_dict}')\n",
    "        flag = False \n",
    "        current_index = 0\n",
    "        for t in range(n):\n",
    "            to_allocate = size[t] * x_lower\n",
    "#             print(f'Amount to allocate: {to_allocate}')\n",
    "            alloc_tracker = 0\n",
    "            \n",
    "            \n",
    "            for b in np.arange(current_index, max_budget):\n",
    "                (frac, perish_time) = resource_dict[str(b)]\n",
    "                current_index = b\n",
    "                if perish_time >= n: # perishing in the future from this round\n",
    "                    alloc_amt = min(1 - frac, to_allocate - alloc_tracker)\n",
    "#                     print(f'Allocation amount: {alloc_amt}')\n",
    "                    alloc_tracker += alloc_amt\n",
    "                    resource_dict[str(b)] = (frac+alloc_amt, perish_time)\n",
    "                if alloc_tracker >= to_allocate:\n",
    "                    break\n",
    "                \n",
    "#             print(f'Current person resource dict: {resource_dict}')\n",
    "            if alloc_tracker < to_allocate: # run out of resources\n",
    "                print('Out of resources')\n",
    "                flag = True\n",
    "                waste = 0\n",
    "                counterfactual_envy = np.abs(xopt - alloc_tracker / size[t])\n",
    "                hindsight_envy = np.abs(x_lower - alloc_tracker / size[t])\n",
    "                \n",
    "        if flag == False: # did not run out of resources\n",
    "            hindsight_envy = 0\n",
    "            counterfactual_envy = np.abs(xopt - x_lower)\n",
    "            waste = max_budget - np.sum([resource_dict[str(b)][0] for b in range(max_budget)])\n",
    "#         print(resource_dict)\n",
    "        perish_un_alloc_vec = []\n",
    "        for b in range(max_budget):\n",
    "            if resource_dict[str(b)][1] < n:\n",
    "                perish_un_alloc_vec.append(1 - resource_dict[str(b)][0])\n",
    "            else:\n",
    "                perish_un_alloc_vec.append(0)\n",
    "        perish_un_allocate = np.sum(perish_un_alloc_vec)\n",
    "\n",
    "        data_dict = {'NumGroups': n, 'Norm': 'Hindsight_Envy', 'Value': hindsight_envy}\n",
    "        data.append(data_dict)\n",
    "        data_dict = {'NumGroups': n, 'Norm': 'Counterfactual_Envy', 'Value': counterfactual_envy}\n",
    "        data.append(data_dict)\n",
    "        data_dict = {'NumGroups': n, 'Norm': 'Waste', 'Value': waste}\n",
    "        data.append(data_dict)\n",
    "        data_dict = {'NumGroups': n, 'Norm': 'Perished_Un_Allocated', 'Value': perish_un_allocate}\n",
    "        data.append(data_dict)\n",
    "\n"
   ]
  },
  {
   "cell_type": "code",
   "execution_count": 6,
   "metadata": {},
   "outputs": [],
   "source": [
    "df = pd.DataFrame.from_records(data)\n",
    "df.to_csv('./data/single_iid.csv', index=False)\n",
    "df = pd.read_csv('./data/single_iid.csv')"
   ]
  },
  {
   "cell_type": "code",
   "execution_count": 8,
   "metadata": {},
   "outputs": [
    {
     "data": {
      "image/png": "[encoded data removed]",
      "text/plain": [
       "<Figure size 1440x432 with 4 Axes>"
      ]
     },
     "metadata": {
      "needs_background": "light"
     },
     "output_type": "display_data"
    }
   ],
   "source": [
    "\n",
    "df.columns\n",
    "\n",
    "\n",
    "plt.style.use('PaperDoubleFig.mplstyle.txt')\n",
    "# Make some style choices for plotting \n",
    "# colorWheel =['#2bd1e5',\n",
    "#             '#281bf5',\n",
    "#              '#db1bf5',\n",
    "#              '#F5CD1B',\n",
    "#             '#FF5733','#9cf51b',]\n",
    "dashesStyles = [[3,1],\n",
    "            [2,1,10,1],\n",
    "            [4, 1, 1, 1, 1, 1],[1000,1],[8,2]]\n",
    "\n",
    "\n",
    "#filled_markers = ('o', 'v', '^', '<', '>', '8', 's', 'p', '*', 'h', 'H', 'D', 'd', 'P', 'X')\n",
    "#plt.figure(figsize=(20,10))\n",
    "#plt.title('Simple Distribution L1')\n",
    "#sns.lineplot(x='NumGroups', y='value', hue='variable', data=df[df.Norm == 'L1'])\n",
    "\n",
    "filled_markers = ('o', 'v', '^', '<', '>', '8', 's', 'p', '*', 'h', 'H', 'D', 'd', 'P', 'X')\n",
    "dash_styles = [\"\",\n",
    "               (4, 1.5),\n",
    "               (1, 1),\n",
    "               (3, 1, 1.5, 1),\n",
    "               (5, 1, 1, 1),\n",
    "               (5, 1, 2, 1, 2, 1),\n",
    "               (2, 2, 3, 1.5),\n",
    "               (1, 2.5, 3, 1.2)]\n",
    "\n",
    "# fig = plt.figure(figsize=(20,6))\n",
    "plt.rc('text', usetex=True)\n",
    "\n",
    "\n",
    "\n",
    "fg, axs = plt.subplots(1,4, sharex='all', figsize=(20,6))\n",
    "sns.lineplot(x='NumGroups', y='Value',\n",
    "                     data=df[df.Norm == 'Counterfactual_Envy'], ax = axs[0], linewidth=4,\n",
    "            ci = None)\n",
    "sns.lineplot(x='NumGroups', y='Value',\n",
    "             data=df[df.Norm == 'Waste'], ax = axs[1], linewidth=4, palette = sns.color_palette(\"colorblind\", 1),\n",
    "            ci = None)\n",
    "\n",
    "sns.lineplot(x='NumGroups', y='Value',\n",
    "             data=df[df.Norm == 'Hindsight_Envy'], ax = axs[2], linewidth=4, palette = sns.color_palette(\"colorblind\", 1),\n",
    "            ci = None)\n",
    "\n",
    "sns.lineplot(x='NumGroups', y='Value',\n",
    "             data=df[df.Norm == 'Perished_Un_Allocated'], ax = axs[3], linewidth=4, palette = sns.color_palette(\"colorblind\", 1),\n",
    "            ci = None)\n",
    "\n",
    "\n",
    "# axs[0].get_legend().remove()\n",
    "axs[0].set_ylabel('$\\Delta_{\\it EF}$')\n",
    "axs[0].set_xlabel('Number of Rounds')\n",
    "\n",
    "axs[1].set_ylabel('$\\Delta_{\\it efficiency}$')\n",
    "axs[1].set_xlabel('Number of Rounds')\n",
    "# axs[1].get_legend().remove()\n",
    "\n",
    "# axs[2].get_legend().remove()\n",
    "axs[2].set_ylabel(r'$Envy$')\n",
    "axs[2].set_xlabel('Number of Rounds')\n",
    "\n",
    "axs[3].set_ylabel(r'Perished and Un-Allocated Goods')\n",
    "axs[3].set_xlabel('Number of Rounds')\n",
    "\n",
    "# \n",
    "# axs[2].legend(ncol = 1, loc= 'upper right')\n",
    "\n",
    "\n",
    "\n",
    "\n",
    "plt.show()\n",
    "fg.savefig('./figures/synthetic_iid_perish.pdf', bbox_inches = 'tight',pad_inches = 0.01, dpi=900)"
   ]
  }
 ],
 "metadata": {
  "kernelspec": {
   "display_name": "Python 3",
   "language": "python",
   "name": "python3"
  },
  "language_info": {
   "codemirror_mode": {
    "name": "ipython",
    "version": 3
   },
   "file_extension": ".py",
   "mimetype": "text/x-python",
   "name": "python",
   "nbconvert_exporter": "python",
   "pygments_lexer": "ipython3",
   "version": "3.6.13"
  }
 },
 "nbformat": 4,
 "nbformat_minor": 4
}
