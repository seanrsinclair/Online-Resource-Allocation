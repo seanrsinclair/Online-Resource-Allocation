{
 "cells": [
  {
   "cell_type": "code",
   "execution_count": 1,
   "metadata": {},
   "outputs": [],
   "source": [
    "import warnings;\n",
    "warnings.filterwarnings('ignore');\n",
    "\n",
    "from time import sleep\n",
    "from tqdm.auto import tqdm\n",
    "\n",
    "import sys\n",
    "import importlib\n",
    "import numpy as np\n",
    "import nbformat\n",
    "# import plotly.express\n",
    "# import plotly.express as px\n",
    "import pandas as pd\n",
    "import cvxpy as cp\n",
    "import scipy.optimize as optimization\n",
    "import matplotlib.pyplot as plt\n",
    "import seaborn as sns"
   ]
  },
  {
   "cell_type": "code",
   "execution_count": 2,
   "metadata": {},
   "outputs": [],
   "source": [
    "mean_size = 2\n",
    "num_iterations = 200"
   ]
  },
  {
   "cell_type": "markdown",
   "metadata": {},
   "source": [
    "Simulating B items, each associated with a generic distribution (to be filled in after)\n",
    "Each item is tagged with an expected perishing date, true perishing date drawn from dist, indicator as to whether perished, indicator as to whether allocated\n",
    "Sort according to perishing date and go down list, skipping what perished and what was allocated\n"
   ]
  },
  {
   "cell_type": "code",
   "execution_count": 3,
   "metadata": {},
   "outputs": [],
   "source": [
    "def time_dist(b, n):\n",
    "    if b >= np.sqrt(n):\n",
    "        val = np.random.binomial(n=1, p = min(0.03, 1/np.sqrt(n)))\n",
    "        return val + (1-val)*n\n",
    "    else:\n",
    "        val = b+np.random.randint(1,10)\n",
    "        return val"
   ]
  },
  {
   "cell_type": "code",
   "execution_count": 4,
   "metadata": {},
   "outputs": [],
   "source": [
    "def fixed_threshold(size, resource_perish, max_budget, xopt, x_lower, n):\n",
    "    resource_dict = {}\n",
    "    for b in range(max_budget): # Initializes dictionary of the various resources and allocation\n",
    "        resource_dict[str(b)] = (0, resource_perish[b])\n",
    "    flag = False  # Flag for running out of budget\n",
    "    current_index = 0\n",
    "    for t in range(n):\n",
    "        to_allocate = size[t] * x_lower\n",
    "        alloc_tracker = 0\n",
    "        \n",
    "        for b in np.arange(current_index, max_budget):\n",
    "            (frac, perish_time) = resource_dict[str(b)]\n",
    "            current_index = b\n",
    "            if perish_time >= n: # perishing in the future from this round\n",
    "                alloc_amt = min(1 - frac, to_allocate - alloc_tracker)\n",
    "                alloc_tracker += alloc_amt\n",
    "                resource_dict[str(b)] = (frac+alloc_amt, perish_time)\n",
    "            if alloc_tracker >= to_allocate:\n",
    "                break\n",
    "\n",
    "        if alloc_tracker < to_allocate: # run out of resources\n",
    "#             print('Out of resources')\n",
    "            flag = True\n",
    "            waste = 0\n",
    "            counterfactual_envy = np.abs(xopt - alloc_tracker / size[t])\n",
    "            hindsight_envy = np.abs(x_lower - alloc_tracker / size[t])\n",
    "\n",
    "    if flag == False: # did not run out of resources\n",
    "        hindsight_envy = 0\n",
    "        counterfactual_envy = np.abs(xopt - x_lower)\n",
    "        waste = max_budget - np.sum([resource_dict[str(b)][0] for b in range(max_budget)])\n",
    "    perish_un_alloc_vec = []\n",
    "    for b in range(max_budget):\n",
    "        if resource_dict[str(b)][1] < n:\n",
    "            perish_un_alloc_vec.append(1 - resource_dict[str(b)][0])\n",
    "        else:\n",
    "            perish_un_alloc_vec.append(0)\n",
    "    perish_un_allocate = np.sum(perish_un_alloc_vec)\n",
    "    \n",
    "    return perish_un_allocate, waste, counterfactual_envy, hindsight_envy\n"
   ]
  },
  {
   "cell_type": "code",
   "execution_count": 5,
   "metadata": {},
   "outputs": [],
   "source": [
    "def hope_guardrail(size, resource_perish, max_budget, xopt, x_lower, n, Lt, mean_size, conf_size):\n",
    "\n",
    "    resource_dict = {}\n",
    "    for b in range(max_budget): # Initializes dictionary of the various resources and allocation\n",
    "        resource_dict[str(b)] = (0, resource_perish[b])\n",
    "    flag = False  # Flag for running out of budget\n",
    "    current_index = 0\n",
    "    \n",
    "    x_upper = x_lower + 3*Lt\n",
    "    current_budget = max_budget\n",
    "    for t in range(n):\n",
    "        \n",
    "        if current_budget - size[t]*x_upper - (np.sum(mean_size[t+1:]) + conf_size[t])*x_lower > 0:\n",
    "            to_allocate = size[t] * x_upper\n",
    "        else:\n",
    "            to_allocate = size[t] * x_lower\n",
    "        \n",
    "        alloc_tracker = 0\n",
    "        \n",
    "        for b in np.arange(current_index, max_budget):\n",
    "            (frac, perish_time) = resource_dict[str(b)]\n",
    "            current_index = b\n",
    "            if perish_time >= n: # perishing in the future from this round\n",
    "                alloc_amt = min(1 - frac, to_allocate - alloc_tracker)\n",
    "                alloc_tracker += alloc_amt\n",
    "                resource_dict[str(b)] = (frac+alloc_amt, perish_time)\n",
    "            if alloc_tracker >= to_allocate:\n",
    "                break\n",
    "                \n",
    "        # Update current budget\n",
    "        current_budget = max_budget - np.sum([1 if resource_dict[str(b)][1] <= t else resource_dict[str(b)][0] for b in range(max_budget)])\n",
    "        if alloc_tracker < to_allocate: # run out of resources\n",
    "#             print('Out of resources')\n",
    "            flag = True\n",
    "            waste = 0\n",
    "            counterfactual_envy = np.abs(xopt - alloc_tracker / size[t])\n",
    "            hindsight_envy = np.abs(x_upper - alloc_tracker / size[t])\n",
    "\n",
    "    if flag == False: # did not run out of resources\n",
    "        hindsight_envy = np.abs(x_upper - x_lower)\n",
    "        counterfactual_envy = np.max([np.abs(xopt - x_lower), np.abs(xopt - x_upper)])\n",
    "        waste = max_budget - np.sum([resource_dict[str(b)][0] for b in range(max_budget)])\n",
    "    perish_un_alloc_vec = []\n",
    "    for b in range(max_budget):\n",
    "        if resource_dict[str(b)][1] < n:\n",
    "            perish_un_alloc_vec.append(1 - resource_dict[str(b)][0])\n",
    "        else:\n",
    "            perish_un_alloc_vec.append(0)\n",
    "    perish_un_allocate = np.sum(perish_un_alloc_vec)\n",
    "    \n",
    "    return perish_un_allocate, waste, counterfactual_envy, hindsight_envy\n"
   ]
  },
  {
   "cell_type": "code",
   "execution_count": 6,
   "metadata": {},
   "outputs": [
    {
     "data": {
      "application/vnd.jupyter.widget-view+json": {
       "model_id": "6e1183be99534c2a9cf6ff6edfdd6cf9",
       "version_major": 2,
       "version_minor": 0
      },
      "text/plain": [
       "  0%|          | 0/20 [00:00<?, ?it/s]"
      ]
     },
     "metadata": {},
     "output_type": "display_data"
    },
    {
     "name": "stdout",
     "output_type": "stream",
     "text": [
      "Num Locations: 7\n",
      "Num Locations: 7\n",
      "Num Locations: 8\n",
      "Num Locations: 8\n",
      "Num Locations: 9\n",
      "Num Locations: 10\n",
      "Num Locations: 11\n",
      "Num Locations: 12\n",
      "Num Locations: 13\n",
      "Num Locations: 15\n",
      "Num Locations: 17\n",
      "Num Locations: 19\n",
      "Num Locations: 22\n",
      "Num Locations: 25\n",
      "Num Locations: 29\n",
      "Num Locations: 34\n",
      "Num Locations: 39\n",
      "Num Locations: 45\n",
      "Num Locations: 53\n",
      "Num Locations: 62\n"
     ]
    }
   ],
   "source": [
    "conf_cons = 2\n",
    "num_groups = np.logspace(2, 10, base=1.5, num=20).astype(int)\n",
    "\n",
    "# num_groups = np.logspace(2, 5, base=1.5, num=5).astype(int)\n",
    "algo_list = ['fixed_threshold', 'hope_guardrail_12', 'hope_guardrail_13']\n",
    "data = []\n",
    "\n",
    "for n in tqdm(num_groups):\n",
    "# for n in [10]:\n",
    "    n = int(n) + 5\n",
    "    print('Num Locations: ' + str(n))\n",
    "    num_valid = 0\n",
    "    max_budget = n\n",
    "    while num_valid < num_iterations:\n",
    "        size = np.random.randint(mean_size,mean_size+1, size=n)\n",
    "#         size = [mean_size for _ in range(n)]\n",
    "        resource_perish = np.asarray([time_dist(b,n) for b in range(max_budget)])\n",
    "        \n",
    "        # Note - going to assume that time_dist is ordered so that we can allocate in decreasing order\n",
    "        check_optimality = [(max_budget / np.sum(size))*np.sum(size[:(t+1)]) \n",
    "                                - np.count_nonzero([resource_perish <= t]) for t in range(n)]\n",
    "        if np.min(check_optimality) < 0: # checks if B/N is feasible in hindsight\n",
    "#             print('Invalid')\n",
    "            continue\n",
    "        else:\n",
    "            num_valid += 1\n",
    "#             print('Valid')\n",
    "            \n",
    "        # Sets up optimal solution in hindsight and lower threshold allocation\n",
    "        xopt = max_budget / np.sum(size)\n",
    "        x_lower = (max_budget / (mean_size*n + np.sqrt(n)))*(1 - conf_cons / np.sqrt(n))\n",
    "\n",
    "        \n",
    "        conf_size = [np.sqrt(mean_size*t) for t in range(n)]\n",
    "        mean_size_vec = [mean_size for t in range(n)]\n",
    "        for algo in algo_list:\n",
    "            if algo == 'fixed_threshold':\n",
    "                perish_un_allocate, waste, counterfactual_envy, hindsight_envy = fixed_threshold(size, resource_perish, max_budget, xopt, x_lower, n)\n",
    "            elif algo == 'hope_guardrail_12':\n",
    "                perish_un_allocate, waste, counterfactual_envy, hindsight_envy = hope_guardrail(size, resource_perish, max_budget, xopt, x_lower, n, n**(-1/2), mean_size_vec, conf_size)\n",
    "            elif algo == 'hope_guardrail_13':\n",
    "                perish_un_allocate, waste, counterfactual_envy, hindsight_envy = hope_guardrail(size, resource_perish, max_budget, xopt, x_lower, n, n**(-1/3), mean_size_vec, conf_size)\n",
    "\n",
    "            data_dict = {'NumGroups': n, 'Algorithm': algo, 'Norm': 'Hindsight_Envy', 'Value': hindsight_envy}\n",
    "            data.append(data_dict)\n",
    "            data_dict = {'NumGroups': n, 'Algorithm': algo, 'Norm': 'Counterfactual_Envy', 'Value': counterfactual_envy}\n",
    "            data.append(data_dict)\n",
    "            data_dict = {'NumGroups': n, 'Algorithm': algo, 'Norm': 'Waste', 'Value': waste}\n",
    "            data.append(data_dict)\n",
    "            data_dict = {'NumGroups': n, 'Algorithm': algo, 'Norm': 'Perished_Un_Allocated', 'Value': perish_un_allocate}\n",
    "            data.append(data_dict)\n",
    "\n"
   ]
  },
  {
   "cell_type": "code",
   "execution_count": 7,
   "metadata": {},
   "outputs": [
    {
     "data": {
      "text/plain": [
       "array([ 3,  5,  6,  4, 13,  7,  8,  9, 62, 62, 62, 62, 62, 62, 62, 62, 62,\n",
       "       62, 62, 62, 62, 62, 62, 62, 62, 62, 62, 62, 62, 62, 62, 62, 62, 62,\n",
       "       62, 62, 62, 62, 62, 62, 62, 62, 62, 62, 62, 62, 62, 62, 62, 62, 62,\n",
       "       62, 62, 62, 62, 62, 62, 62, 62, 62, 62, 62])"
      ]
     },
     "execution_count": 7,
     "metadata": {},
     "output_type": "execute_result"
    }
   ],
   "source": [
    "resource_perish"
   ]
  },
  {
   "cell_type": "code",
   "execution_count": 8,
   "metadata": {},
   "outputs": [],
   "source": [
    "df = pd.DataFrame.from_records(data)\n",
    "df.to_csv('./data/single_sqrt.csv', index=False)\n",
    "df = pd.read_csv('./data/single_sqrt.csv')"
   ]
  },
  {
   "cell_type": "code",
   "execution_count": 9,
   "metadata": {
    "scrolled": true
   },
   "outputs": [
    {
     "data": {
      "image/png": "[encoded data removed]",
      "text/plain": [
       "<Figure size 1440x432 with 3 Axes>"
      ]
     },
     "metadata": {
      "needs_background": "light"
     },
     "output_type": "display_data"
    }
   ],
   "source": [
    "\n",
    "df.columns\n",
    "df = df.assign(Algorithm = lambda df: df.Algorithm.replace({'fixed_threshold': 'Fixed Threshold', 'hope_guardrail_13': 'Guarded Hope $L_T = T^{-1/3}$', 'hope_guardrail_12': 'Guarded Hope $L_T = T^{-1/2}$'}))\n",
    "\n",
    "\n",
    "plt.style.use('PaperDoubleFig.mplstyle.txt')\n",
    "plt.rc('text.latex', preamble=r'\\usepackage{amsfonts}')\n",
    "\n",
    "# Make some style choices for plotting \n",
    "# colorWheel =['#2bd1e5',\n",
    "#             '#281bf5',\n",
    "#              '#db1bf5',\n",
    "#              '#F5CD1B',\n",
    "#             '#FF5733','#9cf51b',]\n",
    "dashesStyles = [[3,1],\n",
    "            [2,1,10,1],\n",
    "            [4, 1, 1, 1, 1, 1],[1000,1],[8,2]]\n",
    "\n",
    "\n",
    "#filled_markers = ('o', 'v', '^', '<', '>', '8', 's', 'p', '*', 'h', 'H', 'D', 'd', 'P', 'X')\n",
    "#plt.figure(figsize=(20,10))\n",
    "#plt.title('Simple Distribution L1')\n",
    "#sns.lineplot(x='NumGroups', y='value', hue='variable', data=df[df.Norm == 'L1'])\n",
    "\n",
    "filled_markers = ('o', 'v', '^', '<', '>', '8', 's', 'p', '*', 'h', 'H', 'D', 'd', 'P', 'X')\n",
    "dash_styles = [\"\",\n",
    "               (4, 1.5),\n",
    "               (1, 1),\n",
    "               (3, 1, 1.5, 1),\n",
    "               (5, 1, 1, 1),\n",
    "               (5, 1, 2, 1, 2, 1),\n",
    "               (2, 2, 3, 1.5),\n",
    "               (1, 2.5, 3, 1.2)]\n",
    "\n",
    "# fig = plt.figure(figsize=(20,6))\n",
    "plt.rc('text', usetex=True)\n",
    "\n",
    "\n",
    "\n",
    "fg, axs = plt.subplots(1,3, sharex='all', figsize=(20,6))\n",
    "sns.lineplot(x='NumGroups', y='Value', hue='Algorithm', style = 'Algorithm', dashes = dashesStyles[0:len(algo_list)],\n",
    "                     data=df[df.Norm == 'Counterfactual_Envy'], ax = axs[0], linewidth=4, palette = sns.color_palette(\"colorblind\", len(algo_list)),\n",
    "            ci = None)\n",
    "sns.lineplot(x='NumGroups', y='Value', hue='Algorithm', style = 'Algorithm', dashes = dashesStyles[0:len(algo_list)], \n",
    "             data=df[df.Norm == 'Waste'], ax = axs[1], linewidth=4, palette = sns.color_palette(\"colorblind\", len(algo_list)),\n",
    "            ci = None)\n",
    "\n",
    "sns.lineplot(x='NumGroups', y='Value', hue='Algorithm', style = 'Algorithm', dashes = dashesStyles[0:len(algo_list)], \n",
    "             data=df[df.Norm == 'Hindsight_Envy'], ax = axs[2], linewidth=4, palette = sns.color_palette(\"colorblind\", len(algo_list)),\n",
    "            ci = None)\n",
    "\n",
    "# sns.lineplot(x='NumGroups', y='Value', hue='Algorithm', style = 'Algorithm', dashes = dashesStyles[0:len(algo_list)],\n",
    "#              data=df[df.Norm == 'Perished_Un_Allocated'], ax = axs[3], linewidth=4, palette = sns.color_palette(\"colorblind\", len(algo_list)),\n",
    "#             ci = None)\n",
    "\n",
    "\n",
    "# axs[0].get_legend().remove()\n",
    "axs[0].get_legend().remove()\n",
    "axs[0].set_ylabel('$\\mathbb{E}[\\Delta_{\\it EF}]$')\n",
    "axs[0].set_xlabel('Number of Rounds')\n",
    "\n",
    "axs[1].set_ylabel('$\\mathbb{E}[\\Delta_{\\it efficiency}]$')\n",
    "axs[1].set_xlabel('Number of Rounds')\n",
    "axs[1].get_legend().remove()\n",
    "\n",
    "axs[2].get_legend().remove()\n",
    "axs[2].set_ylabel(r'$\\mathbb{E}[Envy]$')\n",
    "axs[2].set_xlabel('Number of Rounds')\n",
    "\n",
    "# axs[3].get_legend().remove()\n",
    "# axs[3].set_ylabel(r'Perished Un Allocated')\n",
    "# axs[3].set_xlabel('Number of Rounds')\n",
    "\n",
    "\n",
    "# axs[2].legend(ncol = 1, loc= 'upper right')\n",
    "\n",
    "\n",
    "\n",
    "\n",
    "plt.show()\n",
    "fg.savefig('./figures/synthetic_sqrt_perish.pdf', bbox_inches = 'tight',pad_inches = 0.01, dpi=900)"
   ]
  }
 ],
 "metadata": {
  "kernelspec": {
   "display_name": "Python 3",
   "language": "python",
   "name": "python3"
  },
  "language_info": {
   "codemirror_mode": {
    "name": "ipython",
    "version": 3
   },
   "file_extension": ".py",
   "mimetype": "text/x-python",
   "name": "python",
   "nbconvert_exporter": "python",
   "pygments_lexer": "ipython3",
   "version": "3.6.13"
  }
 },
 "nbformat": 4,
 "nbformat_minor": 4
}
