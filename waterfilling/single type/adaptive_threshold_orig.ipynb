{
 "cells": [
  {
   "cell_type": "markdown",
   "metadata": {
    "id": "AT5gf3Q59WOm"
   },
   "source": [
    "# Single Type Experiment"
   ]
  },
  {
   "cell_type": "code",
   "execution_count": 1,
   "metadata": {
    "id": "Bu5uZ0yB9WOv"
   },
   "outputs": [],
   "source": [
    "import warnings;\n",
    "warnings.filterwarnings('ignore');\n",
    "\n",
    "from time import sleep\n",
    "from tqdm.auto import tqdm\n",
    "\n",
    "import sys\n",
    "import importlib\n",
    "import numpy as np\n",
    "import nbformat\n",
    "# import plotly.express\n",
    "# import plotly.express as px\n",
    "import pandas as pd\n",
    "import scipy.optimize as optimization\n",
    "import matplotlib.pyplot as plt\n",
    "import seaborn as sns"
   ]
  },
  {
   "cell_type": "code",
   "execution_count": 2,
   "metadata": {
    "id": "SH-gGWE99WOw"
   },
   "outputs": [],
   "source": [
    "def offline_opt(budget, size):\n",
    "    # return [budget / np.sum(size) * size[i] for i in range(len(size))]\n",
    "    return [budget / np.sum(size) for i in range(len(size))]"
   ]
  },
  {
   "cell_type": "code",
   "execution_count": 3,
   "metadata": {
    "id": "qGVx3RY49WOx"
   },
   "outputs": [],
   "source": [
    "# def hope_online(budget, size, mean):\n",
    "#     # initialize allocation vector\n",
    "#     allocation = np.zeros(len(size))\n",
    "#     budget_remaining = budget\n",
    "\n",
    "#     c = 1\n",
    "\n",
    "#     conf_bnd = c*np.sqrt(np.mean(mean)*len(size)*np.log(len(size)))\n",
    "\n",
    "#     thresh = budget / (size[0] + np.sum(mean[1:]) + np.sqrt(np.log(len(size)-1) * (len(size)-1)))\n",
    "\n",
    "#     for i in range(len(allocation)):\n",
    "#        # allocation[i] = min(budget_remaining, thresh * size[i])\n",
    "#         allocation[i] = min(budget_remaining / size[i], thresh)\n",
    "#         budget_remaining -= allocation[i] * size[i]\n",
    "#     return allocation"
   ]
  },
  {
   "cell_type": "code",
   "execution_count": null,
   "metadata": {},
   "outputs": [],
   "source": []
  },
  {
   "cell_type": "code",
   "execution_count": 4,
   "metadata": {
    "id": "M0ihc2Q-9WOx"
   },
   "outputs": [],
   "source": [
    "def hope_full(budget, size, mean):\n",
    "    allocation = np.zeros(len(size))\n",
    "    budget_remaining = budget\n",
    "    \n",
    "    c = 1\n",
    "    conf_bnd = (np.sum(mean[1:]))**(0.6) #c*np.sqrt(np.sum(mean)* np.log(len(size)-1)) \n",
    "\n",
    "    thresh_lower = budget / (size[0] + np.sum(mean[1:]) + conf_bnd)\n",
    "    thresh_upper = budget / (size[0] + np.sum(mean[1:]) - conf_bnd)\n",
    "\n",
    "    for i in range(len(allocation)-1):\n",
    "        # TODO: add on confidence terms for (T - i) people here\n",
    "        #rem = len(allocation) - (i + 1)\n",
    "        budget_upper = thresh_upper*(size[i] + np.sum(mean[i+1:])) # + c*np.sqrt(rem * np.log(rem)))\n",
    "        budget_lower = thresh_lower*(size[i] + np.sum(mean[i+1:])) # + c*np.sqrt(rem * np.log(rem)))\n",
    "\n",
    "        gam = (budget_remaining - budget_lower) / (budget_upper - budget_lower)\n",
    "        \n",
    "        if gam >= 0.95: allocation[i] = thresh_upper\n",
    "        else: allocation[i] = thresh_lower\n",
    "        \n",
    "        if allocation[i] * size[i] <= budget_remaining:\n",
    "            budget_remaining -= allocation[i] * size[i]\n",
    "        else:\n",
    "            allocation[i] = budget_remaining/size[i]\n",
    "            budget_remaining = 0\n",
    "\n",
    "        if budget_remaining < 0:\n",
    "            print(\"Error: Negative Budget\")\n",
    "\n",
    "            \n",
    "    # fix for last agent\n",
    "    allocation[-1] = min(thresh_upper, budget_remaining / size[-1])\n",
    "    \n",
    "    return allocation\n",
    "\n"
   ]
  },
  {
   "cell_type": "code",
   "execution_count": 5,
   "metadata": {
    "id": "REU86rLN9WOz"
   },
   "outputs": [],
   "source": [
    "\n",
    "####### FIXED DEFINITION OF FIXED THRESHOLD WITH NO ADAPTIVE PARTS\n",
    "# \\sqrt{T} waste, \\sqrt{T} L1, 1 / \\sqrt{T} for Linf\n",
    "\n",
    "# def hope_threshold(budget, size, mean):\n",
    "#     allocation = np.zeros(len(size))\n",
    "#     budget_remaining = budget\n",
    "   \n",
    "#     c = 1\n",
    "    \n",
    "#     conf_bnd = c*np.sqrt(np.mean(mean)*len(size)*np.log(len(size)))\n",
    "    \n",
    "#     thresh = budget / (size[0] + np.sum(mean[1:]) + np.sqrt(np.log(len(size)-1) * (len(size)-1)))\n",
    "\n",
    "#     for i in range(len(allocation)):\n",
    "#        # allocation[i] = min(budget_remaining, thresh * size[i])\n",
    "#         allocation[i] = min(budget_remaining / size[i], thresh)\n",
    "#         budget_remaining -= allocation[i] * size[i]\n",
    "#     return allocation\n",
    "\n",
    "\n",
    "##### MODIFIED VERSION WHICH IS GREEDY WHEN POSSIBLE\n",
    "#\n",
    "\n",
    "\n",
    "def hope_threshold(budget, size, mean):\n",
    "    allocation = np.zeros(len(size))\n",
    "    budget_remaining = budget\n",
    "    \n",
    "    \n",
    "    \n",
    "    c = 0.7\n",
    "\n",
    "    rem = len(allocation)\n",
    "    conf_bnd = c*np.sqrt(np.mean(mean)*(rem* np.log(rem))) \n",
    "\n",
    "    # calculates initial thresholds\n",
    "    thresh_lower = budget / (np.sum(size[0]) + np.sum(mean[1:]) + conf_bnd)\n",
    "    thresh_upper = budget / (np.sum(size[0]) + np.sum(mean[1:]) - conf_bnd)  \n",
    "    # print(thresh_lower, thresh_upper)\n",
    "    \n",
    "    for i in range(len(allocation)):\n",
    "    \n",
    "    \n",
    "        rem = len(allocation) - i\n",
    "        conf_bnd = c*np.sqrt(np.mean(mean)*(rem* np.log(rem))) \n",
    "    \n",
    "        \n",
    "        budget_upper = thresh_lower * (np.sum(mean[i+1:]) + conf_bnd)\n",
    "        \n",
    "        \n",
    "        \n",
    "        if budget_remaining / size[i] < thresh_lower:\n",
    "            # print(str(i) + ' giving rest of budget!')\n",
    "            allocation[i] = budget_remaining / size[i]\n",
    "        \n",
    "        elif budget_remaining - size[i] * thresh_upper >= budget_upper:\n",
    "            allocation[i] = thresh_upper\n",
    "\n",
    "        else:\n",
    "            allocation[i] = thresh_lower\n",
    "\n",
    "            \n",
    "        budget_remaining -= allocation[i] * size[i]\n",
    "\n",
    "        \n",
    "    if np.round(budget_remaining, 3) < 0:\n",
    "        print(budget_remaining)\n",
    "        print('Error: Negative Budget')\n",
    "                \n",
    "        \n",
    "    return allocation\n",
    "\n"
   ]
  },
  {
   "cell_type": "code",
   "execution_count": 6,
   "metadata": {},
   "outputs": [],
   "source": [
    "def hope_modified(budget, size, mean):\n",
    "    allocation = np.zeros(len(size))\n",
    "    budget_remaining = budget\n",
    "    \n",
    "    \n",
    "    \n",
    "    c = 0.7\n",
    "\n",
    "    rem = len(allocation)\n",
    "    conf_bnd = c*np.sqrt(np.mean(mean)*(rem* np.log(rem))) \n",
    "\n",
    "\n",
    "    # print(thresh_lower, thresh_upper)\n",
    "    \n",
    "    for i in range(len(allocation)):\n",
    "    \n",
    "    \n",
    "        rem = len(allocation) - i\n",
    "        conf_bnd = c*np.sqrt(np.mean(mean)*(rem* np.log(rem))) \n",
    "        # calculates initial thresholds\n",
    "        thresh_lower = budget / (np.sum(size[0:i+1]) + np.sum(mean[i+1:]) + conf_bnd)\n",
    "        thresh_upper = budget / (np.sum(size[0:i+1]) + np.sum(mean[i+1:]) - conf_bnd)      \n",
    "        \n",
    "        budget_upper = thresh_lower * (np.sum(mean[i+1:]) + conf_bnd)\n",
    "        \n",
    "        \n",
    "        \n",
    "        if budget_remaining / size[i] < thresh_lower:\n",
    "            # print(str(i) + ' giving rest of budget!')\n",
    "            allocation[i] = budget_remaining / size[i]\n",
    "        \n",
    "        elif budget_remaining - size[i] * thresh_upper >= budget_upper:\n",
    "            allocation[i] = thresh_upper\n",
    "\n",
    "        else:\n",
    "            allocation[i] = thresh_lower\n",
    "\n",
    "            \n",
    "        budget_remaining -= allocation[i] * size[i]\n",
    "\n",
    "        \n",
    "    if np.round(budget_remaining, 3) < 0:\n",
    "        print(budget_remaining)\n",
    "        print('Error: Negative Budget')\n",
    "                \n",
    "        \n",
    "    return allocation"
   ]
  },
  {
   "cell_type": "markdown",
   "metadata": {
    "id": "yL7gqoap9WOz"
   },
   "source": [
    "### Test"
   ]
  },
  {
   "cell_type": "code",
   "execution_count": 7,
   "metadata": {
    "colab": {
     "base_uri": "https://localhost:8080/"
    },
    "id": "gy3JIOR09WO0",
    "outputId": "e2bf4da6-9822-4580-cda4-c503ef7c768c"
   },
   "outputs": [
    {
     "name": "stdout",
     "output_type": "stream",
     "text": [
      "9.0\n"
     ]
    }
   ],
   "source": [
    "n = 6\n",
    "sorted_distribution = np.asarray([np.arange(2) + 1 for x in range(n)])\n",
    "weights = np.asarray([np.zeros(2)+0.5 for x in range(n)])\n",
    "mean = [np.dot(weights[i], sorted_distribution[i]) for i in range(n)]\n",
    "\n",
    "expected_demand = 1.5\n",
    "budget = n * expected_demand\n",
    "print(budget)"
   ]
  },
  {
   "cell_type": "code",
   "execution_count": 8,
   "metadata": {
    "colab": {
     "base_uri": "https://localhost:8080/"
    },
    "id": "7IJVsaSj9WO2",
    "outputId": "94ffbc74-a299-4429-c183-887e6b14a98f",
    "scrolled": true
   },
   "outputs": [
    {
     "name": "stdout",
     "output_type": "stream",
     "text": [
      "[[0.5 0.5]\n",
      " [0.5 0.5]\n",
      " [0.5 0.5]\n",
      " [0.5 0.5]\n",
      " [0.5 0.5]\n",
      " [0.5 0.5]]\n"
     ]
    }
   ],
   "source": [
    "print(weights)"
   ]
  },
  {
   "cell_type": "code",
   "execution_count": 9,
   "metadata": {
    "colab": {
     "base_uri": "https://localhost:8080/"
    },
    "id": "BqPPi-qg9WO3",
    "outputId": "defec691-b0c2-47c4-8ab6-c604c285b1b7",
    "scrolled": true
   },
   "outputs": [
    {
     "name": "stdout",
     "output_type": "stream",
     "text": [
      "[[1 2]\n",
      " [1 2]\n",
      " [1 2]\n",
      " [1 2]\n",
      " [1 2]\n",
      " [1 2]]\n"
     ]
    }
   ],
   "source": [
    "print(sorted_distribution)"
   ]
  },
  {
   "cell_type": "code",
   "execution_count": 10,
   "metadata": {
    "id": "En0g8PeH9WO4"
   },
   "outputs": [],
   "source": [
    "size = [2., 1., 1., 1., 2., 1.]"
   ]
  },
  {
   "cell_type": "code",
   "execution_count": 11,
   "metadata": {
    "colab": {
     "base_uri": "https://localhost:8080/"
    },
    "id": "CpEsbp3J9WO5",
    "outputId": "5632738e-7dea-4dab-8e8c-03d46c0f34cd"
   },
   "outputs": [
    {
     "data": {
      "text/plain": [
       "6"
      ]
     },
     "execution_count": 11,
     "metadata": {},
     "output_type": "execute_result"
    }
   ],
   "source": [
    "len(size)\n"
   ]
  },
  {
   "cell_type": "code",
   "execution_count": 12,
   "metadata": {
    "colab": {
     "base_uri": "https://localhost:8080/"
    },
    "id": "SGNjqU3C9WO6",
    "outputId": "b94e7ffe-2940-4e56-e1d8-1914cc9718fe"
   },
   "outputs": [
    {
     "name": "stdout",
     "output_type": "stream",
     "text": [
      "[1.125, 1.125, 1.125, 1.125, 1.125, 1.125]\n"
     ]
    }
   ],
   "source": [
    "print(offline_opt(budget, size))"
   ]
  },
  {
   "cell_type": "code",
   "execution_count": 13,
   "metadata": {
    "colab": {
     "base_uri": "https://localhost:8080/"
    },
    "id": "CnXQrdjE9WO6",
    "outputId": "c2027b43-264c-4246-8193-83993b932c0a"
   },
   "outputs": [
    {
     "ename": "NameError",
     "evalue": "name 'hope_online' is not defined",
     "output_type": "error",
     "traceback": [
      "\u001b[0;31m---------------------------------------------------------------------------\u001b[0m",
      "\u001b[0;31mNameError\u001b[0m                                 Traceback (most recent call last)",
      "\u001b[0;32m<ipython-input-13-45aa94b7f944>\u001b[0m in \u001b[0;36m<module>\u001b[0;34m()\u001b[0m\n\u001b[0;32m----> 1\u001b[0;31m \u001b[0mprint\u001b[0m\u001b[0;34m(\u001b[0m\u001b[0mhope_online\u001b[0m\u001b[0;34m(\u001b[0m\u001b[0mbudget\u001b[0m\u001b[0;34m,\u001b[0m \u001b[0msize\u001b[0m\u001b[0;34m,\u001b[0m \u001b[0mmean\u001b[0m\u001b[0;34m)\u001b[0m\u001b[0;34m)\u001b[0m\u001b[0;34m\u001b[0m\u001b[0m\n\u001b[0m",
      "\u001b[0;31mNameError\u001b[0m: name 'hope_online' is not defined"
     ]
    }
   ],
   "source": [
    "print(hope_online(budget, size, mean))"
   ]
  },
  {
   "cell_type": "code",
   "execution_count": null,
   "metadata": {
    "colab": {
     "base_uri": "https://localhost:8080/"
    },
    "id": "d6ZEyy5q9WO6",
    "outputId": "7136ca3c-73d7-47d9-c8d5-9d1b306be591"
   },
   "outputs": [],
   "source": [
    "print(hope_full(budget, size, mean))"
   ]
  },
  {
   "cell_type": "code",
   "execution_count": null,
   "metadata": {
    "colab": {
     "base_uri": "https://localhost:8080/"
    },
    "id": "_0mxVTMu9WO7",
    "outputId": "225b3618-81e2-4d2b-dee1-387e5197e414",
    "scrolled": true
   },
   "outputs": [],
   "source": [
    "print(hope_modified(budget, size, mean))"
   ]
  },
  {
   "cell_type": "code",
   "execution_count": null,
   "metadata": {
    "colab": {
     "base_uri": "https://localhost:8080/"
    },
    "id": "J7uKS9Kt9WO7",
    "outputId": "aa5b0f3e-eccc-423d-a644-a1fcc714c8f1"
   },
   "outputs": [],
   "source": [
    "print(np.sum(hope_threshold(budget, size, mean)))"
   ]
  },
  {
   "cell_type": "markdown",
   "metadata": {
    "id": "D4xFOfJD9WO-"
   },
   "source": [
    "### Scaling with n"
   ]
  },
  {
   "cell_type": "code",
   "execution_count": null,
   "metadata": {
    "colab": {
     "base_uri": "https://localhost:8080/"
    },
    "id": "7O-U6Sg7qwFG",
    "outputId": "ab210aa7-b6ee-4a23-f7a7-90822b9957db"
   },
   "outputs": [],
   "source": [
    "#np.random.choice(size=5, a=[1.,2.], p=[1/2, 1/2])\n",
    "1+np.random.poisson(size=5,lam = 1.5)"
   ]
  },
  {
   "cell_type": "code",
   "execution_count": null,
   "metadata": {
    "colab": {
     "base_uri": "https://localhost:8080/",
     "height": 66,
     "referenced_widgets": [
      "36ca590cba264640a22e62c749911634",
      "c309b4d717224f22ba2a472838426f1c",
      "7c118dd92afd40bdb96e78e194187aaa",
      "0826e304dfb44e79bcb87eacd4fc54af",
      "27facd22fa4940419bbf78205189a910",
      "d7797e1819f541428d0c53bdc72448bd",
      "300bf685668b413fbf12bcf6d498eb40",
      "90ac6004a9f94293830616abe6f5910b"
     ]
    },
    "id": "JIYCYuR39WO-",
    "outputId": "a2fab5d7-5f41-4abc-ab19-3aee3473ef51"
   },
   "outputs": [],
   "source": [
    "data_dict = {'NumGroups':[], 'Norm':[], 'Fixed_Threshold':[], 'Hope_Sid':[], 'Adapt_Threshold':[], 'Adapt_Init_Threshold':[]}\n",
    "\n",
    "num_iterations = 20\n",
    "max_n = 100\n",
    "\n",
    "mean_size = 1.5\n",
    "\n",
    "for n in tqdm(np.arange(2,max_n+1)):\n",
    "    expected_size = np.zeros(n) + mean_size\n",
    "    budget = n\n",
    "    \n",
    "    for i in range(num_iterations):\n",
    "        \n",
    "        data_dict['NumGroups'].append(n)\n",
    "        \n",
    "        size = np.random.choice(size=n, a=[1.,2.], p=[1/2, 1/2])\n",
    "        # size = 1+np.random.poisson(size=n,lam = mean_size-1)\n",
    "        opt = offline_opt(budget, size)\n",
    "        hope_on = hope_online(budget, size, expected_size)\n",
    "        hope_ful = hope_full(budget, size, expected_size)\n",
    "        hope_mod = hope_modified(budget, size, expected_size)\n",
    "        hope_thresh = hope_threshold(budget, size, expected_size)\n",
    "     \n",
    "        data_dict['Norm'].append('L1')\n",
    "        data_dict['Fixed_Threshold'].append(np.sum(np.absolute(opt - hope_on)))\n",
    "        data_dict['Hope_Sid'].append(np.sum(np.absolute(opt-hope_ful)))\n",
    "        data_dict['Adapt_Threshold'].append(np.sum(np.absolute(opt-hope_mod)))\n",
    "        data_dict['Adapt_Init_Threshold'].append(np.sum(np.absolute(opt-hope_thresh)))\n",
    "        # data_dict['Waste_Calc'].append(0)\n",
    "\n",
    "        data_dict['NumGroups'].append(n)\n",
    "        data_dict['Norm'].append('Linf')\n",
    "        data_dict['Fixed_Threshold'].append(np.max(np.absolute(opt - hope_on)))\n",
    "        data_dict['Hope_Sid'].append(np.max(np.absolute(opt-hope_ful)))\n",
    "        data_dict['Adapt_Threshold'].append(np.max(np.absolute(opt-hope_mod)))\n",
    "        data_dict['Adapt_Init_Threshold'].append(np.max(np.absolute(opt-hope_thresh)))\n",
    "        # data_dict['Waste_Calc'].append(0)\n",
    "        \n",
    "        data_dict['NumGroups'].append(n)\n",
    "        data_dict['Norm'].append('Waste')\n",
    "        data_dict['Fixed_Threshold'].append(budget - np.dot(hope_on, size))\n",
    "        data_dict['Hope_Sid'].append(budget - np.dot(hope_ful,size))\n",
    "        data_dict['Adapt_Threshold'].append(budget - np.dot(hope_mod, size))\n",
    "        data_dict['Adapt_Init_Threshold'].append(budget - np.dot(hope_thresh, size))\n",
    "        \n",
    "        rem = n\n",
    "        c = 0.7\n",
    "        conf_bnd = c*np.sqrt(np.mean(mean)*(rem* np.log(rem))) \n",
    "\n",
    "        # calculates initial thresholds\n",
    "        thresh_lower = budget / (np.sum(size[0]) + np.sum(mean[1:]) + conf_bnd)\n",
    "        thresh_upper = budget / (np.sum(size[0]) + np.sum(mean[1:]) - conf_bnd)  \n",
    "\n",
    "    \n",
    "        # data_dict['Waste_Calc'].append(min(0, budget - np.sum(size)*thresh_lower))\n",
    "    sleep(0)"
   ]
  },
  {
   "cell_type": "code",
   "execution_count": null,
   "metadata": {
    "colab": {
     "base_uri": "https://localhost:8080/",
     "height": 1000
    },
    "id": "ppinbYK_9WO-",
    "outputId": "4647630b-9c85-4147-9c25-b2136306a551"
   },
   "outputs": [],
   "source": [
    "df = pd.DataFrame(data_dict).melt(id_vars=[\"NumGroups\", 'Norm'])\n",
    "# df.to_csv('scale_with_n.csv')\n",
    "df.columns\n",
    "\n",
    "\n",
    "#filled_markers = ('o', 'v', '^', '<', '>', '8', 's', 'p', '*', 'h', 'H', 'D', 'd', 'P', 'X')\n",
    "#plt.figure(figsize=(20,10))\n",
    "#plt.title('Simple Distribution L1')\n",
    "#sns.lineplot(x='NumGroups', y='value', hue='variable', data=df[df.Norm == 'L1'])\n",
    "\n",
    "filled_markers = ('o', 'v', '^', '<', '>', '8', 's', 'p', '*', 'h', 'H', 'D', 'd', 'P', 'X')\n",
    "plt.figure(figsize=(16,8))\n",
    "plt.title('Simple Distribution LInf')\n",
    "sns.lineplot(x='NumGroups', y='value', hue='variable', data=df[df.Norm == 'Linf'], ci=None)\n",
    "\n",
    "\n",
    "filled_markers = ('o', 'v', '^', '<', '>', '8', 's', 'p', '*', 'h', 'H', 'D', 'd', 'P', 'X')\n",
    "plt.figure(figsize=(16,8))\n",
    "plt.title('Simple Distribution Waste')\n",
    "sns.lineplot(x='NumGroups', y='value', hue='variable', data=df[df.Norm == 'Waste'], ci=None)\n"
   ]
  },
  {
   "cell_type": "markdown",
   "metadata": {
    "id": "iYWsXi6m9WO_"
   },
   "source": [
    "### Group by Group Difference"
   ]
  },
  {
   "cell_type": "code",
   "execution_count": null,
   "metadata": {
    "colab": {
     "base_uri": "https://localhost:8080/",
     "height": 66,
     "referenced_widgets": [
      "4e3df20dc731444784fbb4f33643c67e",
      "ce55ee73b0294da8b008c516617bb09b",
      "f50a3476dbe9482eaf390029e4a4e70b",
      "1d1e6bc1cc0d4db79933ad5d148ef50f",
      "cc8e9e3f2a984a0c843c6a8738b78d1b",
      "1020cc0308f1474e80421ae282221863",
      "01a0cc0c9f3f4971ab0ceee36e4aedc3",
      "ddcd260ceee148658115f2be978953bf"
     ]
    },
    "id": "wi1qi7iL9WO_",
    "outputId": "6b04ebb5-8bbd-4118-b431-eb9bfe023244"
   },
   "outputs": [],
   "source": [
    "n = 100\n",
    "num_iterations = 100\n",
    "\n",
    "mean_size = 1.5\n",
    "expected_size = np.zeros(n) + mean_size\n",
    "group = np.arange(n)\n",
    "budget = n\n",
    "group = np.arange(n)\n",
    "\n",
    "score_hope_online = np.zeros((n,num_iterations))\n",
    "score_hope_full = np.zeros((n,num_iterations))\n",
    "score_hope_modified = np.zeros((n, num_iterations))\n",
    "score_hope_threshold = np.zeros((n, num_iterations))\n",
    "\n",
    "for i in tqdm(range(num_iterations)):\n",
    "    # size = 1. + np.random.poisson(size=n,lam = mean_size-1)\n",
    "    size = np.random.choice(size=n, a=[1.,2.], p=[1/2, 1/2])\n",
    "    opt = offline_opt(budget, size)\n",
    "    hope_on = hope_online(budget, size, expected_size)\n",
    "    hope_ful = hope_full(budget, size, expected_size)\n",
    "    hope_mod = hope_modified(budget, size, expected_size)\n",
    "    hope_thresh = hope_threshold(budget, size, expected_size)\n",
    "    \n",
    "    # comparing hope_online\n",
    "    \n",
    "    score_hope_online[:,i]    = opt - hope_on\n",
    "    score_hope_full[:,i]      = opt - hope_ful\n",
    "    score_hope_modified[:,i]  = opt - hope_mod\n",
    "    score_hope_threshold[:,i] = opt - hope_thresh\n",
    "    sleep(0)"
   ]
  },
  {
   "cell_type": "code",
   "execution_count": null,
   "metadata": {},
   "outputs": [],
   "source": [
    "size"
   ]
  },
  {
   "cell_type": "code",
   "execution_count": null,
   "metadata": {},
   "outputs": [],
   "source": [
    "np.max(np.abs(score_hope_online), axis=0).shape"
   ]
  },
  {
   "cell_type": "code",
   "execution_count": null,
   "metadata": {},
   "outputs": [],
   "source": []
  },
  {
   "cell_type": "code",
   "execution_count": null,
   "metadata": {
    "colab": {
     "base_uri": "https://localhost:8080/",
     "height": 588
    },
    "id": "C1Mvs2w49WO_",
    "outputId": "566536a5-0ba9-44a1-a5c0-f5342c9609a7"
   },
   "outputs": [],
   "source": [
    "data_dict = {'Agent':group, 'Zero': np.zeros(n), 'Fixed_Threshold': np.average(score_hope_online, axis=1), 'Hope_Sid':np.average(score_hope_full, axis=1), 'Adap_Threshold':np.average(score_hope_modified, axis=1), 'Adapt_Init_Threshold':np.average(score_hope_threshold, axis=1)}\n",
    "df_uniform = pd.DataFrame(data_dict).melt(id_vars=\"Agent\")\n",
    "\n",
    "plt.figure(figsize=(20,10))\n",
    "sns.lineplot(x='Agent', y='value', hue = 'variable', data=df_uniform)\n",
    "plt.title('Allocation Difference')\n",
    "plt.xlabel('Value')\n",
    "plt.plot()"
   ]
  },
  {
   "cell_type": "markdown",
   "metadata": {},
   "source": [
    "Note: Discrepancy is between where max and average are between this plot and the other one."
   ]
  },
  {
   "cell_type": "code",
   "execution_count": null,
   "metadata": {},
   "outputs": [],
   "source": [
    "d = {'Fixed_Threshold': np.average(np.max(np.abs(score_hope_online), axis=0)), 'Hope_Sid':np.average(np.max(np.abs(score_hope_full), axis=0)), 'Adap_Threshold':np.average(np.max(np.abs(score_hope_modified), axis=0)), 'Adapt_Init_Threshold':np.average(np.max(np.abs(score_hope_threshold), axis=0))}"
   ]
  },
  {
   "cell_type": "code",
   "execution_count": null,
   "metadata": {},
   "outputs": [],
   "source": [
    "d"
   ]
  }
 ],
 "metadata": {
  "colab": {
   "collapsed_sections": [],
   "name": "Copy of test simulations.ipynb",
   "provenance": []
  },
  "kernelspec": {
   "display_name": "Python 3",
   "language": "python",
   "name": "python3"
  },
  "language_info": {
   "codemirror_mode": {
    "name": "ipython",
    "version": 3
   },
   "file_extension": ".py",
   "mimetype": "text/x-python",
   "name": "python",
   "nbconvert_exporter": "python",
   "pygments_lexer": "ipython3",
   "version": "3.6.5"
  },
  "widgets": {
   "application/vnd.jupyter.widget-state+json": {
    "01a0cc0c9f3f4971ab0ceee36e4aedc3": {
     "model_module": "@jupyter-widgets/controls",
     "model_name": "DescriptionStyleModel",
     "state": {
      "_model_module": "@jupyter-widgets/controls",
      "_model_module_version": "1.5.0",
      "_model_name": "DescriptionStyleModel",
      "_view_count": null,
      "_view_module": "@jupyter-widgets/base",
      "_view_module_version": "1.2.0",
      "_view_name": "StyleView",
      "description_width": ""
     }
    },
    "0826e304dfb44e79bcb87eacd4fc54af": {
     "model_module": "@jupyter-widgets/controls",
     "model_name": "HTMLModel",
     "state": {
      "_dom_classes": [],
      "_model_module": "@jupyter-widgets/controls",
      "_model_module_version": "1.5.0",
      "_model_name": "HTMLModel",
      "_view_count": null,
      "_view_module": "@jupyter-widgets/controls",
      "_view_module_version": "1.5.0",
      "_view_name": "HTMLView",
      "description": "",
      "description_tooltip": null,
      "layout": "IPY_MODEL_90ac6004a9f94293830616abe6f5910b",
      "placeholder": "​",
      "style": "IPY_MODEL_300bf685668b413fbf12bcf6d498eb40",
      "value": " 99/99 [00:53&lt;00:00,  1.87it/s]"
     }
    },
    "1020cc0308f1474e80421ae282221863": {
     "model_module": "@jupyter-widgets/base",
     "model_name": "LayoutModel",
     "state": {
      "_model_module": "@jupyter-widgets/base",
      "_model_module_version": "1.2.0",
      "_model_name": "LayoutModel",
      "_view_count": null,
      "_view_module": "@jupyter-widgets/base",
      "_view_module_version": "1.2.0",
      "_view_name": "LayoutView",
      "align_content": null,
      "align_items": null,
      "align_self": null,
      "border": null,
      "bottom": null,
      "display": null,
      "flex": null,
      "flex_flow": null,
      "grid_area": null,
      "grid_auto_columns": null,
      "grid_auto_flow": null,
      "grid_auto_rows": null,
      "grid_column": null,
      "grid_gap": null,
      "grid_row": null,
      "grid_template_areas": null,
      "grid_template_columns": null,
      "grid_template_rows": null,
      "height": null,
      "justify_content": null,
      "justify_items": null,
      "left": null,
      "margin": null,
      "max_height": null,
      "max_width": null,
      "min_height": null,
      "min_width": null,
      "object_fit": null,
      "object_position": null,
      "order": null,
      "overflow": null,
      "overflow_x": null,
      "overflow_y": null,
      "padding": null,
      "right": null,
      "top": null,
      "visibility": null,
      "width": null
     }
    },
    "1d1e6bc1cc0d4db79933ad5d148ef50f": {
     "model_module": "@jupyter-widgets/controls",
     "model_name": "HTMLModel",
     "state": {
      "_dom_classes": [],
      "_model_module": "@jupyter-widgets/controls",
      "_model_module_version": "1.5.0",
      "_model_name": "HTMLModel",
      "_view_count": null,
      "_view_module": "@jupyter-widgets/controls",
      "_view_module_version": "1.5.0",
      "_view_name": "HTMLView",
      "description": "",
      "description_tooltip": null,
      "layout": "IPY_MODEL_ddcd260ceee148658115f2be978953bf",
      "placeholder": "​",
      "style": "IPY_MODEL_01a0cc0c9f3f4971ab0ceee36e4aedc3",
      "value": " 1000/1000 [00:06&lt;00:00, 163.48it/s]"
     }
    },
    "27facd22fa4940419bbf78205189a910": {
     "model_module": "@jupyter-widgets/controls",
     "model_name": "ProgressStyleModel",
     "state": {
      "_model_module": "@jupyter-widgets/controls",
      "_model_module_version": "1.5.0",
      "_model_name": "ProgressStyleModel",
      "_view_count": null,
      "_view_module": "@jupyter-widgets/base",
      "_view_module_version": "1.2.0",
      "_view_name": "StyleView",
      "bar_color": null,
      "description_width": "initial"
     }
    },
    "300bf685668b413fbf12bcf6d498eb40": {
     "model_module": "@jupyter-widgets/controls",
     "model_name": "DescriptionStyleModel",
     "state": {
      "_model_module": "@jupyter-widgets/controls",
      "_model_module_version": "1.5.0",
      "_model_name": "DescriptionStyleModel",
      "_view_count": null,
      "_view_module": "@jupyter-widgets/base",
      "_view_module_version": "1.2.0",
      "_view_name": "StyleView",
      "description_width": ""
     }
    },
    "36ca590cba264640a22e62c749911634": {
     "model_module": "@jupyter-widgets/controls",
     "model_name": "HBoxModel",
     "state": {
      "_dom_classes": [],
      "_model_module": "@jupyter-widgets/controls",
      "_model_module_version": "1.5.0",
      "_model_name": "HBoxModel",
      "_view_count": null,
      "_view_module": "@jupyter-widgets/controls",
      "_view_module_version": "1.5.0",
      "_view_name": "HBoxView",
      "box_style": "",
      "children": [
       "IPY_MODEL_7c118dd92afd40bdb96e78e194187aaa",
       "IPY_MODEL_0826e304dfb44e79bcb87eacd4fc54af"
      ],
      "layout": "IPY_MODEL_c309b4d717224f22ba2a472838426f1c"
     }
    },
    "4e3df20dc731444784fbb4f33643c67e": {
     "model_module": "@jupyter-widgets/controls",
     "model_name": "HBoxModel",
     "state": {
      "_dom_classes": [],
      "_model_module": "@jupyter-widgets/controls",
      "_model_module_version": "1.5.0",
      "_model_name": "HBoxModel",
      "_view_count": null,
      "_view_module": "@jupyter-widgets/controls",
      "_view_module_version": "1.5.0",
      "_view_name": "HBoxView",
      "box_style": "",
      "children": [
       "IPY_MODEL_f50a3476dbe9482eaf390029e4a4e70b",
       "IPY_MODEL_1d1e6bc1cc0d4db79933ad5d148ef50f"
      ],
      "layout": "IPY_MODEL_ce55ee73b0294da8b008c516617bb09b"
     }
    },
    "7c118dd92afd40bdb96e78e194187aaa": {
     "model_module": "@jupyter-widgets/controls",
     "model_name": "FloatProgressModel",
     "state": {
      "_dom_classes": [],
      "_model_module": "@jupyter-widgets/controls",
      "_model_module_version": "1.5.0",
      "_model_name": "FloatProgressModel",
      "_view_count": null,
      "_view_module": "@jupyter-widgets/controls",
      "_view_module_version": "1.5.0",
      "_view_name": "ProgressView",
      "bar_style": "success",
      "description": "100%",
      "description_tooltip": null,
      "layout": "IPY_MODEL_d7797e1819f541428d0c53bdc72448bd",
      "max": 99,
      "min": 0,
      "orientation": "horizontal",
      "style": "IPY_MODEL_27facd22fa4940419bbf78205189a910",
      "value": 99
     }
    },
    "90ac6004a9f94293830616abe6f5910b": {
     "model_module": "@jupyter-widgets/base",
     "model_name": "LayoutModel",
     "state": {
      "_model_module": "@jupyter-widgets/base",
      "_model_module_version": "1.2.0",
      "_model_name": "LayoutModel",
      "_view_count": null,
      "_view_module": "@jupyter-widgets/base",
      "_view_module_version": "1.2.0",
      "_view_name": "LayoutView",
      "align_content": null,
      "align_items": null,
      "align_self": null,
      "border": null,
      "bottom": null,
      "display": null,
      "flex": null,
      "flex_flow": null,
      "grid_area": null,
      "grid_auto_columns": null,
      "grid_auto_flow": null,
      "grid_auto_rows": null,
      "grid_column": null,
      "grid_gap": null,
      "grid_row": null,
      "grid_template_areas": null,
      "grid_template_columns": null,
      "grid_template_rows": null,
      "height": null,
      "justify_content": null,
      "justify_items": null,
      "left": null,
      "margin": null,
      "max_height": null,
      "max_width": null,
      "min_height": null,
      "min_width": null,
      "object_fit": null,
      "object_position": null,
      "order": null,
      "overflow": null,
      "overflow_x": null,
      "overflow_y": null,
      "padding": null,
      "right": null,
      "top": null,
      "visibility": null,
      "width": null
     }
    },
    "c309b4d717224f22ba2a472838426f1c": {
     "model_module": "@jupyter-widgets/base",
     "model_name": "LayoutModel",
     "state": {
      "_model_module": "@jupyter-widgets/base",
      "_model_module_version": "1.2.0",
      "_model_name": "LayoutModel",
      "_view_count": null,
      "_view_module": "@jupyter-widgets/base",
      "_view_module_version": "1.2.0",
      "_view_name": "LayoutView",
      "align_content": null,
      "align_items": null,
      "align_self": null,
      "border": null,
      "bottom": null,
      "display": null,
      "flex": null,
      "flex_flow": null,
      "grid_area": null,
      "grid_auto_columns": null,
      "grid_auto_flow": null,
      "grid_auto_rows": null,
      "grid_column": null,
      "grid_gap": null,
      "grid_row": null,
      "grid_template_areas": null,
      "grid_template_columns": null,
      "grid_template_rows": null,
      "height": null,
      "justify_content": null,
      "justify_items": null,
      "left": null,
      "margin": null,
      "max_height": null,
      "max_width": null,
      "min_height": null,
      "min_width": null,
      "object_fit": null,
      "object_position": null,
      "order": null,
      "overflow": null,
      "overflow_x": null,
      "overflow_y": null,
      "padding": null,
      "right": null,
      "top": null,
      "visibility": null,
      "width": null
     }
    },
    "cc8e9e3f2a984a0c843c6a8738b78d1b": {
     "model_module": "@jupyter-widgets/controls",
     "model_name": "ProgressStyleModel",
     "state": {
      "_model_module": "@jupyter-widgets/controls",
      "_model_module_version": "1.5.0",
      "_model_name": "ProgressStyleModel",
      "_view_count": null,
      "_view_module": "@jupyter-widgets/base",
      "_view_module_version": "1.2.0",
      "_view_name": "StyleView",
      "bar_color": null,
      "description_width": "initial"
     }
    },
    "ce55ee73b0294da8b008c516617bb09b": {
     "model_module": "@jupyter-widgets/base",
     "model_name": "LayoutModel",
     "state": {
      "_model_module": "@jupyter-widgets/base",
      "_model_module_version": "1.2.0",
      "_model_name": "LayoutModel",
      "_view_count": null,
      "_view_module": "@jupyter-widgets/base",
      "_view_module_version": "1.2.0",
      "_view_name": "LayoutView",
      "align_content": null,
      "align_items": null,
      "align_self": null,
      "border": null,
      "bottom": null,
      "display": null,
      "flex": null,
      "flex_flow": null,
      "grid_area": null,
      "grid_auto_columns": null,
      "grid_auto_flow": null,
      "grid_auto_rows": null,
      "grid_column": null,
      "grid_gap": null,
      "grid_row": null,
      "grid_template_areas": null,
      "grid_template_columns": null,
      "grid_template_rows": null,
      "height": null,
      "justify_content": null,
      "justify_items": null,
      "left": null,
      "margin": null,
      "max_height": null,
      "max_width": null,
      "min_height": null,
      "min_width": null,
      "object_fit": null,
      "object_position": null,
      "order": null,
      "overflow": null,
      "overflow_x": null,
      "overflow_y": null,
      "padding": null,
      "right": null,
      "top": null,
      "visibility": null,
      "width": null
     }
    },
    "d7797e1819f541428d0c53bdc72448bd": {
     "model_module": "@jupyter-widgets/base",
     "model_name": "LayoutModel",
     "state": {
      "_model_module": "@jupyter-widgets/base",
      "_model_module_version": "1.2.0",
      "_model_name": "LayoutModel",
      "_view_count": null,
      "_view_module": "@jupyter-widgets/base",
      "_view_module_version": "1.2.0",
      "_view_name": "LayoutView",
      "align_content": null,
      "align_items": null,
      "align_self": null,
      "border": null,
      "bottom": null,
      "display": null,
      "flex": null,
      "flex_flow": null,
      "grid_area": null,
      "grid_auto_columns": null,
      "grid_auto_flow": null,
      "grid_auto_rows": null,
      "grid_column": null,
      "grid_gap": null,
      "grid_row": null,
      "grid_template_areas": null,
      "grid_template_columns": null,
      "grid_template_rows": null,
      "height": null,
      "justify_content": null,
      "justify_items": null,
      "left": null,
      "margin": null,
      "max_height": null,
      "max_width": null,
      "min_height": null,
      "min_width": null,
      "object_fit": null,
      "object_position": null,
      "order": null,
      "overflow": null,
      "overflow_x": null,
      "overflow_y": null,
      "padding": null,
      "right": null,
      "top": null,
      "visibility": null,
      "width": null
     }
    },
    "ddcd260ceee148658115f2be978953bf": {
     "model_module": "@jupyter-widgets/base",
     "model_name": "LayoutModel",
     "state": {
      "_model_module": "@jupyter-widgets/base",
      "_model_module_version": "1.2.0",
      "_model_name": "LayoutModel",
      "_view_count": null,
      "_view_module": "@jupyter-widgets/base",
      "_view_module_version": "1.2.0",
      "_view_name": "LayoutView",
      "align_content": null,
      "align_items": null,
      "align_self": null,
      "border": null,
      "bottom": null,
      "display": null,
      "flex": null,
      "flex_flow": null,
      "grid_area": null,
      "grid_auto_columns": null,
      "grid_auto_flow": null,
      "grid_auto_rows": null,
      "grid_column": null,
      "grid_gap": null,
      "grid_row": null,
      "grid_template_areas": null,
      "grid_template_columns": null,
      "grid_template_rows": null,
      "height": null,
      "justify_content": null,
      "justify_items": null,
      "left": null,
      "margin": null,
      "max_height": null,
      "max_width": null,
      "min_height": null,
      "min_width": null,
      "object_fit": null,
      "object_position": null,
      "order": null,
      "overflow": null,
      "overflow_x": null,
      "overflow_y": null,
      "padding": null,
      "right": null,
      "top": null,
      "visibility": null,
      "width": null
     }
    },
    "f50a3476dbe9482eaf390029e4a4e70b": {
     "model_module": "@jupyter-widgets/controls",
     "model_name": "FloatProgressModel",
     "state": {
      "_dom_classes": [],
      "_model_module": "@jupyter-widgets/controls",
      "_model_module_version": "1.5.0",
      "_model_name": "FloatProgressModel",
      "_view_count": null,
      "_view_module": "@jupyter-widgets/controls",
      "_view_module_version": "1.5.0",
      "_view_name": "ProgressView",
      "bar_style": "success",
      "description": "100%",
      "description_tooltip": null,
      "layout": "IPY_MODEL_1020cc0308f1474e80421ae282221863",
      "max": 1000,
      "min": 0,
      "orientation": "horizontal",
      "style": "IPY_MODEL_cc8e9e3f2a984a0c843c6a8738b78d1b",
      "value": 1000
     }
    }
   }
  }
 },
 "nbformat": 4,
 "nbformat_minor": 1
}
