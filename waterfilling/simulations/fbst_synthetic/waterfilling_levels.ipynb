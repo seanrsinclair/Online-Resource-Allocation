{
 "cells": [
  {
   "cell_type": "markdown",
   "metadata": {},
   "source": [
    "# Waterfilling Levels"
   ]
  },
  {
   "cell_type": "code",
   "execution_count": null,
   "metadata": {},
   "outputs": [],
   "source": [
    "import sys\n",
    "sys.path.insert(1, '../../functions')\n",
    "import importlib\n",
    "import numpy as np\n",
    "import nbformat\n",
    "import plotly.express\n",
    "import plotly.express as px\n",
    "import pandas as pd\n",
    "import scipy.optimize as optimization\n",
    "import food_bank_functions\n",
    "import food_bank_bayesian\n",
    "import matplotlib.pyplot as plt\n",
    "import seaborn as sns\n",
    "from food_bank_functions import *\n",
    "from food_bank_bayesian import *\n",
    "importlib.reload(food_bank_functions)\n",
    "\n",
    "np.random.seed(1)"
   ]
  },
  {
   "cell_type": "markdown",
   "metadata": {},
   "source": [
    "### Plotting the distribution"
   ]
  },
  {
   "cell_type": "code",
   "execution_count": null,
   "metadata": {},
   "outputs": [],
   "source": [
    "vals = np.loadtxt('../../data/fbst_synthetic/vals.csv', delimiter=\",\")\n",
    "support = np.loadtxt('../../data/fbst_synthetic/support.csv', delimiter=\",\")"
   ]
  },
  {
   "cell_type": "code",
   "execution_count": null,
   "metadata": {},
   "outputs": [],
   "source": [
    "print(vals)\n",
    "print(support)"
   ]
  },
  {
   "cell_type": "code",
   "execution_count": null,
   "metadata": {},
   "outputs": [],
   "source": [
    "print(vals.shape)"
   ]
  },
  {
   "cell_type": "code",
   "execution_count": null,
   "metadata": {},
   "outputs": [],
   "source": [
    "i=0\n",
    "plt.plot(support[i], vals[i])"
   ]
  },
  {
   "cell_type": "markdown",
   "metadata": {},
   "source": [
    "### Combining the Supports"
   ]
  },
  {
   "cell_type": "code",
   "execution_count": null,
   "metadata": {},
   "outputs": [],
   "source": [
    "flat_support = support.flatten()\n",
    "flat_vals = vals.flatten()\n",
    "print(flat_support)\n",
    "print(flat_vals)"
   ]
  },
  {
   "cell_type": "code",
   "execution_count": null,
   "metadata": {},
   "outputs": [],
   "source": [
    "new_support, inverse_index = np.unique(flat_support, return_index=True)"
   ]
  },
  {
   "cell_type": "code",
   "execution_count": null,
   "metadata": {},
   "outputs": [],
   "source": [
    "print(new_support)"
   ]
  },
  {
   "cell_type": "code",
   "execution_count": null,
   "metadata": {},
   "outputs": [],
   "source": [
    "print(inverse_index)"
   ]
  },
  {
   "cell_type": "code",
   "execution_count": null,
   "metadata": {},
   "outputs": [],
   "source": [
    "print(flat_support[84])"
   ]
  },
  {
   "cell_type": "code",
   "execution_count": null,
   "metadata": {},
   "outputs": [],
   "source": []
  },
  {
   "cell_type": "code",
   "execution_count": null,
   "metadata": {},
   "outputs": [],
   "source": [
    "print(new_support)"
   ]
  },
  {
   "cell_type": "code",
   "execution_count": null,
   "metadata": {},
   "outputs": [],
   "source": [
    "new_weights = np.zeros((6, len(new_support)))\n",
    "for i in range(new_weights.shape[0]):\n",
    "    print('TOWN ' + str(i))\n",
    "    print(support[i,:])\n",
    "    print(vals[i,:])\n",
    "    for j in range(new_weights.shape[1]):\n",
    "        obs = new_support[j]\n",
    "        if obs in support[i, :]:\n",
    "            print('found value: ' + str(obs))\n",
    "            new_index = np.argmin(np.abs(new_support - obs))\n",
    "            old_index = np.argmin(np.abs(support[i,:] - obs))\n",
    "            new_weights[i, new_index] += vals[i, old_index]"
   ]
  },
  {
   "cell_type": "code",
   "execution_count": null,
   "metadata": {},
   "outputs": [],
   "source": [
    "for i in range(6):\n",
    "    print(np.sum(new_weights[i,:]))"
   ]
  },
  {
   "cell_type": "code",
   "execution_count": null,
   "metadata": {},
   "outputs": [],
   "source": [
    "i = 1\n",
    "plt.plot(new_support, new_weights[i,:])"
   ]
  },
  {
   "cell_type": "code",
   "execution_count": null,
   "metadata": {},
   "outputs": [],
   "source": [
    "weights = new_weights\n",
    "print(weights)"
   ]
  },
  {
   "cell_type": "code",
   "execution_count": null,
   "metadata": {},
   "outputs": [],
   "source": [
    "support = new_support\n",
    "print(support)"
   ]
  },
  {
   "cell_type": "code",
   "execution_count": null,
   "metadata": {},
   "outputs": [],
   "source": [
    "support.shape"
   ]
  },
  {
   "cell_type": "code",
   "execution_count": null,
   "metadata": {},
   "outputs": [],
   "source": [
    "weights.shape"
   ]
  },
  {
   "cell_type": "markdown",
   "metadata": {},
   "source": [
    "### Test"
   ]
  },
  {
   "cell_type": "code",
   "execution_count": null,
   "metadata": {},
   "outputs": [],
   "source": [
    "n = 6\n",
    "expected_demand = np.zeros(n)\n",
    "for i in range(n):\n",
    "    expected_demand[i] = np.dot(weights[i,:], support)\n",
    "print(expected_demand)\n",
    "max_budget = np.sum(expected_demand)"
   ]
  },
  {
   "cell_type": "code",
   "execution_count": null,
   "metadata": {},
   "outputs": [],
   "source": [
    "print(max_budget)"
   ]
  },
  {
   "cell_type": "code",
   "execution_count": null,
   "metadata": {},
   "outputs": [],
   "source": [
    "np.sum(vals)"
   ]
  },
  {
   "cell_type": "code",
   "execution_count": null,
   "metadata": {},
   "outputs": [],
   "source": [
    "group_demands = np.zeros(n)\n",
    "for i in range(n):\n",
    "    group_demands[i] = np.random.choice(a=support, p=weights[i,:])\n",
    "print(group_demands)"
   ]
  },
  {
   "cell_type": "code",
   "execution_count": null,
   "metadata": {},
   "outputs": [],
   "source": [
    "print(waterfilling_waste(group_demands, max_budget))"
   ]
  },
  {
   "cell_type": "code",
   "execution_count": null,
   "metadata": {},
   "outputs": [],
   "source": [
    "print(greedy(group_demands, max_budget))"
   ]
  },
  {
   "cell_type": "code",
   "execution_count": null,
   "metadata": {},
   "outputs": [],
   "source": [
    "# print(constant_threshold(group_demands,max_budget,expected_demand))"
   ]
  },
  {
   "cell_type": "code",
   "execution_count": null,
   "metadata": {
    "scrolled": true
   },
   "outputs": [],
   "source": [
    "print(waterfilling_proportional_remaining(group_demands, max_budget))"
   ]
  },
  {
   "cell_type": "code",
   "execution_count": null,
   "metadata": {},
   "outputs": [],
   "source": [
    "print(waterfilling_et_waste(expected_demand,group_demands,max_budget))"
   ]
  },
  {
   "cell_type": "code",
   "execution_count": null,
   "metadata": {},
   "outputs": [],
   "source": [
    "print(waterfilling_et_full_waste(expected_demand,group_demands,max_budget))"
   ]
  },
  {
   "cell_type": "code",
   "execution_count": null,
   "metadata": {},
   "outputs": [],
   "source": [
    "print(waterfilling_hope_waste(weights, support, group_demands, max_budget))"
   ]
  },
  {
   "cell_type": "code",
   "execution_count": null,
   "metadata": {},
   "outputs": [],
   "source": [
    "print(waterfilling_hope_full_waste(weights, support, group_demands, max_budget))"
   ]
  },
  {
   "cell_type": "code",
   "execution_count": null,
   "metadata": {},
   "outputs": [],
   "source": [
    "med = np.zeros(n)\n",
    "var = np.zeros(n)\n",
    "for i in range(n):\n",
    "    med[i] = median(support, weights[i,:])\n",
    "    var[i] = variance(support, weights[i,:])"
   ]
  },
  {
   "cell_type": "code",
   "execution_count": null,
   "metadata": {},
   "outputs": [],
   "source": [
    "print(var)"
   ]
  },
  {
   "cell_type": "code",
   "execution_count": null,
   "metadata": {},
   "outputs": [],
   "source": [
    "print(max_min_heuristic(group_demands, med, expected_demand, var, max_budget))"
   ]
  },
  {
   "cell_type": "markdown",
   "metadata": {},
   "source": [
    "# Experiments"
   ]
  },
  {
   "cell_type": "markdown",
   "metadata": {},
   "source": [
    "### Calculating Fairness Statistics\n"
   ]
  },
  {
   "cell_type": "code",
   "execution_count": null,
   "metadata": {},
   "outputs": [],
   "source": [
    "expected_threshold = 0\n",
    "for _ in range(1000):\n",
    "    for i in range(n):\n",
    "        group_demands[i] = np.random.choice(a=support, p=weights[i,:])\n",
    "    opt = waterfilling_waste(group_demands,budget)\n",
    "    expected_threshold += (1/1000)*max(opt)"
   ]
  },
  {
   "cell_type": "code",
   "execution_count": null,
   "metadata": {},
   "outputs": [],
   "source": [
    "print(expected_threshold)"
   ]
  },
  {
   "cell_type": "code",
   "execution_count": null,
   "metadata": {},
   "outputs": [],
   "source": [
    "print(support)"
   ]
  },
  {
   "cell_type": "code",
   "execution_count": null,
   "metadata": {},
   "outputs": [],
   "source": [
    "num_iterations = 1000\n",
    "n=6\n",
    "sorted_distribution = support"
   ]
  },
  {
   "cell_type": "code",
   "execution_count": null,
   "metadata": {},
   "outputs": [],
   "source": [
    "group = np.arange(n)\n",
    "group_expected_demands = expected_demand\n",
    "budget = np.sum(expected_demand)\n",
    "score_hope_online = np.zeros((n,num_iterations))\n",
    "score_hope_full = np.zeros((n,num_iterations))\n",
    "score_et_online = np.zeros((n,num_iterations))\n",
    "score_et_full = np.zeros((n,num_iterations))\n",
    "score_greedy = np.zeros((n,num_iterations))\n",
    "score_adapt_threshold = np.zeros((n,num_iterations))\n",
    "score_fixed_threshold = np.zeros((n,num_iterations))\n",
    "score_expect_threshold = np.zeros((n, num_iterations))\n",
    "score_max_min = np.zeros((n, num_iterations))\n",
    "\n",
    "# 8 different algorithms\n",
    "env = np.zeros((9,num_iterations))\n",
    "po = np.zeros((9,num_iterations))\n",
    "prop = np.zeros((9,num_iterations))\n",
    "linf = np.zeros((9,num_iterations))\n",
    "l1 = np.zeros((9, num_iterations))\n",
    "max_min = np.zeros((9, num_iterations))\n",
    "for i in range(num_iterations):\n",
    "    budget = np.sum(expected_demand)\n",
    "\n",
    "        \n",
    "    for j in range(n):\n",
    "        group_demands[j] = np.random.choice(a=support, p=weights[j,:])\n",
    "    group_median_demands = med\n",
    "    group_variance = var\n",
    "    \n",
    "\n",
    "    \n",
    "    opt = waterfilling_waste(group_demands,budget)\n",
    "\n",
    "\n",
    "    \n",
    "    hope_sol = waterfilling_hope_waste(weights, support, group_demands, budget)\n",
    "    \n",
    "\n",
    "    \n",
    "    hope_full_sol = waterfilling_hope_full_waste(weights, support, group_demands, budget)\n",
    "    dynamic = waterfilling_et_waste(group_expected_demands,group_demands,budget)\n",
    "    et_full = waterfilling_et_full_waste(group_expected_demands, group_demands, budget)\n",
    "    proportional_threshold = waterfilling_proportional_remaining(group_demands, budget)\n",
    "    greedy_sol = greedy(group_demands,budget)\n",
    "    threshold = constant_threshold(group_demands,budget, budget / n)\n",
    "    expect_threshold = constant_threshold(group_demands, budget, expected_threshold)\n",
    "    max_min_heuristic_sol = max_min_heuristic(group_demands, group_median_demands, group_expected_demands, group_variance, budget)\n",
    "\n",
    "    # comparing hope_online\n",
    "    \n",
    "    score_hope_online[:,i] = opt - hope_sol\n",
    "    env[0,i] = max(0,np.amax(envy_utility(hope_sol,group_demands)))\n",
    "    po[0,i] = excess(hope_sol,budget)\n",
    "    prop[0,i] = np.amax(proportionality_utility(hope_sol,group_demands,budget))\n",
    "    max_min[0,i] = np.min(utility_ratio(hope_sol, group_demands, budget))\n",
    "    linf[0,i] = np.amax(np.abs(score_hope_online[:,i]))\n",
    "    l1[0,i] = np.sum(np.abs(score_hope_online[:,i]))\n",
    "    \n",
    "    \n",
    "    # comparing hope_full\n",
    "    \n",
    "    score_hope_full[:,i] = opt - hope_full_sol\n",
    "    env[1,i] = max(0,np.amax(envy_utility(hope_full_sol,group_demands)))\n",
    "    po[1,i] = excess(hope_full_sol,budget)\n",
    "    prop[1,i] = np.amax(proportionality_utility(hope_full_sol,group_demands,budget))\n",
    "    max_min[1,i] = np.min(utility_ratio(hope_full_sol, group_demands, budget))\n",
    "    linf[1,i] = np.amax(np.abs(score_hope_full[:,i]))\n",
    "    l1[1, i] = np.sum(np.abs(score_hope_full[:,i]))\n",
    "    \n",
    "    \n",
    "    # comparing et_online\n",
    "    \n",
    "    score_et_online[:,i] = opt - dynamic\n",
    "    env[2,i] = max(0,np.amax(envy_utility(dynamic,group_demands)))\n",
    "    po[2,i] = excess(dynamic,budget)\n",
    "    prop[2,i] = np.amax(proportionality_utility(dynamic,group_demands,budget))\n",
    "    max_min[2,i] = np.min(utility_ratio(dynamic, group_demands, budget))\n",
    "    linf[2,i] = np.amax(np.abs(score_et_online[:,i]))\n",
    "    l1[2,i] = np.sum(np.abs(score_et_online[:,i]))\n",
    "    \n",
    "    \n",
    "    # comparing et_full\n",
    "    \n",
    "    score_et_full[:,i] = opt - et_full\n",
    "    env[3,i] = max(0,np.amax(envy_utility(et_full,group_demands)))\n",
    "    po[3,i] = excess(et_full,budget)\n",
    "    prop[3,i] = np.amax(proportionality_utility(et_full,group_demands,budget))\n",
    "    max_min[3,i] = np.min(utility_ratio(et_full, group_demands, budget))\n",
    "    linf[3,i] = np.amax(np.abs(score_et_full[:,i]))\n",
    "    l1[3,i] = np.sum(np.abs(score_et_full[:,i]))\n",
    "    \n",
    "    \n",
    "    # comparing greedy\n",
    "    \n",
    "    score_greedy[:,i] = opt - greedy_sol\n",
    "    env[4,i] = max(0,np.amax(envy_utility(greedy_sol,group_demands)))\n",
    "    po[4,i] = excess(greedy_sol,budget)\n",
    "    prop[4,i] = np.amax(proportionality_utility(greedy_sol,group_demands,budget))\n",
    "    max_min[4,i] = np.min(utility_ratio(greedy_sol, group_demands, budget))\n",
    "    linf[4,i] = np.amax(np.abs(score_greedy[:,i]))\n",
    "    l1[4,i] = np.sum(np.abs(score_greedy[:,i]))\n",
    "    \n",
    "    # comparing fixed_threshold\n",
    "    \n",
    "    score_fixed_threshold[:,i] = opt - threshold\n",
    "    env[5,i] = max(0,np.amax(envy_utility(threshold,group_demands)))\n",
    "    po[5,i] = excess(threshold,budget)\n",
    "    prop[5,i] = np.amax(proportionality_utility(threshold,group_demands,budget))\n",
    "    max_min[5,i] = np.min(utility_ratio(threshold, group_demands, budget))\n",
    "    linf[5,i] = np.amax(np.abs(score_fixed_threshold[:,i]))    \n",
    "    l1[5,i] = np.sum(np.abs(score_fixed_threshold[:,i]))\n",
    "    \n",
    "    \n",
    "    # comparing adaptive_threshold\n",
    "    \n",
    "    score_adapt_threshold[:,i] = opt - proportional_threshold\n",
    "    env[6,i] = max(0,np.amax(envy_utility(proportional_threshold,group_demands)))\n",
    "    po[6,i] = excess(proportional_threshold,budget)\n",
    "    prop[6,i] = np.amax(proportionality_utility(proportional_threshold,group_demands,budget))\n",
    "    max_min[6,i] = np.min(utility_ratio(proportional_threshold, group_demands, budget))\n",
    "    linf[6,i] = np.amax(np.abs(score_adapt_threshold[:,i]))    \n",
    "    l1[6,i] = np.sum(np.abs(score_adapt_threshold[:,i]))\n",
    "\n",
    "    # comparing expected_threshold\n",
    "    \n",
    "    score_expect_threshold[:,i] = opt - expect_threshold\n",
    "    env[7,i] = max(0,np.amax(envy_utility(expect_threshold,group_demands)))\n",
    "    po[7,i] = excess(expect_threshold,budget)\n",
    "    prop[7,i] = np.amax(proportionality_utility(expect_threshold,group_demands,budget))\n",
    "    max_min[7,i] = np.min(utility_ratio(expect_threshold, group_demands, budget))\n",
    "    linf[7,i] = np.amax(np.abs(score_expect_threshold[:,i]))   \n",
    "    l1[7,i] = np.sum(np.abs(score_expect_threshold[:,i]))\n",
    "    \n",
    "\n",
    "    # comparing max_min_heurstic\n",
    "    \n",
    "    score_max_min[:,i] = opt - max_min_heuristic_sol\n",
    "    env[8,i] = max(0,np.amax(envy_utility(max_min_heuristic_sol,group_demands)))\n",
    "    po[8,i] = excess(max_min_heuristic_sol,budget)\n",
    "    prop[8,i] = np.amax(proportionality_utility(max_min_heuristic_sol,group_demands,budget))\n",
    "    max_min[8,i] = np.min(utility_ratio(max_min_heuristic_sol, group_demands, budget))\n",
    "    linf[8,i] = np.amax(np.abs(score_max_min[:,i])) \n",
    "    l1[8,i] = np.sum(np.abs(score_max_min[:,i]))"
   ]
  },
  {
   "cell_type": "code",
   "execution_count": null,
   "metadata": {},
   "outputs": [],
   "source": []
  },
  {
   "cell_type": "code",
   "execution_count": null,
   "metadata": {},
   "outputs": [],
   "source": [
    "score_hope_online = np.average(score_hope_online, axis=1)\n",
    "score_hope_full = np.average(score_hope_full, axis=1)\n",
    "score_et_online = np.average(score_et_online, axis=1)\n",
    "score_et_full = np.average(score_et_full, axis=1)\n",
    "score_greedy = np.average(score_greedy, axis=1)\n",
    "score_adapt_threshold = np.average(score_adapt_threshold, axis=1)\n",
    "score_fixed_threshold = np.average(score_fixed_threshold, axis=1)\n",
    "score_expect_threshold = np.average(score_expect_threshold, axis=1)\n",
    "score_max_min = np.average(score_max_min, axis=1)\n",
    "\n",
    "env_std = np.std(env, axis=1)\n",
    "po_std = np.std(po, axis=1)\n",
    "prop_std = np.std(prop, axis=1)\n",
    "linf_std = np.std(linf, axis=1)\n",
    "l1_std = np.std(l1, axis=1)\n",
    "max_min_std = np.std(max_min, axis=1)\n",
    "\n",
    "\n",
    "env = np.average(env,axis=1)\n",
    "po = np.average(po,axis=1)\n",
    "prop = np.average(prop,axis=1)\n",
    "linf = np.average(linf,axis=1)\n",
    "l1 = np.average(l1, axis=1)\n",
    "max_min = np.average(max_min, axis=1)"
   ]
  },
  {
   "cell_type": "code",
   "execution_count": null,
   "metadata": {},
   "outputs": [],
   "source": [
    "print(env)"
   ]
  },
  {
   "cell_type": "code",
   "execution_count": null,
   "metadata": {},
   "outputs": [],
   "source": [
    "print(po)"
   ]
  },
  {
   "cell_type": "code",
   "execution_count": null,
   "metadata": {},
   "outputs": [],
   "source": [
    "print(prop)"
   ]
  },
  {
   "cell_type": "code",
   "execution_count": null,
   "metadata": {},
   "outputs": [],
   "source": [
    "print(max_min)"
   ]
  },
  {
   "cell_type": "code",
   "execution_count": null,
   "metadata": {},
   "outputs": [],
   "source": [
    "print(linf)"
   ]
  },
  {
   "cell_type": "code",
   "execution_count": null,
   "metadata": {},
   "outputs": [],
   "source": [
    "print('hope_online, hope_full, et_online, et_full, greedy, fixed_threshold, adaptive_threshold, expected_threshold, max_min')\n",
    "print('envy:')\n",
    "print(env)\n",
    "print(env_std * 1.96 / np.sqrt(num_iterations))\n",
    "print('po')\n",
    "print(po)\n",
    "print(po_std * 1.96 / np.sqrt(num_iterations))\n",
    "print('prop')\n",
    "print(prop)\n",
    "print(prop_std * 1.96 / np.sqrt(num_iterations))\n",
    "print('sum')\n",
    "print(env+po+prop)\n",
    "print('max_min')\n",
    "print(max_min)\n",
    "print(max_min_std * 1.96 / np.sqrt(num_iterations))\n",
    "print('linf')\n",
    "print(linf)\n",
    "print(linf_std * 1.96 / np.sqrt(num_iterations))\n",
    "print('l1')\n",
    "print(l1)\n",
    "print(l1_std * 1.96 / np.sqrt(num_iterations))"
   ]
  },
  {
   "cell_type": "code",
   "execution_count": null,
   "metadata": {},
   "outputs": [],
   "source": [
    "data_dict = {'Group':group, 'hope_Online': score_hope_online, 'hope_Full':score_hope_full, 'et_Online':score_et_online, 'et_Full':score_et_full, 'Greedy':score_greedy, 'Adapt_Threshold': score_adapt_threshold, 'Fixed_Threshold': score_fixed_threshold, 'Expect_Threshold':score_expect_threshold, 'Max_Min_Heuristic':score_max_min}\n",
    "df_uniform = pd.DataFrame(data_dict).melt(id_vars=\"Group\")"
   ]
  },
  {
   "cell_type": "code",
   "execution_count": null,
   "metadata": {},
   "outputs": [],
   "source": [
    "df_uniform.columns"
   ]
  },
  {
   "cell_type": "code",
   "execution_count": null,
   "metadata": {},
   "outputs": [],
   "source": [
    "df_uniform.to_csv('fairness_group_by_group.csv')"
   ]
  },
  {
   "cell_type": "code",
   "execution_count": null,
   "metadata": {},
   "outputs": [],
   "source": [
    "plt.figure(figsize=(20,10))\n",
    "sns.lineplot(x='Group', y='value', hue = 'variable', data=df_uniform)\n",
    "plt.title('Estimated Waterfilling Levels')\n",
    "plt.xlabel('Estimated Level')"
   ]
  }
 ],
 "metadata": {
  "kernelspec": {
   "display_name": "Python 3 (ipykernel)",
   "language": "python",
   "name": "python3"
  },
  "language_info": {
   "codemirror_mode": {
    "name": "ipython",
    "version": 3
   },
   "file_extension": ".py",
   "mimetype": "text/x-python",
   "name": "python",
   "nbconvert_exporter": "python",
   "pygments_lexer": "ipython3",
   "version": "3.9.6"
  }
 },
 "nbformat": 4,
 "nbformat_minor": 2
}
