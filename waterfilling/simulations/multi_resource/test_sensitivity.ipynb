{
 "cells": [
  {
   "cell_type": "markdown",
   "metadata": {},
   "source": [
    "# Waterfilling Levels"
   ]
  },
  {
   "cell_type": "code",
   "execution_count": 5,
   "metadata": {},
   "outputs": [],
   "source": [
    "import sys\n",
    "import importlib\n",
    "import numpy as np\n",
    "import pandas as pd\n",
    "import matplotlib.pyplot as plt\n",
    "import seaborn as sns\n",
    "import time\n",
    "import cvxpy as cp\n",
    "\n",
    "# importlib.reload(food_bank_functions)"
   ]
  },
  {
   "cell_type": "code",
   "execution_count": 6,
   "metadata": {},
   "outputs": [],
   "source": [
    "def generate_cvxpy_solve(num_types, num_resources):\n",
    "    x = cp.Variable(shape=(num_types,num_resources))\n",
    "\n",
    "    sizes = cp.Parameter(num_types, nonneg=True)\n",
    "    weights = cp.Parameter((num_types, num_resources), nonneg=True)\n",
    "    budget = cp.Parameter(num_resources, nonneg=True)\n",
    "\n",
    "\n",
    "    objective = cp.Maximize(cp.log(cp.sum(cp.multiply(x, weights), axis=1)) @ sizes)\n",
    "\n",
    "\n",
    "    constraints = []\n",
    "    constraints += [0 <= x]\n",
    "    for i in range(num_resources):\n",
    "        constraints += [x[:, i] @ sizes <= budget[i]]\n",
    "    constraints += [x @ sizes <= budget]\n",
    "\n",
    "    prob = cp.Problem(objective, constraints)\n",
    "    \n",
    "    def solver(true_sizes, true_weights, true_budget):\n",
    "        sizes.value = true_sizes\n",
    "        weights.value = true_weights\n",
    "        budget.value = true_budget\n",
    "        \n",
    "        prob.solve()\n",
    "        \n",
    "        return prob.value, x.value\n",
    "    \n",
    "    return prob, solver"
   ]
  },
  {
   "cell_type": "markdown",
   "metadata": {},
   "source": [
    "### Test"
   ]
  },
  {
   "cell_type": "code",
   "execution_count": 7,
   "metadata": {},
   "outputs": [
    {
     "data": {
      "text/plain": [
       "(1.0641477147538018e-09,\n",
       " array([[0.50000001, 0.49999999],\n",
       "        [0.49999999, 0.50000001]]))"
      ]
     },
     "execution_count": 7,
     "metadata": {},
     "output_type": "execute_result"
    }
   ],
   "source": [
    "prob, solver = generate_cvxpy_solve(2, 2)\n",
    "\n",
    "solver(np.asarray([1., 1.]), np.asarray([[1,1],[1,1]]), np.asarray([1,1]))"
   ]
  },
  {
   "cell_type": "markdown",
   "metadata": {},
   "source": [
    "### Plot Sensitivity"
   ]
  },
  {
   "cell_type": "code",
   "execution_count": 11,
   "metadata": {},
   "outputs": [
    {
     "name": "stdout",
     "output_type": "stream",
     "text": [
      "Calculating difference in allocations for: 0.5\n",
      "Sizes: ([1.0, 1.0], [0.5, 0.5], [1.5, 1.5])\n",
      "Solutions: (array([[1., 1.],\n",
      "       [1., 1.]]), array([[2., 2.],\n",
      "       [2., 2.]]), array([[0.66667814, 0.66665519],\n",
      "       [0.66665519, 0.66667814]]))\n",
      "Objective Values: (1.3862943608168272, 1.3862943595465607, 0.8630462191813028)\n",
      "Testing Budget Constraint: \n",
      "[ True  True]\n",
      "Testing Monotonicity:\n",
      "[[ True  True]\n",
      " [ True  True]]\n",
      "[[ True  True]\n",
      " [ True  True]]\n",
      "[0.5] [1.] [0.33334481]\n"
     ]
    },
    {
     "name": "stderr",
     "output_type": "stream",
     "text": [
      "c:\\users\\seanr\\anaconda3\\envs\\food-bank\\lib\\site-packages\\cvxpy\\reductions\\solvers\\solving_chain.py:163: UserWarning: You are solving a parameterized problem that is not DPP. Because the problem is not DPP, subsequent solves will not be faster than the first one. For more information, see the documentation on Discplined Parametrized Programming, at\n",
      "\thttps://www.cvxpy.org/tutorial/advanced/index.html#disciplined-parametrized-programming\n",
      "  warnings.warn(dpp_error_msg)\n"
     ]
    },
    {
     "data": {
      "text/plain": [
       "[<matplotlib.lines.Line2D at 0x1ab974a8b88>]"
      ]
     },
     "execution_count": 11,
     "metadata": {},
     "output_type": "execute_result"
    },
    {
     "data": {
      "image/png": "[encoded data removed]",
      "text/plain": [
       "<Figure size 432x288 with 1 Axes>"
      ]
     },
     "metadata": {
      "needs_background": "light"
     },
     "output_type": "display_data"
    }
   ],
   "source": [
    "eps = 0.05\n",
    "\n",
    "delta_list = [.5]\n",
    "y1 = np.zeros(len(delta_list))\n",
    "y2 = np.zeros(len(delta_list))\n",
    "\n",
    "prob, solver = generate_cvxpy_solve(2, 2)\n",
    "true_weights = np.asarray([[1., 1.],[1., 1.]])\n",
    "true_budget = [2., 2.]\n",
    "\n",
    "\n",
    "index = 0\n",
    "for delta in delta_list:\n",
    "    print('Calculating difference in allocations for: ' + str(delta))\n",
    "    sizes_1 = [1., 1.]\n",
    "    sizes_2 = [1-delta, 1-delta]\n",
    "    sizes_3 = [1+delta, 1+delta]\n",
    "    \n",
    "    print('Sizes: ' + str((sizes_1, sizes_2, sizes_3)))\n",
    "          \n",
    "    v1, x_1 = solver(sizes_1, true_weights, true_budget)\n",
    "    v2, x_2 = solver(sizes_2, true_weights, true_budget)\n",
    "    v3, x_3 = solver(sizes_3, true_weights, true_budget)\n",
    "    \n",
    "    print('Solutions: ' + str((x_1, x_2, x_3)))\n",
    "    print('Objective Values: ' + str((v1, v2, v3)))\n",
    "    \n",
    "    print('Testing Budget Constraint: ')\n",
    "    print(sizes_1 @ x_1 <= true_budget)\n",
    "    \n",
    "    print('Testing Monotonicity:')\n",
    "    print(x_1 <= x_2)\n",
    "    print(x_1 >= x_3)\n",
    "    y1[index] = np.max(np.abs(x_1 - x_2))\n",
    "    y2[index] = np.max(np.abs(x_1 - x_3))\n",
    "    index += 1\n",
    "    \n",
    "print(delta_list, y1, y2)\n",
    "plt.plot(delta_list, y1)\n",
    "plt.plot(delta_list, y2)"
   ]
  }
 ],
 "metadata": {
  "kernelspec": {
   "display_name": "Python 3",
   "language": "python",
   "name": "python3"
  },
  "language_info": {
   "codemirror_mode": {
    "name": "ipython",
    "version": 3
   },
   "file_extension": ".py",
   "mimetype": "text/x-python",
   "name": "python",
   "nbconvert_exporter": "python",
   "pygments_lexer": "ipython3",
   "version": "3.7.7"
  }
 },
 "nbformat": 4,
 "nbformat_minor": 2
}
