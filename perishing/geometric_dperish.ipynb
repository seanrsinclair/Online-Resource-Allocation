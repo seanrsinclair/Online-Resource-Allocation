{
 "cells": [
  {
   "cell_type": "code",
   "execution_count": 2,
   "metadata": {},
   "outputs": [],
   "source": [
    "import warnings;\n",
    "warnings.filterwarnings('ignore');\n",
    "\n",
    "from time import sleep\n",
    "from tqdm.auto import tqdm\n",
    "\n",
    "import sys\n",
    "import importlib\n",
    "import numpy as np\n",
    "import nbformat\n",
    "# import plotly.express\n",
    "# import plotly.express as px\n",
    "import pandas as pd\n",
    "import cvxpy as cp\n",
    "import scipy.optimize as optimization\n",
    "import matplotlib.pyplot as plt\n",
    "import seaborn as sns\n",
    "import helper\n",
    "import algorithms\n",
    "\n",
    "from matplotlib.lines import Line2D\n",
    "\n",
    "from scipy.optimize import curve_fit\n",
    "\n"
   ]
  },
  {
   "cell_type": "code",
   "execution_count": 5,
   "metadata": {},
   "outputs": [],
   "source": [
    "num_iterations = 1000\n",
    "\n",
    "file_name = 'geometric_dperish'\n",
    "\n",
    "mean_size = 2\n",
    "var_size = .1\n",
    "\n",
    "num_groups = 150\n",
    "\n",
    "EPS = 0.005\n",
    "\n",
    "alpha_grid = np.arange(0, 1+EPS, EPS)\n"
   ]
  },
  {
   "cell_type": "code",
   "execution_count": 6,
   "metadata": {},
   "outputs": [],
   "source": [
    "def demand_dist(n, mean_size, var_size=.1):\n",
    "    size = np.maximum(0, np.random.normal(loc=mean_size, scale=np.sqrt(var_size), size=n))\n",
    "    return size"
   ]
  },
  {
   "cell_type": "code",
   "execution_count": 12,
   "metadata": {},
   "outputs": [
    {
     "name": "stdout",
     "output_type": "stream",
     "text": [
      "Parameter alpha: 0.0\n",
      "N: 150, dPerish: 0.4800000000000004\n",
      "Parameter alpha: 0.005\n"
     ]
    },
    {
     "ename": "KeyboardInterrupt",
     "evalue": "",
     "output_type": "error",
     "traceback": [
      "\u001b[0;31m---------------------------------------------------------------------------\u001b[0m",
      "\u001b[0;31mKeyboardInterrupt\u001b[0m                         Traceback (most recent call last)",
      "Cell \u001b[0;32mIn[12], line 14\u001b[0m\n\u001b[1;32m     11\u001b[0m max_budget \u001b[38;5;241m=\u001b[39m mean_size\u001b[38;5;241m*\u001b[39mn\n\u001b[1;32m     12\u001b[0m order \u001b[38;5;241m=\u001b[39m np\u001b[38;5;241m.\u001b[39marange(\u001b[38;5;241m0\u001b[39m,max_budget,\u001b[38;5;241m1\u001b[39m)\n\u001b[0;32m---> 14\u001b[0m offset_prob \u001b[38;5;241m=\u001b[39m \u001b[43mhelper\u001b[49m\u001b[38;5;241;43m.\u001b[39;49m\u001b[43mcheck_offset_expiry\u001b[49m\u001b[43m(\u001b[49m\u001b[43mperish_dist\u001b[49m\u001b[43m,\u001b[49m\u001b[43m \u001b[49m\u001b[38;5;28;43;01mlambda\u001b[39;49;00m\u001b[43m \u001b[49m\u001b[43mn\u001b[49m\u001b[43m:\u001b[49m\u001b[43m \u001b[49m\u001b[43mdemand_dist\u001b[49m\u001b[43m(\u001b[49m\u001b[43mn\u001b[49m\u001b[43m,\u001b[49m\u001b[43m \u001b[49m\u001b[43mmean_size\u001b[49m\u001b[43m,\u001b[49m\u001b[43m \u001b[49m\u001b[43mvar_size\u001b[49m\u001b[43m)\u001b[49m\u001b[43m,\u001b[49m\u001b[43m \u001b[49m\u001b[43mn\u001b[49m\u001b[43m,\u001b[49m\u001b[43m \u001b[49m\u001b[43mmax_budget\u001b[49m\u001b[43m)\u001b[49m\n\u001b[1;32m     15\u001b[0m \u001b[38;5;66;03m# print(f' Probability process is offset expiring: {100*offset_prob}')\u001b[39;00m\n\u001b[1;32m     16\u001b[0m \n\u001b[1;32m     17\u001b[0m \u001b[38;5;66;03m# CALCULATES\u001b[39;00m\n\u001b[1;32m     18\u001b[0m n_upper \u001b[38;5;241m=\u001b[39m helper\u001b[38;5;241m.\u001b[39mn_upper(\u001b[38;5;28;01mlambda\u001b[39;00m n: demand_dist(n, mean_size, var_size), n)\n",
      "File \u001b[0;32m~/Documents/GitHub/Online-Resource-Allocation_Private/updated_perishing/helper.py:58\u001b[0m, in \u001b[0;36mcheck_offset_expiry\u001b[0;34m(perish_dist, demand_dist, n, max_budget, num_iters)\u001b[0m\n\u001b[1;32m     56\u001b[0m \u001b[38;5;28;01mfor\u001b[39;00m _ \u001b[38;5;129;01min\u001b[39;00m \u001b[38;5;28mrange\u001b[39m(num_iters):\n\u001b[1;32m     57\u001b[0m     sizes \u001b[38;5;241m=\u001b[39m demand_dist(n)\n\u001b[0;32m---> 58\u001b[0m     resource_perish \u001b[38;5;241m=\u001b[39m np\u001b[38;5;241m.\u001b[39masarray([perish_dist(b,n) \u001b[38;5;28;01mfor\u001b[39;00m b \u001b[38;5;129;01min\u001b[39;00m \u001b[38;5;28mrange\u001b[39m(max_budget)])\n\u001b[1;32m     59\u001b[0m     check_optimality \u001b[38;5;241m=\u001b[39m [(max_budget \u001b[38;5;241m/\u001b[39m np\u001b[38;5;241m.\u001b[39msum(sizes))\u001b[38;5;241m*\u001b[39mnp\u001b[38;5;241m.\u001b[39msum(sizes[:(t\u001b[38;5;241m+\u001b[39m\u001b[38;5;241m1\u001b[39m)]) \n\u001b[1;32m     60\u001b[0m                             \u001b[38;5;241m-\u001b[39m np\u001b[38;5;241m.\u001b[39mcount_nonzero([resource_perish \u001b[38;5;241m<\u001b[39m\u001b[38;5;241m=\u001b[39m t]) \u001b[38;5;28;01mfor\u001b[39;00m t \u001b[38;5;129;01min\u001b[39;00m \u001b[38;5;28mrange\u001b[39m(n)]\n\u001b[1;32m     61\u001b[0m     \u001b[38;5;28;01mif\u001b[39;00m np\u001b[38;5;241m.\u001b[39mmin(check_optimality) \u001b[38;5;241m>\u001b[39m\u001b[38;5;241m=\u001b[39m \u001b[38;5;241m0\u001b[39m: \u001b[38;5;66;03m# checks if B/N is feasible in hindsight\u001b[39;00m\n",
      "File \u001b[0;32m~/Documents/GitHub/Online-Resource-Allocation_Private/updated_perishing/helper.py:58\u001b[0m, in \u001b[0;36m<listcomp>\u001b[0;34m(.0)\u001b[0m\n\u001b[1;32m     56\u001b[0m \u001b[38;5;28;01mfor\u001b[39;00m _ \u001b[38;5;129;01min\u001b[39;00m \u001b[38;5;28mrange\u001b[39m(num_iters):\n\u001b[1;32m     57\u001b[0m     sizes \u001b[38;5;241m=\u001b[39m demand_dist(n)\n\u001b[0;32m---> 58\u001b[0m     resource_perish \u001b[38;5;241m=\u001b[39m np\u001b[38;5;241m.\u001b[39masarray([\u001b[43mperish_dist\u001b[49m\u001b[43m(\u001b[49m\u001b[43mb\u001b[49m\u001b[43m,\u001b[49m\u001b[43mn\u001b[49m\u001b[43m)\u001b[49m \u001b[38;5;28;01mfor\u001b[39;00m b \u001b[38;5;129;01min\u001b[39;00m \u001b[38;5;28mrange\u001b[39m(max_budget)])\n\u001b[1;32m     59\u001b[0m     check_optimality \u001b[38;5;241m=\u001b[39m [(max_budget \u001b[38;5;241m/\u001b[39m np\u001b[38;5;241m.\u001b[39msum(sizes))\u001b[38;5;241m*\u001b[39mnp\u001b[38;5;241m.\u001b[39msum(sizes[:(t\u001b[38;5;241m+\u001b[39m\u001b[38;5;241m1\u001b[39m)]) \n\u001b[1;32m     60\u001b[0m                             \u001b[38;5;241m-\u001b[39m np\u001b[38;5;241m.\u001b[39mcount_nonzero([resource_perish \u001b[38;5;241m<\u001b[39m\u001b[38;5;241m=\u001b[39m t]) \u001b[38;5;28;01mfor\u001b[39;00m t \u001b[38;5;129;01min\u001b[39;00m \u001b[38;5;28mrange\u001b[39m(n)]\n\u001b[1;32m     61\u001b[0m     \u001b[38;5;28;01mif\u001b[39;00m np\u001b[38;5;241m.\u001b[39mmin(check_optimality) \u001b[38;5;241m>\u001b[39m\u001b[38;5;241m=\u001b[39m \u001b[38;5;241m0\u001b[39m: \u001b[38;5;66;03m# checks if B/N is feasible in hindsight\u001b[39;00m\n",
      "Cell \u001b[0;32mIn[12], line 6\u001b[0m, in \u001b[0;36mperish_dist\u001b[0;34m(b, n)\u001b[0m\n\u001b[1;32m      5\u001b[0m \u001b[38;5;28;01mdef\u001b[39;00m \u001b[38;5;21mperish_dist\u001b[39m(b, n):\n\u001b[0;32m----> 6\u001b[0m     val \u001b[38;5;241m=\u001b[39m \u001b[43mnp\u001b[49m\u001b[38;5;241;43m.\u001b[39;49m\u001b[43mminimum\u001b[49m\u001b[43m(\u001b[49m\u001b[43mn\u001b[49m\u001b[43m,\u001b[49m\u001b[43mnp\u001b[49m\u001b[38;5;241;43m.\u001b[39;49m\u001b[43mrandom\u001b[49m\u001b[38;5;241;43m.\u001b[39;49m\u001b[43mgeometric\u001b[49m\u001b[43m(\u001b[49m\u001b[43mp\u001b[49m\u001b[43m \u001b[49m\u001b[38;5;241;43m=\u001b[39;49m\u001b[43m \u001b[49m\u001b[43m(\u001b[49m\u001b[43mn\u001b[49m\u001b[43m)\u001b[49m\u001b[38;5;241;43m*\u001b[39;49m\u001b[38;5;241;43m*\u001b[39;49m\u001b[43m(\u001b[49m\u001b[43m(\u001b[49m\u001b[38;5;241;43m-\u001b[39;49m\u001b[38;5;241;43m1\u001b[39;49m\u001b[43m)\u001b[49m\u001b[38;5;241;43m*\u001b[39;49m\u001b[43m(\u001b[49m\u001b[38;5;241;43m1\u001b[39;49m\u001b[38;5;241;43m+\u001b[39;49m\u001b[43malpha\u001b[49m\u001b[43m)\u001b[49m\u001b[43m)\u001b[49m\u001b[43m)\u001b[49m\u001b[43m)\u001b[49m\n\u001b[1;32m      7\u001b[0m     \u001b[38;5;28;01mreturn\u001b[39;00m val\n",
      "\u001b[0;31mKeyboardInterrupt\u001b[0m: "
     ]
    }
   ],
   "source": [
    "\n",
    "\n",
    "data = []\n",
    "for alpha in alpha_grid:\n",
    "    print(f\"Parameter alpha: {alpha}\")\n",
    "\n",
    "    def perish_dist(b, n):\n",
    "        val = np.minimum(n,np.random.geometric(p = (n)**((-1)*(1+alpha))))\n",
    "        return val\n",
    "        \n",
    "    n = num_groups    \n",
    "\n",
    "    max_budget = mean_size*n\n",
    "    order = np.arange(0,max_budget,1)\n",
    "\n",
    "    offset_prob = helper.check_offset_expiry(perish_dist, lambda n: demand_dist(n, mean_size, var_size), n, max_budget)\n",
    "    # print(f' Probability process is offset expiring: {100*offset_prob}')\n",
    "\n",
    "    # CALCULATES\n",
    "    n_upper = helper.n_upper(lambda n: demand_dist(n, mean_size, var_size), n)\n",
    "    \n",
    "    x_lower_perish = helper.x_lower_line_search(perish_dist, lambda n: demand_dist(n, mean_size, var_size), n, max_budget, n_upper, order)\n",
    "    x_lower_no_perish = (max_budget / n_upper[0])\n",
    "\n",
    "    dperish = (max_budget / n_upper[0]) - x_lower_perish\n",
    "    \n",
    "    # print(f'Necessary X_lower due to perishing: {x_lower_perish} and dperish: {dperish}')\n",
    "    print(f\"N: {n}, dPerish: {dperish}\")\n",
    "\n",
    "    data_dict = {'NumGroups': n, 'Alpha': alpha, 'Epsilon': EPS, 'Allocation': 'X Lower', 'Value': x_lower_perish}\n",
    "    data.append(data_dict)"
   ]
  },
  {
   "cell_type": "code",
   "execution_count": 7,
   "metadata": {},
   "outputs": [],
   "source": [
    "# df = pd.DataFrame.from_records(data)\n",
    "# df.to_csv('./data/'+file_name+'.csv', index=False)\n",
    "df = pd.read_csv('./data/'+file_name+'.csv')"
   ]
  },
  {
   "cell_type": "code",
   "execution_count": 8,
   "metadata": {},
   "outputs": [
    {
     "name": "stdout",
     "output_type": "stream",
     "text": [
      "Alpha\n",
      "0.000    0.426974\n",
      "0.005    0.446724\n",
      "0.010    0.448187\n",
      "0.015    0.457864\n",
      "0.020    0.468443\n",
      "           ...   \n",
      "0.980    0.889864\n",
      "0.985    0.887771\n",
      "0.990    0.888627\n",
      "0.995    0.886969\n",
      "1.000    0.887252\n",
      "Name: Value, Length: 201, dtype: float64\n"
     ]
    }
   ],
   "source": [
    "df_fit = df.groupby('Alpha')['Value'].mean()\n",
    "print(df_fit)\n",
    "\n"
   ]
  },
  {
   "cell_type": "code",
   "execution_count": 10,
   "metadata": {},
   "outputs": [
    {
     "name": "stdout",
     "output_type": "stream",
     "text": [
      "Fitted Parameters: [0.89101413 0.47982043]\n"
     ]
    }
   ],
   "source": [
    "def func(x, a, b):\n",
    "    return a - b * (150**((-1) * x))\n",
    "initial_guess = [0.9, 0.9]\n",
    "\n",
    "params, covariance = curve_fit(func, df_fit.index, df_fit.values, p0=initial_guess)\n",
    "\n",
    "print(\"Fitted Parameters:\", params)\n",
    "\n"
   ]
  },
  {
   "cell_type": "code",
   "execution_count": 13,
   "metadata": {},
   "outputs": [
    {
     "data": {
      "image/png": "[encoded data removed]",
      "text/plain": [
       "<Figure size 720x445 with 1 Axes>"
      ]
     },
     "metadata": {},
     "output_type": "display_data"
    }
   ],
   "source": [
    "eps_val = 0.1\n",
    "\n",
    "plt.style.use('PaperDoubleFig.mplstyle.txt')\n",
    "plt.rc('text.latex', preamble=r'\\usepackage{amsfonts}')\n",
    "plt.rc('text', usetex=True)\n",
    "\n",
    "\n",
    "# Make some style choices for plotting \n",
    "sns.lineplot(x='Alpha', y='Value', data=df, color='red', linewidth=2, \n",
    "            ci = None, label=r'$\\mathrm{\\underline{X}}$')\n",
    "# lower_bound = 1 - 3 * n * (n)**((-1)*(1+alpha_grid)) - ((1/n) * np.log(3*n*np.log(n)))\n",
    "# fit_bound = 0.9 - 0.9*n * (n)**((-1)*(1+alpha_grid))\n",
    "plt.axhline(y=x_lower_no_perish, color='k', linestyle='--')\n",
    "\n",
    "custom_legend_entry = Line2D([0], [0], color='k', linestyle='--', label='$B/\\overline{N}$')\n",
    "\n",
    "plt.plot(alpha_grid, func(alpha_grid, *params), color='g', linewidth=2, label=r'$X = \\frac{B}{\\overline{N}} - 0.47 T^{-\\alpha}$')\n",
    "\n",
    "\n",
    "handles, labels = plt.gca().get_legend_handles_labels()\n",
    "handles.append(custom_legend_entry)\n",
    "labels.append(r'$B/\\overline{N}$')\n",
    "\n",
    "plt.legend(handles=handles, labels=labels)\n",
    "\n",
    "\n",
    "\n",
    "\n",
    "axs = plt.gca()\n",
    "\n",
    "# axs.get_legend().remove() \n",
    "axs.set_ylabel(r'Allocation')\n",
    "axs.set_xlabel(r'$\\alpha$')\n",
    "\n",
    "plt.savefig('./figures/'+file_name+'.pdf', bbox_inches = 'tight',pad_inches = 0.01, dpi=900)\n",
    "plt.show()\n"
   ]
  },
  {
   "cell_type": "code",
   "execution_count": null,
   "metadata": {},
   "outputs": [],
   "source": [
    ")_"
   ]
  }
 ],
 "metadata": {
  "kernelspec": {
   "display_name": "Python 3 (ipykernel)",
   "language": "python",
   "name": "python3"
  },
  "language_info": {
   "codemirror_mode": {
    "name": "ipython",
    "version": 3
   },
   "file_extension": ".py",
   "mimetype": "text/x-python",
   "name": "python",
   "nbconvert_exporter": "python",
   "pygments_lexer": "ipython3",
   "version": "3.8.18"
  }
 },
 "nbformat": 4,
 "nbformat_minor": 4
}
