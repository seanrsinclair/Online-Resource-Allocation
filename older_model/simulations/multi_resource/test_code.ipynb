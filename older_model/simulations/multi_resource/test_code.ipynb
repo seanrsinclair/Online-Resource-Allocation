{
 "cells": [
  {
   "cell_type": "markdown",
   "metadata": {},
   "source": [
    "# Waterfilling Levels"
   ]
  },
  {
   "cell_type": "code",
   "execution_count": 1,
   "metadata": {},
   "outputs": [],
   "source": [
    "import sys\n",
    "sys.path.insert(1, '../../functions_multi_resource')\n",
    "import importlib\n",
    "import numpy as np\n",
    "import nbformat\n",
    "import plotly.express\n",
    "import plotly.express as px\n",
    "import pandas as pd\n",
    "from scipy.optimize import minimize\n",
    "import scipy\n",
    "import matplotlib.pyplot as plt\n",
    "import seaborn as sns\n",
    "from food_bank_functions import *\n",
    "import time\n",
    "# importlib.reload(food_bank_functions)"
   ]
  },
  {
   "cell_type": "code",
   "execution_count": 2,
   "metadata": {},
   "outputs": [],
   "source": [
    "np.random.seed(3435)"
   ]
  },
  {
   "cell_type": "code",
   "execution_count": 3,
   "metadata": {},
   "outputs": [
    {
     "name": "stdout",
     "output_type": "stream",
     "text": [
      "[[1. 0. 0. 0. 2. 0. 0. 0. 3. 0. 0. 0.]\n",
      " [0. 1. 0. 0. 0. 2. 0. 0. 0. 3. 0. 0.]\n",
      " [0. 0. 1. 0. 0. 0. 2. 0. 0. 0. 3. 0.]\n",
      " [0. 0. 0. 1. 0. 0. 0. 2. 0. 0. 0. 3.]]\n"
     ]
    }
   ],
   "source": [
    "n = 3\n",
    "k = 4\n",
    "size = [1., 2., 3.]\n",
    "B = np.zeros((k, n*k))\n",
    "for i in range(n):\n",
    "    B[:,k*i:k*(i+1)] = size[i]*np.eye(k)\n",
    "print(B)"
   ]
  },
  {
   "cell_type": "markdown",
   "metadata": {},
   "source": [
    "# Generating Distribution"
   ]
  },
  {
   "cell_type": "code",
   "execution_count": 4,
   "metadata": {},
   "outputs": [],
   "source": [
    "n = 6\n",
    "k = 9"
   ]
  },
  {
   "cell_type": "markdown",
   "metadata": {},
   "source": [
    "#### Different Population of Locations"
   ]
  },
  {
   "cell_type": "code",
   "execution_count": 5,
   "metadata": {},
   "outputs": [
    {
     "name": "stdout",
     "output_type": "stream",
     "text": [
      "['Broome', 'Steuben', 'Chemung', 'Tioga', 'Schuyler', 'Tompkins']\n",
      "[26.72041463 34.55226029 12.0932911  12.35243305  2.96573568 11.31586525]\n"
     ]
    }
   ],
   "source": [
    "# size = [1, 1, 1, 1, 1, 1]\n",
    "size = [928, 1200, 420, 429, 103, 393]\n",
    "size = size / np.sum(size) * 100\n",
    "county = ['Broome', 'Steuben', 'Chemung', 'Tioga', 'Schuyler', 'Tompkins']\n",
    "print(county)\n",
    "print(size)"
   ]
  },
  {
   "cell_type": "markdown",
   "metadata": {},
   "source": [
    "#### Distribution on Weights"
   ]
  },
  {
   "cell_type": "code",
   "execution_count": 43,
   "metadata": {},
   "outputs": [
    {
     "name": "stdout",
     "output_type": "stream",
     "text": [
      "['cereal', 'diapers', 'pasta', 'paper', 'prepared_meals', 'rice', 'meat', 'fruit', 'produce']\n",
      "[3.9, 3.5, 3.2, 3, 2.8, 2.7, 1.9, 1.2, 0.2]\n",
      "[22.4 22.4 22.4 22.4 22.4 22.4 22.4 22.4 22.4]\n"
     ]
    }
   ],
   "source": [
    "product = ['cereal', 'diapers', 'pasta', 'paper', 'prepared_meals', 'rice', 'meat', 'fruit', 'produce']\n",
    "w = [3.9, 3.5, 3.2, 3, 2.8, 2.7, 1.9, 1.2, .2]\n",
    "print(product)\n",
    "print(w)\n",
    "budget = np.sum(w)*np.ones(k)\n",
    "print(budget)"
   ]
  },
  {
   "cell_type": "code",
   "execution_count": 44,
   "metadata": {
    "scrolled": true
   },
   "outputs": [
    {
     "name": "stdout",
     "output_type": "stream",
     "text": [
      "[[1 0 1 0 0 1 1 1 1]\n",
      " [1 1 1 1 1 1 1 1 1]\n",
      " [1 0 1 1 1 1 0 0 0]\n",
      " [0 1 0 0 0 0 0 0 1]\n",
      " [1 1 1 1 0 1 1 0 0]\n",
      " [0 1 1 1 0 1 1 1 1]\n",
      " [0 1 1 0 1 1 1 1 0]\n",
      " [1 0 1 0 0 0 1 0 1]]\n"
     ]
    }
   ],
   "source": [
    "w_1 = [1, 0, 1, 0, 0, 1, 1, 1, 1] # soup kitchen \n",
    "w_2 = [1, 1, 1, 1, 1, 1, 1, 1, 1] # general warehouse\n",
    "w_3 = np.random.randint(0,2,9)\n",
    "w_4 = np.random.randint(0,2,9)\n",
    "w_5 = np.random.randint(0,2,9)\n",
    "w_6 = np.random.randint(0,2,9)\n",
    "w_7 = np.random.randint(0,2,9)\n",
    "w_8 = np.random.randint(0,2,9)\n",
    "weight_matrix = np.asarray([ w_1, w_2, w_3, w_4, w_5, w_6, w_7, w_8])\n",
    "print(weight_matrix)\n",
    "weight_distribution = [1/8, 1/8, 1/8, 1/8, 1/8, 1/8, 1/8, 1/8]"
   ]
  },
  {
   "cell_type": "code",
   "execution_count": 45,
   "metadata": {},
   "outputs": [],
   "source": [
    "expected_weights = np.zeros((n,k))"
   ]
  },
  {
   "cell_type": "code",
   "execution_count": 46,
   "metadata": {},
   "outputs": [
    {
     "name": "stdout",
     "output_type": "stream",
     "text": [
      "[[2.4375 2.1875 2.8    1.5    1.05   2.025  1.425  0.6    0.125 ]\n",
      " [2.4375 2.1875 2.8    1.5    1.05   2.025  1.425  0.6    0.125 ]\n",
      " [2.4375 2.1875 2.8    1.5    1.05   2.025  1.425  0.6    0.125 ]\n",
      " [2.4375 2.1875 2.8    1.5    1.05   2.025  1.425  0.6    0.125 ]\n",
      " [2.4375 2.1875 2.8    1.5    1.05   2.025  1.425  0.6    0.125 ]\n",
      " [2.4375 2.1875 2.8    1.5    1.05   2.025  1.425  0.6    0.125 ]]\n"
     ]
    }
   ],
   "source": [
    "for i in range(n):\n",
    "    for j in range(k):\n",
    "#         print(i,j)\n",
    "        expected_weights[i,j] = w[j] * (1/8) * (w_1[j] + w_2[j] + w_3[j] + w_4[j] + w_5[j] + w_6[j] + w_7[j]+w_8[j])\n",
    "print(expected_weights)"
   ]
  },
  {
   "cell_type": "code",
   "execution_count": 47,
   "metadata": {},
   "outputs": [
    {
     "data": {
      "text/plain": [
       "array([26.72041463, 34.55226029, 12.0932911 , 12.35243305,  2.96573568,\n",
       "       11.31586525])"
      ]
     },
     "execution_count": 47,
     "metadata": {},
     "output_type": "execute_result"
    }
   ],
   "source": [
    "size"
   ]
  },
  {
   "cell_type": "code",
   "execution_count": 48,
   "metadata": {},
   "outputs": [],
   "source": [
    "x, sol = solve(expected_weights, n, k, budget, size)"
   ]
  },
  {
   "cell_type": "code",
   "execution_count": 49,
   "metadata": {},
   "outputs": [],
   "source": [
    "x = np.reshape(x, (n,k))"
   ]
  },
  {
   "cell_type": "code",
   "execution_count": 50,
   "metadata": {},
   "outputs": [
    {
     "name": "stdout",
     "output_type": "stream",
     "text": [
      "[[0.224 0.224 0.224 0.224 0.224 0.224 0.224 0.224 0.224]\n",
      " [0.224 0.224 0.224 0.224 0.224 0.224 0.224 0.224 0.224]\n",
      " [0.224 0.224 0.224 0.224 0.224 0.224 0.224 0.224 0.224]\n",
      " [0.224 0.224 0.224 0.224 0.224 0.224 0.224 0.224 0.224]\n",
      " [0.224 0.224 0.224 0.224 0.224 0.224 0.224 0.224 0.224]\n",
      " [0.224 0.224 0.224 0.224 0.224 0.224 0.224 0.224 0.224]]\n"
     ]
    }
   ],
   "source": [
    "print(x)"
   ]
  },
  {
   "cell_type": "code",
   "execution_count": 51,
   "metadata": {},
   "outputs": [
    {
     "name": "stdout",
     "output_type": "stream",
     "text": [
      "[1.18423789e-15 1.18423789e-15 1.18423789e-15 1.18423789e-15\n",
      " 1.18423789e-15 1.18423789e-15 1.18423789e-15 1.18423789e-15\n",
      " 1.18423789e-15]\n",
      "[0. 0. 0. 0. 0. 0.]\n",
      "[0. 0. 0. 0. 0. 0.]\n"
     ]
    }
   ],
   "source": [
    "print(excess(x, budget, size))\n",
    "print(envy_utility(x, expected_weights))\n",
    "print(proportionality_utility(x, expected_weights, size, budget))"
   ]
  },
  {
   "cell_type": "code",
   "execution_count": 52,
   "metadata": {},
   "outputs": [
    {
     "data": {
      "text/plain": [
       "(6, 9)"
      ]
     },
     "execution_count": 52,
     "metadata": {},
     "output_type": "execute_result"
    }
   ],
   "source": [
    "x.shape"
   ]
  },
  {
   "cell_type": "code",
   "execution_count": 53,
   "metadata": {},
   "outputs": [
    {
     "name": "stdout",
     "output_type": "stream",
     "text": [
      "6\n"
     ]
    }
   ],
   "source": [
    "print(n)"
   ]
  },
  {
   "cell_type": "markdown",
   "metadata": {},
   "source": [
    "### Test"
   ]
  },
  {
   "cell_type": "code",
   "execution_count": 54,
   "metadata": {},
   "outputs": [
    {
     "name": "stdout",
     "output_type": "stream",
     "text": [
      "[[3.9 0.  3.2 0.  0.  2.7 1.9 1.2 0.2]\n",
      " [3.9 3.5 3.2 3.  2.8 2.7 1.9 1.2 0.2]\n",
      " [3.9 0.  3.2 3.  2.8 2.7 0.  0.  0. ]\n",
      " [0.  3.5 0.  0.  0.  0.  0.  0.  0.2]\n",
      " [3.9 3.5 3.2 3.  0.  2.7 1.9 0.  0. ]\n",
      " [0.  3.5 3.2 3.  0.  2.7 1.9 1.2 0.2]\n",
      " [0.  3.5 3.2 0.  2.8 2.7 1.9 1.2 0. ]\n",
      " [3.9 0.  3.2 0.  0.  0.  1.9 0.  0.2]]\n"
     ]
    }
   ],
   "source": [
    "wm = np.zeros((8,k))\n",
    "for i in range(8):\n",
    "    wm[i,:] = np.multiply(weight_matrix[i,:], w)\n",
    "print(wm)"
   ]
  },
  {
   "cell_type": "code",
   "execution_count": 55,
   "metadata": {},
   "outputs": [
    {
     "name": "stdout",
     "output_type": "stream",
     "text": [
      "[1 1 6 7 5 0]\n",
      "[[3.9 3.5 3.2 3.  2.8 2.7 1.9 1.2 0.2]\n",
      " [3.9 3.5 3.2 3.  2.8 2.7 1.9 1.2 0.2]\n",
      " [0.  3.5 3.2 0.  2.8 2.7 1.9 1.2 0. ]\n",
      " [3.9 0.  3.2 0.  0.  0.  1.9 0.  0.2]\n",
      " [0.  3.5 3.2 3.  0.  2.7 1.9 1.2 0.2]\n",
      " [3.9 0.  3.2 0.  0.  2.7 1.9 1.2 0.2]]\n"
     ]
    }
   ],
   "source": [
    "obs_types = np.random.randint(0,8,n)\n",
    "print(obs_types)\n",
    "\n",
    "observed_weights = np.zeros((n, k))\n",
    "for i in range(n):\n",
    "    observed_weights[i,:] = np.multiply(weight_matrix[obs_types[i], :], w)\n",
    "print(observed_weights)"
   ]
  },
  {
   "cell_type": "code",
   "execution_count": 56,
   "metadata": {},
   "outputs": [
    {
     "name": "stdout",
     "output_type": "stream",
     "text": [
      "[[0.2639 0.2086 0.222  0.2864 0.2131 0.1826 0.1726 0.1888 0.2236]\n",
      " [0.1369 0.2723 0.1056 0.3854 0.3008 0.1921 0.1886 0.2264 0.2289]\n",
      " [0.     0.5206 0.1894 0.     0.5219 0.21   0.1487 0.2325 0.    ]\n",
      " [0.5736 0.     0.5495 0.     0.     0.     0.5011 0.     0.3495]\n",
      " [0.     0.378  0.2308 0.4831 0.     0.2695 0.2134 0.2711 0.2408]\n",
      " [0.3124 0.     0.2703 0.     0.     0.6667 0.2341 0.5231 0.3079]]\n"
     ]
    }
   ],
   "source": [
    "opt, _ = solve(observed_weights, n, k, budget, size)\n",
    "opt = np.reshape(opt, (n,k))\n",
    "print(np.around(opt, decimals=4))"
   ]
  },
  {
   "cell_type": "code",
   "execution_count": 57,
   "metadata": {},
   "outputs": [
    {
     "name": "stdout",
     "output_type": "stream",
     "text": [
      "[0.78 0.7  0.64 0.6  0.56 0.54 0.38 0.24 0.04]\n",
      "[0.78 0.7  0.64 0.6  0.56 0.54 0.38 0.24 0.04]\n",
      "[0.   0.7  0.64 0.   0.56 0.54 0.38 0.24 0.  ]\n",
      "[0.78 0.   0.64 0.   0.   0.   0.38 0.   0.04]\n",
      "[0.   0.7  0.64 0.6  0.   0.54 0.38 0.24 0.04]\n",
      "[0.78 0.   0.64 0.   0.   0.54 0.38 0.24 0.04]\n"
     ]
    }
   ],
   "source": [
    "for i in range(n):\n",
    "    print(np.around([observed_weights[i,j] / (np.dot(opt[i,:], observed_weights[i,:])) for j in range(k)], decimals=2))"
   ]
  },
  {
   "cell_type": "code",
   "execution_count": 58,
   "metadata": {},
   "outputs": [],
   "source": [
    "## NEED TO GET RID OF THE 0S IN THE DISTRIBUTION."
   ]
  },
  {
   "cell_type": "code",
   "execution_count": 59,
   "metadata": {},
   "outputs": [
    {
     "name": "stdout",
     "output_type": "stream",
     "text": [
      "[1. 2. 0. 0. 0. 1. 1. 1.]\n",
      "[11.31586525 61.27267492  0.          0.          0.          2.96573568\n",
      " 12.0932911  12.35243305]\n"
     ]
    }
   ],
   "source": [
    "num_types = np.zeros(len(weight_distribution))\n",
    "size_factors = np.zeros(len(weight_distribution))\n",
    "for i in range(n):\n",
    "    num_types[obs_types[i]] += 1\n",
    "    size_factors[obs_types[i]] += size[i]\n",
    "print(num_types)\n",
    "print(size_factors)"
   ]
  },
  {
   "cell_type": "code",
   "execution_count": 60,
   "metadata": {},
   "outputs": [
    {
     "name": "stdout",
     "output_type": "stream",
     "text": [
      "[1 1 6 7 5 0]\n",
      "[1. 2. 0. 0. 0. 1. 1. 1.]\n",
      "[11.31586525 61.27267492  0.          0.          0.          2.96573568\n",
      " 12.0932911  12.35243305]\n"
     ]
    }
   ],
   "source": [
    "print(obs_types)\n",
    "print(num_types)\n",
    "print(size_factors)"
   ]
  },
  {
   "cell_type": "code",
   "execution_count": 61,
   "metadata": {},
   "outputs": [
    {
     "data": {
      "text/plain": [
       "array([1., 2., 1., 1., 1.])"
      ]
     },
     "execution_count": 61,
     "metadata": {},
     "output_type": "execute_result"
    }
   ],
   "source": [
    "num_types[num_types != 0]"
   ]
  },
  {
   "cell_type": "code",
   "execution_count": 62,
   "metadata": {},
   "outputs": [
    {
     "data": {
      "text/plain": [
       "array([11.31586525, 61.27267492,  2.96573568, 12.0932911 , 12.35243305])"
      ]
     },
     "execution_count": 62,
     "metadata": {},
     "output_type": "execute_result"
    }
   ],
   "source": [
    "size_factors[num_types != 0]"
   ]
  },
  {
   "cell_type": "code",
   "execution_count": 63,
   "metadata": {},
   "outputs": [
    {
     "data": {
      "text/plain": [
       "array([[3.9, 0. , 3.2, 0. , 0. , 2.7, 1.9, 1.2, 0.2],\n",
       "       [3.9, 3.5, 3.2, 3. , 2.8, 2.7, 1.9, 1.2, 0.2],\n",
       "       [0. , 3.5, 3.2, 3. , 0. , 2.7, 1.9, 1.2, 0.2],\n",
       "       [0. , 3.5, 3.2, 0. , 2.8, 2.7, 1.9, 1.2, 0. ],\n",
       "       [3.9, 0. , 3.2, 0. , 0. , 0. , 1.9, 0. , 0.2]])"
      ]
     },
     "execution_count": 63,
     "metadata": {},
     "output_type": "execute_result"
    }
   ],
   "source": [
    "wm[num_types != 0,:]"
   ]
  },
  {
   "cell_type": "code",
   "execution_count": 64,
   "metadata": {},
   "outputs": [
    {
     "name": "stdout",
     "output_type": "stream",
     "text": [
      "[[3.9 0.  3.2 0.  0.  2.7 1.9 1.2 0.2]\n",
      " [3.9 3.5 3.2 3.  2.8 2.7 1.9 1.2 0.2]\n",
      " [0.  3.5 3.2 3.  0.  2.7 1.9 1.2 0.2]\n",
      " [0.  3.5 3.2 0.  2.8 2.7 1.9 1.2 0. ]\n",
      " [3.9 0.  3.2 0.  0.  0.  1.9 0.  0.2]] [11.31586525 61.27267492  2.96573568 12.0932911  12.35243305]\n"
     ]
    }
   ],
   "source": [
    "print(wm[num_types != 0], size_factors[num_types != 0])"
   ]
  },
  {
   "cell_type": "code",
   "execution_count": 65,
   "metadata": {},
   "outputs": [
    {
     "name": "stdout",
     "output_type": "stream",
     "text": [
      "[[0.3209 0.     0.2869 0.     0.     0.6401 0.2442 0.4962 0.2992]\n",
      " [0.1951 0.2638 0.1222 0.3433 0.2945 0.1753 0.1555 0.2287 0.2235]\n",
      " [0.     0.3727 0.2496 0.461  0.     0.2746 0.2205 0.2694 0.2394]\n",
      " [0.     0.4245 0.3475 0.     0.3602 0.2978 0.2167 0.1633 0.    ]\n",
      " [0.5514 0.     0.5442 0.     0.     0.     0.5532 0.     0.3732]]\n"
     ]
    }
   ],
   "source": [
    "opt_2, _ = solve(wm[num_types != 0,:], len(wm[num_types != 0,:]), k, budget, size_factors[num_types != 0])\n",
    "opt_2 = np.reshape(opt_2, (len(wm[num_types != 0,:]),k))\n",
    "print(np.around(opt_2, decimals=4))"
   ]
  },
  {
   "cell_type": "code",
   "execution_count": 66,
   "metadata": {},
   "outputs": [],
   "source": [
    "new_wm = wm[num_types != 0, :]"
   ]
  },
  {
   "cell_type": "code",
   "execution_count": 69,
   "metadata": {},
   "outputs": [
    {
     "name": "stdout",
     "output_type": "stream",
     "text": [
      "[-1.71011294e-10 -1.55387880e-10 -1.48245505e-10 -1.28083855e-10\n",
      " -1.22783916e-10 -1.22607702e-10 -8.78266349e-11 -5.42961232e-11\n",
      " -8.85833629e-12]\n",
      "[ 2.57123747e-04  2.06980244e-04 -1.00843540e+00 -1.31167637e+00\n",
      " -2.32408350e+00]\n",
      "[-2.08312266e+00  2.72007630e-05 -1.50070427e+00 -1.59045004e+00\n",
      " -2.95697978e+00]\n"
     ]
    }
   ],
   "source": [
    "print(excess(opt_2, budget, size_factors[num_types != 0]))\n",
    "print(envy_utility(opt_2, wm[num_types != 0,:]))\n",
    "print(proportionality_utility(opt_2, wm[num_types != 0,:], size_factors[num_types != 0], budget))"
   ]
  },
  {
   "cell_type": "code",
   "execution_count": null,
   "metadata": {},
   "outputs": [],
   "source": []
  },
  {
   "cell_type": "code",
   "execution_count": 70,
   "metadata": {},
   "outputs": [],
   "source": [
    "arr = np.arange(0, len(weight_matrix))\n",
    "used_types = arr[num_types != 0]\n",
    "alloc = np.zeros((n,k))\n",
    "for i in range(n):\n",
    "    new_index = np.argmin(np.abs(used_types - obs_types[i]))\n",
    "    alloc[i,:] = opt_2[new_index,:]"
   ]
  },
  {
   "cell_type": "code",
   "execution_count": 71,
   "metadata": {},
   "outputs": [
    {
     "data": {
      "text/plain": [
       "array([1, 1, 6, 7, 5, 0])"
      ]
     },
     "execution_count": 71,
     "metadata": {},
     "output_type": "execute_result"
    }
   ],
   "source": [
    "obs_types"
   ]
  },
  {
   "cell_type": "code",
   "execution_count": 72,
   "metadata": {},
   "outputs": [
    {
     "name": "stdout",
     "output_type": "stream",
     "text": [
      "[[0.1951 0.2638 0.1222 0.3433 0.2945 0.1753 0.1555 0.2287 0.2235]\n",
      " [0.1951 0.2638 0.1222 0.3433 0.2945 0.1753 0.1555 0.2287 0.2235]\n",
      " [0.     0.4245 0.3475 0.     0.3602 0.2978 0.2167 0.1633 0.    ]\n",
      " [0.5514 0.     0.5442 0.     0.     0.     0.5532 0.     0.3732]\n",
      " [0.     0.3727 0.2496 0.461  0.     0.2746 0.2205 0.2694 0.2394]\n",
      " [0.3209 0.     0.2869 0.     0.     0.6401 0.2442 0.4962 0.2992]]\n"
     ]
    }
   ],
   "source": [
    "print(np.around(alloc, decimals=4))"
   ]
  },
  {
   "cell_type": "code",
   "execution_count": 33,
   "metadata": {},
   "outputs": [
    {
     "name": "stdout",
     "output_type": "stream",
     "text": [
      "[4.592000000000001, 4.592000000000001, 4.592000000000001, 4.592000000000001, 4.592000000000001, 4.592000000000001]\n"
     ]
    }
   ],
   "source": [
    "print([np.dot(observed_weights[2,:], alloc[i,:]) for i in range(n)])"
   ]
  },
  {
   "cell_type": "code",
   "execution_count": 73,
   "metadata": {},
   "outputs": [
    {
     "name": "stdout",
     "output_type": "stream",
     "text": [
      "[[0.2639 0.2086 0.222  0.2864 0.2131 0.1826 0.1726 0.1888 0.2236]\n",
      " [0.1369 0.2723 0.1056 0.3854 0.3008 0.1921 0.1886 0.2264 0.2289]\n",
      " [0.     0.5206 0.1894 0.     0.5219 0.21   0.1487 0.2325 0.    ]\n",
      " [0.5736 0.     0.5495 0.     0.     0.     0.5011 0.     0.3495]\n",
      " [0.     0.378  0.2308 0.4831 0.     0.2695 0.2134 0.2711 0.2408]\n",
      " [0.3124 0.     0.2703 0.     0.     0.6667 0.2341 0.5231 0.3079]]\n"
     ]
    }
   ],
   "source": [
    "print(np.around(opt, decimals=4))"
   ]
  },
  {
   "cell_type": "code",
   "execution_count": 35,
   "metadata": {},
   "outputs": [
    {
     "data": {
      "text/plain": [
       "[2.9344000000000006, 4.592000000000001, 1.9712000000000003, 0.0, 0.0]"
      ]
     },
     "execution_count": 35,
     "metadata": {},
     "output_type": "execute_result"
    }
   ],
   "source": [
    "[np.dot(opt_2[1,:], new_wm[i,:]) for i in range(len(new_wm))]"
   ]
  },
  {
   "cell_type": "code",
   "execution_count": 36,
   "metadata": {},
   "outputs": [
    {
     "data": {
      "text/plain": [
       "[2.3296000000000006,\n",
       " 1.9712000000000003,\n",
       " 4.592000000000001,\n",
       " 3.2032000000000007,\n",
       " 3.2032000000000007,\n",
       " 2.9344000000000006]"
      ]
     },
     "execution_count": 36,
     "metadata": {},
     "output_type": "execute_result"
    }
   ],
   "source": [
    "[np.dot(alloc[2,:], observed_weights[i,:]) for i in range(n)]"
   ]
  },
  {
   "cell_type": "code",
   "execution_count": 37,
   "metadata": {},
   "outputs": [
    {
     "data": {
      "text/plain": [
       "array([0.224, 0.224, 0.224, 0.224, 0.224, 0.224, 0.224, 0.224, 0.224])"
      ]
     },
     "execution_count": 37,
     "metadata": {},
     "output_type": "execute_result"
    }
   ],
   "source": [
    "alloc[2,:]"
   ]
  },
  {
   "cell_type": "code",
   "execution_count": 38,
   "metadata": {},
   "outputs": [
    {
     "data": {
      "text/plain": [
       "3"
      ]
     },
     "execution_count": 38,
     "metadata": {},
     "output_type": "execute_result"
    }
   ],
   "source": [
    "obs_types[2]"
   ]
  },
  {
   "cell_type": "code",
   "execution_count": 74,
   "metadata": {},
   "outputs": [
    {
     "name": "stdout",
     "output_type": "stream",
     "text": [
      "[-1.42509412e-10 -1.29489900e-10 -1.23538513e-10 -1.06737138e-10\n",
      " -1.02319930e-10 -1.02173085e-10 -7.31888624e-11 -4.52461772e-11\n",
      " -7.38194691e-12]\n",
      "[ 2.06980244e-04  2.06980244e-04 -1.31167637e+00 -2.32408350e+00\n",
      " -1.00843540e+00  2.57123747e-04]\n",
      "[ 2.72007630e-05  2.72007630e-05 -1.59045004e+00 -2.95697978e+00\n",
      " -1.50070427e+00 -2.08312266e+00]\n"
     ]
    }
   ],
   "source": [
    "print(excess(alloc, budget, size))\n",
    "print(envy_utility(alloc, observed_weights))\n",
    "print(proportionality_utility(alloc, observed_weights, size, budget))"
   ]
  },
  {
   "cell_type": "code",
   "execution_count": 75,
   "metadata": {},
   "outputs": [
    {
     "name": "stdout",
     "output_type": "stream",
     "text": [
      "[-8.94265402e-11 -7.96192741e-11 -7.86292513e-11 -6.31891576e-11\n",
      " -6.30328382e-11 -6.32217242e-11 -4.68389771e-11 -2.81588086e-11\n",
      " -4.59602726e-12]\n",
      "[ 2.49920609e-08  1.37192473e-05 -1.27994272e+00 -2.42799149e+00\n",
      " -1.21834864e+00  1.04565482e-04]\n",
      "[-2.19339729e-05 -8.23971766e-06 -1.59042196e+00 -2.95680032e+00\n",
      " -1.50081325e+00 -2.08309576e+00]\n"
     ]
    }
   ],
   "source": [
    "print(excess(opt, budget, size))\n",
    "print(envy_utility(opt, observed_weights))\n",
    "print(proportionality_utility(opt, observed_weights, size, budget))"
   ]
  }
 ],
 "metadata": {
  "kernelspec": {
   "display_name": "Python 3",
   "language": "python",
   "name": "python3"
  },
  "language_info": {
   "codemirror_mode": {
    "name": "ipython",
    "version": 3
   },
   "file_extension": ".py",
   "mimetype": "text/x-python",
   "name": "python",
   "nbconvert_exporter": "python",
   "pygments_lexer": "ipython3",
   "version": "3.7.7"
  }
 },
 "nbformat": 4,
 "nbformat_minor": 2
}
