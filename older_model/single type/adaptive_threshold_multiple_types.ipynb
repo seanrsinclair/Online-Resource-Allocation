{
 "cells": [
  {
   "cell_type": "markdown",
   "metadata": {
    "id": "AT5gf3Q59WOm"
   },
   "source": [
    "# Multiple Type Experiment"
   ]
  },
  {
   "cell_type": "code",
   "execution_count": 1,
   "metadata": {
    "id": "Bu5uZ0yB9WOv"
   },
   "outputs": [],
   "source": [
    "import warnings;\n",
    "warnings.filterwarnings('ignore');\n",
    "\n",
    "from time import sleep\n",
    "from tqdm.auto import tqdm\n",
    "\n",
    "import sys\n",
    "import importlib\n",
    "import numpy as np\n",
    "import nbformat\n",
    "# import plotly.express\n",
    "# import plotly.express as px\n",
    "import pandas as pd\n",
    "import cvxpy as cp\n",
    "import scipy.optimize as optimization\n",
    "import matplotlib.pyplot as plt\n",
    "import seaborn as sns"
   ]
  },
  {
   "cell_type": "markdown",
   "metadata": {},
   "source": [
    "### Confidence Scaling"
   ]
  },
  {
   "cell_type": "code",
   "execution_count": 3,
   "metadata": {},
   "outputs": [],
   "source": [
    "cup = 3\n",
    "clow = 3"
   ]
  },
  {
   "cell_type": "markdown",
   "metadata": {},
   "source": [
    "### CVXPY Code"
   ]
  },
  {
   "cell_type": "code",
   "execution_count": null,
   "metadata": {},
   "outputs": [],
   "source": []
  },
  {
   "cell_type": "code",
   "execution_count": 3,
   "metadata": {},
   "outputs": [],
   "source": [
    "def generate_cvxpy_solve(num_types, num_resources):\n",
    "    x = cp.Variable(shape=(num_types,num_resources))\n",
    "\n",
    "    sizes = cp.Parameter(num_types, nonneg=True)\n",
    "    weights = cp.Parameter((num_types, num_resources), nonneg=True)\n",
    "    budget = cp.Parameter(num_resources, nonneg=True)\n",
    "\n",
    "\n",
    "    objective = cp.Maximize(cp.log(cp.sum(cp.multiply(x, weights), axis=1)) @ sizes)\n",
    "\n",
    "\n",
    "    constraints = []\n",
    "    constraints += [0 <= x]\n",
    "    for i in range(num_resources):\n",
    "        constraints += [x[:, i] @ sizes <= budget[i]]\n",
    "    # constraints += [x @ sizes <= budget]\n",
    "\n",
    "    prob = cp.Problem(objective, constraints)\n",
    "    \n",
    "    def solver(true_sizes, true_weights, true_budget, constraints):\n",
    "        sizes.value = true_sizes\n",
    "        weights.value = true_weights\n",
    "        budget.value = true_budget\n",
    "        \n",
    "        prob.solve(solver=cp.MOSEK)\n",
    "        \n",
    "        return prob.value, np.around(x.value, 5), constraints\n",
    "    \n",
    "    return prob, solver, constraints"
   ]
  },
  {
   "cell_type": "markdown",
   "metadata": {},
   "source": [
    "### Simple Test"
   ]
  },
  {
   "cell_type": "code",
   "execution_count": 4,
   "metadata": {},
   "outputs": [
    {
     "name": "stdout",
     "output_type": "stream",
     "text": [
      "1.0000057873230548\n",
      "1.4999178359988916\n"
     ]
    }
   ],
   "source": [
    "prob, solver, constraints = generate_cvxpy_solve(2, 2)\n",
    "\n",
    "val, sol, cons = solver(np.asarray([1., 1.]), np.asarray([[1,1],[1,1]]), np.asarray([1,1]), constraints)\n",
    "print(cons[1].dual_value)\n",
    "\n",
    "val, sol, cons = solver(np.asarray([1., 2.]), np.asarray([[1,1],[1,1]]), np.asarray([1,1]), constraints)\n",
    "print(cons[1].dual_value)\n"
   ]
  },
  {
   "cell_type": "code",
   "execution_count": 5,
   "metadata": {},
   "outputs": [],
   "source": [
    "prob, solver, constraints = generate_cvxpy_solve(5,3)"
   ]
  },
  {
   "cell_type": "markdown",
   "metadata": {},
   "source": [
    "### Sensitivity of EG Program"
   ]
  },
  {
   "cell_type": "code",
   "execution_count": 11,
   "metadata": {
    "scrolled": false
   },
   "outputs": [
    {
     "name": "stdout",
     "output_type": "stream",
     "text": [
      "Calculating difference in allocations for: 0.01\n",
      "Sizes: ([2.0, 3.0], [2.0, 3.01], [2.0, 2.98])\n",
      "1.1110659226888386 0.8888527386259493 2.999962878821536\n",
      "1.1110635144225542 0.8888508120719286 3.0099618170262246\n",
      "1.1110697732732142 0.8888558190082515 2.979964967443501\n",
      "Testing Prices Monotonicity\n",
      "[False False  True]\n",
      "[False False  True]\n",
      "Calculating difference in allocations for: 0.05\n",
      "Sizes: ([2.0, 3.0], [2.0, 3.05], [2.0, 2.9])\n",
      "1.1110659226888386 0.8888527386259493 2.999962878821536\n",
      "1.1110540437200935 0.888843235771872 3.049958154085502\n",
      "1.111074536338191 0.8888596293704043 2.8999723203510883\n",
      "Testing Prices Monotonicity\n",
      "[False False  True]\n",
      "[False False  True]\n",
      "Calculating difference in allocations for: 0.1\n",
      "Sizes: ([2.0, 3.0], [2.0, 3.1], [2.0, 2.8])\n",
      "1.1110659226888386 0.8888527386259493 2.999962878821536\n",
      "1.1110402202265806 0.888832177438534 3.0999537991618396\n",
      "1.1110993590745493 0.8888794872466043 2.799966378377406\n",
      "Testing Prices Monotonicity\n",
      "[False False  True]\n",
      "[False False  True]\n",
      "Calculating difference in allocations for: 0.15\n",
      "Sizes: ([2.0, 3.0], [2.0, 3.15], [2.0, 2.7])\n",
      "1.1110659226888386 0.8888527386259493 2.999962878821536\n",
      "1.111102659168524 0.8888821273481099 3.149991856556944\n",
      "1.1110793588525012 0.8888634868755207 2.699908756308289\n",
      "Testing Prices Monotonicity\n",
      "[False False  True]\n",
      "[False False  True]\n",
      "Calculating difference in allocations for: 0.2\n",
      "Sizes: ([2.0, 3.0], [2.0, 3.2], [2.0, 2.6])\n",
      "1.1110659226888386 0.8888527386259493 2.999962878821536\n",
      "1.1110442155338591 0.8888353739290484 3.1999517465337934\n",
      "1.1111208256229312 0.8888966607190611 2.5999870971342127\n",
      "Testing Prices Monotonicity\n",
      "[False False  True]\n",
      "[False False  True]\n",
      "Calculating difference in allocations for: 0.25\n",
      "Sizes: ([2.0, 3.0], [2.0, 3.25], [2.0, 2.5])\n",
      "1.1110659226888386 0.8888527386259493 2.999962878821536\n",
      "1.111064373728158 0.8888514998341155 3.2499580553652887\n",
      "1.1110816300265718 0.8888653057277293 2.4999051364663187\n",
      "Testing Prices Monotonicity\n",
      "[False False  True]\n",
      "[False False  True]\n",
      "Calculating difference in allocations for: 0.3\n",
      "Sizes: ([2.0, 3.0], [2.0, 3.3], [2.0, 2.4])\n",
      "1.1110659226888386 0.8888527386259493 2.999962878821536\n",
      "1.111088192367313 0.8888705540957493 3.299968219195322\n",
      "1.1110547061662615 0.8888437693680644 2.3999415668295883\n",
      "Testing Prices Monotonicity\n",
      "[False False  True]\n",
      "[False  True  True]\n",
      "Calculating difference in allocations for: 0.35\n",
      "Sizes: ([2.0, 3.0], [2.0, 3.35], [2.0, 2.3])\n",
      "1.1110659226888386 0.8888527386259493 2.999962878821536\n",
      "1.1110147964915544 0.8888118390989326 3.3499472207044216\n",
      "1.1111092818728 0.8888874254973849 2.300000961646853\n",
      "Testing Prices Monotonicity\n",
      "[False False  True]\n",
      "[False False  True]\n",
      "Calculating difference in allocations for: 0.4\n",
      "Sizes: ([2.0, 3.0], [2.0, 3.4], [2.0, 2.2])\n",
      "1.1110659226888386 0.8888527386259493 2.999962878821536\n",
      "1.1110800709314586 0.8888640569046995 3.399985935091714\n",
      "1.1110621179322524 0.8888496979065252 2.200033119498475\n",
      "Testing Prices Monotonicity\n",
      "[False False  True]\n",
      "[False  True  True]\n",
      "Calculating difference in allocations for: 0.45\n",
      "Sizes: ([2.0, 3.0], [2.0, 3.45], [2.0, 2.1])\n",
      "1.1110659226888386 0.8888527386259493 2.999962878821536\n",
      "1.1110631206705794 0.888850496749918 3.449975619132715\n",
      "1.1110915194202307 0.8888732167805952 2.1000262347202536\n",
      "Testing Prices Monotonicity\n",
      "[False False  True]\n",
      "[False False  True]\n",
      "Calculating difference in allocations for: 0.5\n",
      "Sizes: ([2.0, 3.0], [2.0, 3.5], [2.0, 2.0])\n",
      "1.1110659226888386 0.8888527386259493 2.999962878821536\n",
      "1.111063982197585 0.8888511860702566 3.500048576803518\n",
      "1.111104011360819 0.8888832088096341 2.0000254572669163\n",
      "Testing Prices Monotonicity\n",
      "[False False  True]\n",
      "[False False  True]\n",
      "Calculating difference in allocations for: 1.0\n",
      "Sizes: ([2.0, 3.0], [2.0, 4.0], [2.0, 1.0])\n",
      "1.1110659226888386 0.8888527386259493 2.999962878821536\n",
      "1.168820211999018 0.9350561681791545 3.8960673284302088\n",
      "1.1111443139096222 0.888915450925414 0.9999402385329272\n",
      "Testing Prices Monotonicity\n",
      "[ True  True  True]\n",
      "[False False  True]\n",
      "[0.01, 0.05, 0.1, 0.15, 0.2, 0.25, 0.3, 0.35, 0.4, 0.45, 0.5, 1.0] [0. 0. 0. 0. 0. 0. 0. 0. 0. 0. 0. 0.] [0. 0. 0. 0. 0. 0. 0. 0. 0. 0. 0. 0.]\n"
     ]
    },
    {
     "data": {
      "text/plain": [
       "[<matplotlib.lines.Line2D at 0x7f40c25e7250>]"
      ]
     },
     "execution_count": 11,
     "metadata": {},
     "output_type": "execute_result"
    },
    {
     "data": {
      "image/png": "[encoded data removed]",
      "text/plain": [
       "<Figure size 432x288 with 1 Axes>"
      ]
     },
     "metadata": {
      "needs_background": "light"
     },
     "output_type": "display_data"
    }
   ],
   "source": [
    "eps = 0.05\n",
    "\n",
    "# delta_list = [.5, .2, .1]\n",
    "\n",
    "delta_list = [.01, 0.05, .1, 0.15, 0.2, 0.25, 0.3, 0.35, 0.4, 0.45, .5, 1.]\n",
    "\n",
    "y1 = np.zeros(len(delta_list))\n",
    "y2 = np.zeros(len(delta_list))\n",
    "\n",
    "prob, solver, cons = generate_cvxpy_solve(2, 3)\n",
    "# true_weights = np.asarray([[1.5, .4, 2],[3, 2.6, .5]])\n",
    "\n",
    "true_weights = np.asarray([[5, 4, 2], [3, 2, 10]])\n",
    "\n",
    "# true_weights = np.asarray([[1,1,1],[1,1,1]])\n",
    "true_budget = [1., 1., 1.]\n",
    "\n",
    "\n",
    "index = 0\n",
    "for delta in delta_list:\n",
    "    print('Calculating difference in allocations for: ' + str(delta))\n",
    "    sizes_1 = [2., 3.]\n",
    "    sizes_2 = [2., 3.+delta]\n",
    "    sizes_3 = [2., 3.-2*delta]\n",
    "    \n",
    "    print('Sizes: ' + str((sizes_1, sizes_2, sizes_3)))\n",
    "          \n",
    "    v1, x_1, c_1 = solver(sizes_1, true_weights, true_budget, cons)\n",
    "    print(c_1[1].dual_value, c_1[2].dual_value, c_1[3].dual_value)\n",
    "    d_1 = [c_1[1].dual_value, c_1[2].dual_value, c_1[3].dual_value]\n",
    "    v2, x_2, c_2 = solver(sizes_2, true_weights, true_budget, cons)\n",
    "    print(c_2[1].dual_value, c_2[2].dual_value, c_2[3].dual_value)\n",
    "    d_2 = [c_2[1].dual_value, c_2[2].dual_value, c_2[3].dual_value]\n",
    "    v3, x_3, c_3 = solver(sizes_3, true_weights, true_budget, cons)\n",
    "    print(c_3[1].dual_value, c_3[2].dual_value, c_3[3].dual_value)\n",
    "    d_3 = [c_3[1].dual_value, c_3[2].dual_value, c_3[3].dual_value]\n",
    "    \n",
    "#     x_1 = np.around(x_1, 5)\n",
    "#     x_2 = np.around(x_2, 3)\n",
    "#     x_3 = np.around(x_3, 5)\n",
    "    \n",
    "#     print('Solutions: ')\n",
    "#     print('Orig: ' + str(x_1))\n",
    "#     print('Plus Delta: ' + str(x_2))\n",
    "#     print('Minus Delta: ' + str(x_3))\n",
    "# #     print('Scaling Check: ' + str(np.around(x_1 / (1+delta),3) == np.around(x_2,3)))\n",
    "# #     print('Scaling Check (2): ' + str(np.around(x_1 / (1-delta),3) == np.around(x_3,3)))\n",
    "\n",
    "\n",
    "#     print('Objective Values: ' + str((v1, v2, v3)))\n",
    "    \n",
    "#     print('Testing Budget Constraint: ')\n",
    "#     print(np.around(sizes_3 @ x_3,1) <= np.around(true_budget,1))\n",
    "    \n",
    "#     print('Testing Dual Price Constraint: ')\n",
    "#     print(np.around(np.matmul(x_1, d_1), 3) == [1., 1.])\n",
    "#     print(np.around(np.matmul(x_2, d_2), 3) == [1., 1.])\n",
    "#     print(np.around(np.matmul(x_3, d_3), 3) == [1., 1.])\n",
    "    \n",
    "#     print('Testing Monotonicity:')\n",
    "#     print(x_1 >= x_2)\n",
    "#     print(x_1 <= x_3)\n",
    "#     y1[index] = np.max(np.abs(x_1 - x_2))\n",
    "#     y2[index] = np.max(np.abs(x_1 - x_3))\n",
    "    \n",
    "    print('Testing Prices Monotonicity')\n",
    "    print(np.greater(np.around(d_2, 4), np.around(d_1, 4)))\n",
    "    print(np.greater(np.around(d_1, 4), np.around(d_3, 4)))\n",
    "    \n",
    "    \n",
    "    index += 1\n",
    "    \n",
    "print(delta_list, y1, y2)\n",
    "plt.plot(delta_list, y1)\n",
    "plt.plot(delta_list, y2)"
   ]
  },
  {
   "cell_type": "code",
   "execution_count": 27,
   "metadata": {},
   "outputs": [
    {
     "data": {
      "text/plain": [
       "array([1., 1.])"
      ]
     },
     "execution_count": 27,
     "metadata": {},
     "output_type": "execute_result"
    }
   ],
   "source": []
  },
  {
   "cell_type": "code",
   "execution_count": 18,
   "metadata": {},
   "outputs": [
    {
     "data": {
      "text/plain": [
       "array([ True,  True,  True])"
      ]
     },
     "execution_count": 18,
     "metadata": {},
     "output_type": "execute_result"
    }
   ],
   "source": []
  },
  {
   "cell_type": "markdown",
   "metadata": {
    "id": "G1njI8El6RHi"
   },
   "source": [
    "### Offline Optimal Solution"
   ]
  },
  {
   "cell_type": "code",
   "execution_count": 7,
   "metadata": {
    "id": "SH-gGWE99WOw"
   },
   "outputs": [],
   "source": [
    "def offline_opt(budget, size, mean, weights, solver):\n",
    "    tot_size = np.sum(size, axis=0)\n",
    "    _, x = solver(tot_size, weights, budget)\n",
    "    allocation = np.zeros((size.shape[0], weights.shape[0], weights.shape[1]))\n",
    "    for i in range(size.shape[0]):\n",
    "        allocation[i,:,:] = x\n",
    "    return allocation"
   ]
  },
  {
   "cell_type": "markdown",
   "metadata": {
    "id": "ZJLfV6YY6RHl"
   },
   "source": [
    "### Threshold Based Algorithms"
   ]
  },
  {
   "cell_type": "code",
   "execution_count": 8,
   "metadata": {
    "id": "z2Md-Lk36RHl"
   },
   "outputs": [],
   "source": [
    "def fixed_threshold(budget, size, mean, weights, solver):\n",
    "    \n",
    "    num_locations = size.shape[0]\n",
    "    num_types = weights.shape[0]\n",
    "    num_resources = weights.shape[1]\n",
    "    \n",
    "    allocation = np.zeros((n, num_types, num_resources))\n",
    "    budget_remaining = budget\n",
    "\n",
    "\n",
    "#     tot_mean_size = size[0] + np.sum(mean[1:], axis=0) + clow*np.sqrt(num_locations * np.log(num_locations))\n",
    "    \n",
    "    future_size = size[0] + np.sum(mean[1:], axis=0)\n",
    "    conf_bnd = clow*np.sqrt(num_locations * np.log(num_locations))\n",
    "    tot_mean_size = future_size*(1 + conf_bnd / np.min(future_size))\n",
    "    \n",
    "    \n",
    "    \n",
    "    # np.sum(mean)(1 + (sqrt / min(sum(mean)))\n",
    "    \n",
    "    _, lower_thresh = solver(tot_mean_size, weights, budget)\n",
    "\n",
    "\n",
    "    for i in range(n):\n",
    "\n",
    "        if np.min(budget_remaining - np.matmul(size[i,:], lower_thresh)) > 0:\n",
    "            allocation[i,:,:] = lower_thresh\n",
    "        else:\n",
    "            print('Fixed: Out of budget!')\n",
    "            allocation[i, :, :] = np.array([budget_remaining / np.sum(size[i,:]),]*num_types)\n",
    "\n",
    "        budget_remaining -= np.matmul(size[i, :], allocation[i])\n",
    "    \n",
    "    \n",
    "    return allocation, budget_remaining"
   ]
  },
  {
   "cell_type": "code",
   "execution_count": 9,
   "metadata": {
    "id": "REU86rLN9WOz"
   },
   "outputs": [],
   "source": [
    "def adapt_init_threshold(budget, size, mean, weights, solver):\n",
    "    \n",
    "    num_locations = size.shape[0]\n",
    "    num_types = weights.shape[0]\n",
    "    num_resources = weights.shape[1]\n",
    "    \n",
    "    allocation = np.zeros((n, num_types, num_resources))\n",
    "    budget_remaining = budget\n",
    "\n",
    "    \n",
    "    future_size = size[0] + np.sum(mean[1:], axis=0)\n",
    "    conf_bnd = clow*np.sqrt(num_locations * np.log(num_locations))\n",
    "    tot_low_mean_size = future_size*(1 + conf_bnd / np.min(future_size))\n",
    "    tot_up_mean_size = np.maximum(1, future_size*(1 - conf_bnd / np.min(future_size)))\n",
    "    # print(tot_low_mean_size, tot_up_mean_size)\n",
    "    \n",
    "    \n",
    "    # np.sum(mean)(1 + (sqrt / min(sum(mean)))\n",
    "    \n",
    "    _, lower_thresh = solver(tot_low_mean_size, weights, budget)\n",
    "    _, upper_thresh = solver(tot_up_mean_size, weights, budget)\n",
    "\n",
    "    for i in range(n):\n",
    "        rem = n - i\n",
    "        budget_required = budget_remaining - np.matmul(size[i, :], upper_thresh) - np.matmul(np.sum(mean[(i+1):], axis=0) + clow*np.sqrt(rem*np.log(rem)), lower_thresh)\n",
    "\n",
    "        if np.min(budget_remaining - np.matmul(size[i,:], upper_thresh)) > 0 and np.min(budget_required) > 0:\n",
    "            print('Allocating upper threshold')\n",
    "            allocation[i,:,:] = upper_thresh\n",
    "        elif np.min(budget_remaining - np.matmul(size[i,:], lower_thresh)) > 0:\n",
    "            allocation[i,:,:] = lower_thresh\n",
    "        else:\n",
    "            print('Adapt: Out of budget!')\n",
    "            allocation[i, :, :] = np.array([budget_remaining / np.sum(size[i,:]),]*num_types)\n",
    "\n",
    "        budget_remaining -= np.matmul(size[i, :], allocation[i])\n",
    "    \n",
    "    return allocation, budget_remaining"
   ]
  },
  {
   "cell_type": "markdown",
   "metadata": {
    "id": "D4xFOfJD9WO-"
   },
   "source": [
    "### Scaling with n"
   ]
  },
  {
   "cell_type": "code",
   "execution_count": 10,
   "metadata": {
    "colab": {
     "base_uri": "https://localhost:8080/"
    },
    "executionInfo": {
     "elapsed": 1874,
     "status": "ok",
     "timestamp": 1611785652390,
     "user": {
      "displayName": "Sean Sinclair",
      "photoUrl": "https://lh3.googleusercontent.com/a-/AOh14GgiZ1PfVGrBMLuC7RxoNojx6NGtoiM-OmF94fkk=s64",
      "userId": "12952511139192190002"
     },
     "user_tz": 300
    },
    "id": "7O-U6Sg7qwFG",
    "outputId": "260647d6-6f5d-4527-e8ef-de775b12e37a"
   },
   "outputs": [
    {
     "data": {
      "text/plain": [
       "array([2, 1, 3, 3, 4])"
      ]
     },
     "execution_count": 10,
     "metadata": {},
     "output_type": "execute_result"
    }
   ],
   "source": [
    "#np.random.choice(size=5, a=[1.,2.], p=[1/2, 1/2])\n",
    "1+np.random.poisson(size=5,lam = 1.5)"
   ]
  },
  {
   "cell_type": "code",
   "execution_count": 11,
   "metadata": {
    "colab": {
     "base_uri": "https://localhost:8080/",
     "height": 67,
     "referenced_widgets": [
      "6edde265d414491ba9c5d75c4b666028",
      "378b8b4ca0244f30b3e3d75c17037de8",
      "1fb709b814ce4d4d81ec24c1443dc6a2",
      "1e36c3f407884be9847d7393629ef768",
      "78d9669e53ce463193e4485863ef887f",
      "b9e16375f07c49208662ae88538a4213",
      "5bde03c411474113b4c4bed539353f57",
      "6d967cff11574e62aed6bc3f86c3187c"
     ]
    },
    "executionInfo": {
     "elapsed": 19292,
     "status": "ok",
     "timestamp": 1611785669817,
     "user": {
      "displayName": "Sean Sinclair",
      "photoUrl": "https://lh3.googleusercontent.com/a-/AOh14GgiZ1PfVGrBMLuC7RxoNojx6NGtoiM-OmF94fkk=s64",
      "userId": "12952511139192190002"
     },
     "user_tz": 300
    },
    "id": "JIYCYuR39WO-",
    "outputId": "0d6ade11-4ee5-4f01-8dd5-753861aff7da"
   },
   "outputs": [
    {
     "data": {
      "application/vnd.jupyter.widget-view+json": {
       "model_id": "a9191b616e9c4e3f8b92e03fcd509c33",
       "version_major": 2,
       "version_minor": 0
      },
      "text/plain": [
       "  0%|          | 0/99 [00:00<?, ?it/s]"
      ]
     },
     "metadata": {},
     "output_type": "display_data"
    },
    {
     "name": "stdout",
     "output_type": "stream",
     "text": [
      "Num Locations: 2\n"
     ]
    },
    {
     "ename": "ValueError",
     "evalue": "too many values to unpack (expected 2)",
     "output_type": "error",
     "traceback": [
      "\u001b[0;31m---------------------------------------------------------------------------\u001b[0m",
      "\u001b[0;31mValueError\u001b[0m                                Traceback (most recent call last)",
      "\u001b[0;32m<ipython-input-11-a2850eb0e5a0>\u001b[0m in \u001b[0;36m<module>\u001b[0;34m()\u001b[0m\n\u001b[1;32m     30\u001b[0m         \u001b[0mtotal_num_types\u001b[0m \u001b[0;34m=\u001b[0m \u001b[0mnp\u001b[0m\u001b[0;34m.\u001b[0m\u001b[0msum\u001b[0m\u001b[0;34m(\u001b[0m\u001b[0msize\u001b[0m\u001b[0;34m,\u001b[0m \u001b[0maxis\u001b[0m\u001b[0;34m=\u001b[0m\u001b[0;36m0\u001b[0m\u001b[0;34m)\u001b[0m\u001b[0;34m\u001b[0m\u001b[0m\n\u001b[1;32m     31\u001b[0m \u001b[0;34m\u001b[0m\u001b[0m\n\u001b[0;32m---> 32\u001b[0;31m         \u001b[0mprob\u001b[0m\u001b[0;34m,\u001b[0m \u001b[0msolver\u001b[0m \u001b[0;34m=\u001b[0m \u001b[0mgenerate_cvxpy_solve\u001b[0m\u001b[0;34m(\u001b[0m\u001b[0mnum_types\u001b[0m\u001b[0;34m,\u001b[0m \u001b[0mnum_resources\u001b[0m\u001b[0;34m)\u001b[0m\u001b[0;34m\u001b[0m\u001b[0m\n\u001b[0m\u001b[1;32m     33\u001b[0m \u001b[0;34m\u001b[0m\u001b[0m\n\u001b[1;32m     34\u001b[0m \u001b[0;34m\u001b[0m\u001b[0m\n",
      "\u001b[0;31mValueError\u001b[0m: too many values to unpack (expected 2)"
     ]
    }
   ],
   "source": [
    "data = []\n",
    "num_types = 5\n",
    "num_resources = 3\n",
    "weights = np.asarray([[1, 2, 3], [1, 3, 2], [4, 1, 5], [1, 2, .5], [3, 7, 5]])\n",
    "sum_of_rows = weights.sum(axis=1)\n",
    "weights = weights / sum_of_rows[:, np.newaxis]\n",
    "\n",
    "# algo_list = [adapt_init_threshold_new_cb, adapt_threshold, adapt_init_threshold, sid_threshold, adapt_init_under_over_threshold, fixed_threshold]\n",
    "algo_list = [fixed_threshold,adapt_init_threshold]\n",
    "# algo_list = [fixed_threshold]\n",
    "\n",
    "\n",
    "num_iterations = 5\n",
    "max_n = 100\n",
    "\n",
    "mean_size = np.asarray([1, 3, 6, 2, 5])\n",
    "# dist_weights = [1/5, 1/5, 1/5, 1/5, 1/5]\n",
    "\n",
    "for n in tqdm(np.arange(2,max_n+1)):\n",
    "    print('Num Locations: ' + str(n))\n",
    "    # pected_size = mean_size\n",
    "    budget = [n, n, n]\n",
    "    \n",
    "    mean = np.array([mean_size,]*n)\n",
    "    # print(mean)\n",
    "    for i in range(num_iterations):\n",
    "        # size = np.random.choice(size=(n, num_types), a=[1.,2.], p=[1/2, 1/2])\n",
    "        size = 1+np.random.poisson(size=(n, num_types), lam = mean_size)\n",
    "        # print('Size: ' + str(size))\n",
    "        total_num_types = np.sum(size, axis=0)\n",
    "        \n",
    "        prob, solver = generate_cvxpy_solve(num_types, num_resources)\n",
    "\n",
    "        \n",
    "        # print(num_types, num_resources, budget.shape size.shape, )\n",
    "        \n",
    "        opt = offline_opt(budget, size, mean, weights, solver)\n",
    "        \n",
    "        # print('opt: ' + str(opt))\n",
    "        for algo in algo_list:\n",
    "            sol, waste = algo(budget, size, mean, weights, solver)\n",
    "            \n",
    "            # print('Algo: ' + str(sol))\n",
    "            # print('Opt: ' + str(opt))\n",
    "            \n",
    "            data_dict = {'NumGroups': n, 'Algorithm':algo.__name__, 'Norm': 'L1', 'Value': np.sum(np.abs(opt-sol))}\n",
    "            data.append(data_dict)\n",
    "            data_dict = {'NumGroups': n, 'Algorithm':algo.__name__, 'Norm': 'Linf', 'Value': np.max(np.abs(opt-sol))}\n",
    "            data.append(data_dict)\n",
    "            data_dict = {'NumGroups': n, 'Algorithm':algo.__name__, 'Norm': 'Waste', 'Value': np.sum(waste) / n}\n",
    "            data.append(data_dict)\n",
    "        \n",
    "    sleep(0)"
   ]
  },
  {
   "cell_type": "code",
   "execution_count": null,
   "metadata": {},
   "outputs": [],
   "source": [
    "df = pd.DataFrame.from_records(data)\n",
    "df.columns\n",
    "\n",
    "\n",
    "#filled_markers = ('o', 'v', '^', '<', '>', '8', 's', 'p', '*', 'h', 'H', 'D', 'd', 'P', 'X')\n",
    "#plt.figure(figsize=(20,10))\n",
    "#plt.title('Simple Distribution L1')\n",
    "#sns.lineplot(x='NumGroups', y='value', hue='variable', data=df[df.Norm == 'L1'])\n",
    "\n",
    "filled_markers = ('o', 'v', '^', '<', '>', '8', 's', 'p', '*', 'h', 'H', 'D', 'd', 'P', 'X')\n",
    "plt.figure(figsize=(16,8))\n",
    "plt.title('Simple Distribution LInf')\n",
    "sns.lineplot(x='NumGroups', y='Value', hue='Algorithm', data=df[df.Norm == 'Linf'], ci=None)\n",
    "\n",
    "\n",
    "filled_markers = ('o', 'v', '^', '<', '>', '8', 's', 'p', '*', 'h', 'H', 'D', 'd', 'P', 'X')\n",
    "plt.figure(figsize=(16,8))\n",
    "plt.title('Simple Distribution Waste')\n",
    "sns.lineplot(x='NumGroups', y='Value', hue='Algorithm', data=df[df.Norm == 'Waste'], ci=None)\n"
   ]
  },
  {
   "cell_type": "markdown",
   "metadata": {
    "id": "iYWsXi6m9WO_"
   },
   "source": [
    "### Group by Group Difference"
   ]
  },
  {
   "cell_type": "code",
   "execution_count": null,
   "metadata": {
    "colab": {
     "base_uri": "https://localhost:8080/",
     "height": 67,
     "referenced_widgets": [
      "443eb1755fff42eb828f3c1c09ecee7d",
      "0a19ceff7978453c92fb8950419e072d",
      "1cd56fc409a842bd847832d9012c8324",
      "812807fe41d548d6a635abb417332377",
      "c49975ea20ec4c98a6b72cc99e10745e",
      "927e76f879524fe58bcb136499394955",
      "dad148b4204b4e989f04cc1616c1eb5f",
      "f8d83b0651e142ae8a6268d4e7f45205"
     ]
    },
    "executionInfo": {
     "elapsed": 22077,
     "status": "ok",
     "timestamp": 1611785672617,
     "user": {
      "displayName": "Sean Sinclair",
      "photoUrl": "https://lh3.googleusercontent.com/a-/AOh14GgiZ1PfVGrBMLuC7RxoNojx6NGtoiM-OmF94fkk=s64",
      "userId": "12952511139192190002"
     },
     "user_tz": 300
    },
    "id": "wi1qi7iL9WO_",
    "outputId": "b92cd6ea-351e-42d8-e143-f4c81d8efa8a"
   },
   "outputs": [],
   "source": [
    "data = []\n",
    "fair_data = []\n",
    "num_types = 5\n",
    "num_resources = 3\n",
    "weights = np.asarray([[1, 2, 3], [1, 3, 2], [4, 1, 5], [1, 2, .5], [3, 7, 5]])\n",
    "sum_of_rows = weights.sum(axis=1)\n",
    "weights = weights / sum_of_rows[:, np.newaxis]\n",
    "\n",
    "# algo_list = [adapt_init_threshold_new_cb, adapt_threshold, adapt_init_threshold, sid_threshold, adapt_init_under_over_threshold, fixed_threshold]\n",
    "algo_list = [fixed_threshold,adapt_init_threshold]\n",
    "\n",
    "num_iterations = 20\n",
    "n = 100\n",
    "\n",
    "mean_size = np.asarray([1, 3, 6, 2, 5])\n",
    "\n",
    "\n",
    "\n",
    "for i in tqdm(range(num_iterations)):\n",
    "    budget = [n, n, n]\n",
    "    \n",
    "    mean = np.array([mean_size,]*n)\n",
    "    # print(mean)\n",
    "\n",
    "    # size = np.random.choice(size=n, a=[1.,2.], p=[1/2, 1/2])\n",
    "    size = 1+np.random.poisson(size=(n, num_types), lam = mean_size)\n",
    "    # print('Size: ' + str(size))\n",
    "    total_num_types = np.sum(size, axis=0)\n",
    "\n",
    "    prob, solver = generate_cvxpy_solve(num_types, num_resources)\n",
    "\n",
    "\n",
    "    # print(num_types, num_resources, budget.shape size.shape, )\n",
    "\n",
    "    opt = offline_opt(budget, size, mean, weights, solver)\n",
    "\n",
    "    # print('opt: ' + str(opt))\n",
    "    for algo in algo_list:\n",
    "        sol, waste = algo(budget, size, mean, weights, solver)\n",
    "        \n",
    "        prop_alloc = budget / np.sum(size)   \n",
    "        envy = 0\n",
    "        proportional = 0\n",
    "        \n",
    "        \n",
    "        for j in range(n):\n",
    "            data.append({'Location':j, 'Algorithm':algo.__name__, 'Value': np.max(opt[j] - sol[j])})\n",
    "            for k in range(num_types):\n",
    "                proportional = max(proportional, np.dot(weights[k,:], prop_alloc) - np.dot(weights[k,:], sol[j,k,:]))\n",
    "        \n",
    "        for j1 in range(n):\n",
    "            for j2 in range(n):\n",
    "                for k1 in range(num_types):\n",
    "                    for k2 in range(num_types):\n",
    "                        # how much envy do people of type k1 in location j1 have for people of type k2 in location j2\n",
    "                        envy = max(envy, np.dot(weights[k1,:], sol[j2, k2, :]) - np.dot(weights[k1,:], sol[j1, k1, :]))\n",
    "            \n",
    "        \n",
    "        fair_data.append({'Iteration':i, 'Algorithm':algo.__name__, 'Waste':np.sum(waste) / n, 'Envy':envy, 'Proportional':proportional})\n",
    "            \n",
    "for i in range(n):\n",
    "    data.append({'Location': i, 'Algorithm':'Zero', 'Value': 0})"
   ]
  },
  {
   "cell_type": "code",
   "execution_count": null,
   "metadata": {
    "colab": {
     "base_uri": "https://localhost:8080/",
     "height": 639
    },
    "executionInfo": {
     "elapsed": 22871,
     "status": "ok",
     "timestamp": 1611785673418,
     "user": {
      "displayName": "Sean Sinclair",
      "photoUrl": "https://lh3.googleusercontent.com/a-/AOh14GgiZ1PfVGrBMLuC7RxoNojx6NGtoiM-OmF94fkk=s64",
      "userId": "12952511139192190002"
     },
     "user_tz": 300
    },
    "id": "C1Mvs2w49WO_",
    "outputId": "b3513743-3729-467b-a4d8-c250b5c71e62"
   },
   "outputs": [],
   "source": [
    "df = pd.DataFrame.from_records(data)\n",
    "\n",
    "plt.figure(figsize=(20,10))\n",
    "sns.lineplot(x='Location', y='Value', hue = 'Algorithm', data=df, ci = None)\n",
    "plt.title('Allocation Difference')\n",
    "plt.xlabel('Location')\n",
    "plt.ylabel('Allocation Difference')\n",
    "plt.plot()"
   ]
  },
  {
   "cell_type": "markdown",
   "metadata": {
    "id": "RJT-5Jv56RH9"
   },
   "source": [
    "Note: Discrepancy is between where max and average are between this plot and the other one."
   ]
  },
  {
   "cell_type": "markdown",
   "metadata": {},
   "source": [
    "### Printing Fairness Metrics"
   ]
  },
  {
   "cell_type": "code",
   "execution_count": null,
   "metadata": {},
   "outputs": [],
   "source": [
    "fair_df = pd.DataFrame.from_records(fair_data)\n",
    "print(fair_df.columns)\n",
    "fair_df = fair_df.groupby(['Algorithm']).mean()\n",
    "print(fair_df.drop(['Iteration'], axis=1))"
   ]
  }
 ],
 "metadata": {
  "colab": {
   "collapsed_sections": [],
   "name": "adaptive_threshold.ipynb",
   "provenance": []
  },
  "kernelspec": {
   "display_name": "Python 3",
   "language": "python",
   "name": "python3"
  },
  "language_info": {
   "codemirror_mode": {
    "name": "ipython",
    "version": 3
   },
   "file_extension": ".py",
   "mimetype": "text/x-python",
   "name": "python",
   "nbconvert_exporter": "python",
   "pygments_lexer": "ipython3",
   "version": "3.8.8"
  },
  "widgets": {
   "application/vnd.jupyter.widget-state+json": {
    "0a19ceff7978453c92fb8950419e072d": {
     "model_module": "@jupyter-widgets/base",
     "model_name": "LayoutModel",
     "state": {
      "_model_module": "@jupyter-widgets/base",
      "_model_module_version": "1.2.0",
      "_model_name": "LayoutModel",
      "_view_count": null,
      "_view_module": "@jupyter-widgets/base",
      "_view_module_version": "1.2.0",
      "_view_name": "LayoutView",
      "align_content": null,
      "align_items": null,
      "align_self": null,
      "border": null,
      "bottom": null,
      "display": null,
      "flex": null,
      "flex_flow": null,
      "grid_area": null,
      "grid_auto_columns": null,
      "grid_auto_flow": null,
      "grid_auto_rows": null,
      "grid_column": null,
      "grid_gap": null,
      "grid_row": null,
      "grid_template_areas": null,
      "grid_template_columns": null,
      "grid_template_rows": null,
      "height": null,
      "justify_content": null,
      "justify_items": null,
      "left": null,
      "margin": null,
      "max_height": null,
      "max_width": null,
      "min_height": null,
      "min_width": null,
      "object_fit": null,
      "object_position": null,
      "order": null,
      "overflow": null,
      "overflow_x": null,
      "overflow_y": null,
      "padding": null,
      "right": null,
      "top": null,
      "visibility": null,
      "width": null
     }
    },
    "1cd56fc409a842bd847832d9012c8324": {
     "model_module": "@jupyter-widgets/controls",
     "model_name": "FloatProgressModel",
     "state": {
      "_dom_classes": [],
      "_model_module": "@jupyter-widgets/controls",
      "_model_module_version": "1.5.0",
      "_model_name": "FloatProgressModel",
      "_view_count": null,
      "_view_module": "@jupyter-widgets/controls",
      "_view_module_version": "1.5.0",
      "_view_name": "ProgressView",
      "bar_style": "success",
      "description": "100%",
      "description_tooltip": null,
      "layout": "IPY_MODEL_927e76f879524fe58bcb136499394955",
      "max": 100,
      "min": 0,
      "orientation": "horizontal",
      "style": "IPY_MODEL_c49975ea20ec4c98a6b72cc99e10745e",
      "value": 100
     }
    },
    "1e36c3f407884be9847d7393629ef768": {
     "model_module": "@jupyter-widgets/controls",
     "model_name": "HTMLModel",
     "state": {
      "_dom_classes": [],
      "_model_module": "@jupyter-widgets/controls",
      "_model_module_version": "1.5.0",
      "_model_name": "HTMLModel",
      "_view_count": null,
      "_view_module": "@jupyter-widgets/controls",
      "_view_module_version": "1.5.0",
      "_view_name": "HTMLView",
      "description": "",
      "description_tooltip": null,
      "layout": "IPY_MODEL_6d967cff11574e62aed6bc3f86c3187c",
      "placeholder": "​",
      "style": "IPY_MODEL_5bde03c411474113b4c4bed539353f57",
      "value": " 99/99 [00:18&lt;00:00,  5.49it/s]"
     }
    },
    "1fb709b814ce4d4d81ec24c1443dc6a2": {
     "model_module": "@jupyter-widgets/controls",
     "model_name": "FloatProgressModel",
     "state": {
      "_dom_classes": [],
      "_model_module": "@jupyter-widgets/controls",
      "_model_module_version": "1.5.0",
      "_model_name": "FloatProgressModel",
      "_view_count": null,
      "_view_module": "@jupyter-widgets/controls",
      "_view_module_version": "1.5.0",
      "_view_name": "ProgressView",
      "bar_style": "success",
      "description": "100%",
      "description_tooltip": null,
      "layout": "IPY_MODEL_b9e16375f07c49208662ae88538a4213",
      "max": 99,
      "min": 0,
      "orientation": "horizontal",
      "style": "IPY_MODEL_78d9669e53ce463193e4485863ef887f",
      "value": 99
     }
    },
    "378b8b4ca0244f30b3e3d75c17037de8": {
     "model_module": "@jupyter-widgets/base",
     "model_name": "LayoutModel",
     "state": {
      "_model_module": "@jupyter-widgets/base",
      "_model_module_version": "1.2.0",
      "_model_name": "LayoutModel",
      "_view_count": null,
      "_view_module": "@jupyter-widgets/base",
      "_view_module_version": "1.2.0",
      "_view_name": "LayoutView",
      "align_content": null,
      "align_items": null,
      "align_self": null,
      "border": null,
      "bottom": null,
      "display": null,
      "flex": null,
      "flex_flow": null,
      "grid_area": null,
      "grid_auto_columns": null,
      "grid_auto_flow": null,
      "grid_auto_rows": null,
      "grid_column": null,
      "grid_gap": null,
      "grid_row": null,
      "grid_template_areas": null,
      "grid_template_columns": null,
      "grid_template_rows": null,
      "height": null,
      "justify_content": null,
      "justify_items": null,
      "left": null,
      "margin": null,
      "max_height": null,
      "max_width": null,
      "min_height": null,
      "min_width": null,
      "object_fit": null,
      "object_position": null,
      "order": null,
      "overflow": null,
      "overflow_x": null,
      "overflow_y": null,
      "padding": null,
      "right": null,
      "top": null,
      "visibility": null,
      "width": null
     }
    },
    "443eb1755fff42eb828f3c1c09ecee7d": {
     "model_module": "@jupyter-widgets/controls",
     "model_name": "HBoxModel",
     "state": {
      "_dom_classes": [],
      "_model_module": "@jupyter-widgets/controls",
      "_model_module_version": "1.5.0",
      "_model_name": "HBoxModel",
      "_view_count": null,
      "_view_module": "@jupyter-widgets/controls",
      "_view_module_version": "1.5.0",
      "_view_name": "HBoxView",
      "box_style": "",
      "children": [
       "IPY_MODEL_1cd56fc409a842bd847832d9012c8324",
       "IPY_MODEL_812807fe41d548d6a635abb417332377"
      ],
      "layout": "IPY_MODEL_0a19ceff7978453c92fb8950419e072d"
     }
    },
    "5bde03c411474113b4c4bed539353f57": {
     "model_module": "@jupyter-widgets/controls",
     "model_name": "DescriptionStyleModel",
     "state": {
      "_model_module": "@jupyter-widgets/controls",
      "_model_module_version": "1.5.0",
      "_model_name": "DescriptionStyleModel",
      "_view_count": null,
      "_view_module": "@jupyter-widgets/base",
      "_view_module_version": "1.2.0",
      "_view_name": "StyleView",
      "description_width": ""
     }
    },
    "6d967cff11574e62aed6bc3f86c3187c": {
     "model_module": "@jupyter-widgets/base",
     "model_name": "LayoutModel",
     "state": {
      "_model_module": "@jupyter-widgets/base",
      "_model_module_version": "1.2.0",
      "_model_name": "LayoutModel",
      "_view_count": null,
      "_view_module": "@jupyter-widgets/base",
      "_view_module_version": "1.2.0",
      "_view_name": "LayoutView",
      "align_content": null,
      "align_items": null,
      "align_self": null,
      "border": null,
      "bottom": null,
      "display": null,
      "flex": null,
      "flex_flow": null,
      "grid_area": null,
      "grid_auto_columns": null,
      "grid_auto_flow": null,
      "grid_auto_rows": null,
      "grid_column": null,
      "grid_gap": null,
      "grid_row": null,
      "grid_template_areas": null,
      "grid_template_columns": null,
      "grid_template_rows": null,
      "height": null,
      "justify_content": null,
      "justify_items": null,
      "left": null,
      "margin": null,
      "max_height": null,
      "max_width": null,
      "min_height": null,
      "min_width": null,
      "object_fit": null,
      "object_position": null,
      "order": null,
      "overflow": null,
      "overflow_x": null,
      "overflow_y": null,
      "padding": null,
      "right": null,
      "top": null,
      "visibility": null,
      "width": null
     }
    },
    "6edde265d414491ba9c5d75c4b666028": {
     "model_module": "@jupyter-widgets/controls",
     "model_name": "HBoxModel",
     "state": {
      "_dom_classes": [],
      "_model_module": "@jupyter-widgets/controls",
      "_model_module_version": "1.5.0",
      "_model_name": "HBoxModel",
      "_view_count": null,
      "_view_module": "@jupyter-widgets/controls",
      "_view_module_version": "1.5.0",
      "_view_name": "HBoxView",
      "box_style": "",
      "children": [
       "IPY_MODEL_1fb709b814ce4d4d81ec24c1443dc6a2",
       "IPY_MODEL_1e36c3f407884be9847d7393629ef768"
      ],
      "layout": "IPY_MODEL_378b8b4ca0244f30b3e3d75c17037de8"
     }
    },
    "78d9669e53ce463193e4485863ef887f": {
     "model_module": "@jupyter-widgets/controls",
     "model_name": "ProgressStyleModel",
     "state": {
      "_model_module": "@jupyter-widgets/controls",
      "_model_module_version": "1.5.0",
      "_model_name": "ProgressStyleModel",
      "_view_count": null,
      "_view_module": "@jupyter-widgets/base",
      "_view_module_version": "1.2.0",
      "_view_name": "StyleView",
      "bar_color": null,
      "description_width": "initial"
     }
    },
    "812807fe41d548d6a635abb417332377": {
     "model_module": "@jupyter-widgets/controls",
     "model_name": "HTMLModel",
     "state": {
      "_dom_classes": [],
      "_model_module": "@jupyter-widgets/controls",
      "_model_module_version": "1.5.0",
      "_model_name": "HTMLModel",
      "_view_count": null,
      "_view_module": "@jupyter-widgets/controls",
      "_view_module_version": "1.5.0",
      "_view_name": "HTMLView",
      "description": "",
      "description_tooltip": null,
      "layout": "IPY_MODEL_f8d83b0651e142ae8a6268d4e7f45205",
      "placeholder": "​",
      "style": "IPY_MODEL_dad148b4204b4e989f04cc1616c1eb5f",
      "value": " 100/100 [00:01&lt;00:00, 63.46it/s]"
     }
    },
    "927e76f879524fe58bcb136499394955": {
     "model_module": "@jupyter-widgets/base",
     "model_name": "LayoutModel",
     "state": {
      "_model_module": "@jupyter-widgets/base",
      "_model_module_version": "1.2.0",
      "_model_name": "LayoutModel",
      "_view_count": null,
      "_view_module": "@jupyter-widgets/base",
      "_view_module_version": "1.2.0",
      "_view_name": "LayoutView",
      "align_content": null,
      "align_items": null,
      "align_self": null,
      "border": null,
      "bottom": null,
      "display": null,
      "flex": null,
      "flex_flow": null,
      "grid_area": null,
      "grid_auto_columns": null,
      "grid_auto_flow": null,
      "grid_auto_rows": null,
      "grid_column": null,
      "grid_gap": null,
      "grid_row": null,
      "grid_template_areas": null,
      "grid_template_columns": null,
      "grid_template_rows": null,
      "height": null,
      "justify_content": null,
      "justify_items": null,
      "left": null,
      "margin": null,
      "max_height": null,
      "max_width": null,
      "min_height": null,
      "min_width": null,
      "object_fit": null,
      "object_position": null,
      "order": null,
      "overflow": null,
      "overflow_x": null,
      "overflow_y": null,
      "padding": null,
      "right": null,
      "top": null,
      "visibility": null,
      "width": null
     }
    },
    "b9e16375f07c49208662ae88538a4213": {
     "model_module": "@jupyter-widgets/base",
     "model_name": "LayoutModel",
     "state": {
      "_model_module": "@jupyter-widgets/base",
      "_model_module_version": "1.2.0",
      "_model_name": "LayoutModel",
      "_view_count": null,
      "_view_module": "@jupyter-widgets/base",
      "_view_module_version": "1.2.0",
      "_view_name": "LayoutView",
      "align_content": null,
      "align_items": null,
      "align_self": null,
      "border": null,
      "bottom": null,
      "display": null,
      "flex": null,
      "flex_flow": null,
      "grid_area": null,
      "grid_auto_columns": null,
      "grid_auto_flow": null,
      "grid_auto_rows": null,
      "grid_column": null,
      "grid_gap": null,
      "grid_row": null,
      "grid_template_areas": null,
      "grid_template_columns": null,
      "grid_template_rows": null,
      "height": null,
      "justify_content": null,
      "justify_items": null,
      "left": null,
      "margin": null,
      "max_height": null,
      "max_width": null,
      "min_height": null,
      "min_width": null,
      "object_fit": null,
      "object_position": null,
      "order": null,
      "overflow": null,
      "overflow_x": null,
      "overflow_y": null,
      "padding": null,
      "right": null,
      "top": null,
      "visibility": null,
      "width": null
     }
    },
    "c49975ea20ec4c98a6b72cc99e10745e": {
     "model_module": "@jupyter-widgets/controls",
     "model_name": "ProgressStyleModel",
     "state": {
      "_model_module": "@jupyter-widgets/controls",
      "_model_module_version": "1.5.0",
      "_model_name": "ProgressStyleModel",
      "_view_count": null,
      "_view_module": "@jupyter-widgets/base",
      "_view_module_version": "1.2.0",
      "_view_name": "StyleView",
      "bar_color": null,
      "description_width": "initial"
     }
    },
    "dad148b4204b4e989f04cc1616c1eb5f": {
     "model_module": "@jupyter-widgets/controls",
     "model_name": "DescriptionStyleModel",
     "state": {
      "_model_module": "@jupyter-widgets/controls",
      "_model_module_version": "1.5.0",
      "_model_name": "DescriptionStyleModel",
      "_view_count": null,
      "_view_module": "@jupyter-widgets/base",
      "_view_module_version": "1.2.0",
      "_view_name": "StyleView",
      "description_width": ""
     }
    },
    "f8d83b0651e142ae8a6268d4e7f45205": {
     "model_module": "@jupyter-widgets/base",
     "model_name": "LayoutModel",
     "state": {
      "_model_module": "@jupyter-widgets/base",
      "_model_module_version": "1.2.0",
      "_model_name": "LayoutModel",
      "_view_count": null,
      "_view_module": "@jupyter-widgets/base",
      "_view_module_version": "1.2.0",
      "_view_name": "LayoutView",
      "align_content": null,
      "align_items": null,
      "align_self": null,
      "border": null,
      "bottom": null,
      "display": null,
      "flex": null,
      "flex_flow": null,
      "grid_area": null,
      "grid_auto_columns": null,
      "grid_auto_flow": null,
      "grid_auto_rows": null,
      "grid_column": null,
      "grid_gap": null,
      "grid_row": null,
      "grid_template_areas": null,
      "grid_template_columns": null,
      "grid_template_rows": null,
      "height": null,
      "justify_content": null,
      "justify_items": null,
      "left": null,
      "margin": null,
      "max_height": null,
      "max_width": null,
      "min_height": null,
      "min_width": null,
      "object_fit": null,
      "object_position": null,
      "order": null,
      "overflow": null,
      "overflow_x": null,
      "overflow_y": null,
      "padding": null,
      "right": null,
      "top": null,
      "visibility": null,
      "width": null
     }
    }
   }
  }
 },
 "nbformat": 4,
 "nbformat_minor": 1
}
