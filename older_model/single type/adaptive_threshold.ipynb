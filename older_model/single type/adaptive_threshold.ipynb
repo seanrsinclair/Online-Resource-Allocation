{
 "cells": [
  {
   "cell_type": "markdown",
   "metadata": {
    "id": "AT5gf3Q59WOm"
   },
   "source": [
    "# Single Type Experiment"
   ]
  },
  {
   "cell_type": "code",
   "execution_count": 119,
   "metadata": {
    "id": "Bu5uZ0yB9WOv"
   },
   "outputs": [],
   "source": [
    "import warnings;\n",
    "warnings.filterwarnings('ignore');\n",
    "\n",
    "from time import sleep\n",
    "from tqdm.auto import tqdm\n",
    "\n",
    "import sys\n",
    "import importlib\n",
    "import numpy as np\n",
    "import nbformat\n",
    "import pandas as pd\n",
    "import scipy.optimize as optimization\n",
    "import matplotlib.pyplot as plt\n",
    "import seaborn as sns"
   ]
  },
  {
   "cell_type": "markdown",
   "metadata": {},
   "source": [
    "### Confidence Radius"
   ]
  },
  {
   "cell_type": "code",
   "execution_count": 120,
   "metadata": {},
   "outputs": [],
   "source": [
    "cthresh = 1\n",
    "cup = 1\n",
    "clow = 1\n",
    "Linf = 1/3"
   ]
  },
  {
   "cell_type": "markdown",
   "metadata": {},
   "source": [
    "### Offline Optimal Solution"
   ]
  },
  {
   "cell_type": "code",
   "execution_count": 121,
   "metadata": {
    "id": "SH-gGWE99WOw"
   },
   "outputs": [],
   "source": [
    "def offline_opt(budget, size, mean):\n",
    "    # return [budget / np.sum(size) * size[i] for i in range(len(size))]\n",
    "    return [budget / np.sum(size) for i in range(len(size))]"
   ]
  },
  {
   "cell_type": "markdown",
   "metadata": {},
   "source": [
    "### Threshold Based Algorithms"
   ]
  },
  {
   "cell_type": "code",
   "execution_count": 79,
   "metadata": {},
   "outputs": [],
   "source": [
    "def fixed_threshold(budget, size, mean):\n",
    "    allocation = np.zeros(len(size))\n",
    "    budget_remaining = budget\n",
    "    \n",
    "    rem = len(size)\n",
    "    size_future = size[0] + np.sum(mean[1:])\n",
    "    \n",
    "    thresh = (budget / size_future) - (cthresh / (rem**(1/2)))\n",
    "    # thresh = budget / (size[0] + np.sum(mean[1:]) + clow*np.sqrt(np.log(len(size)-1) * (len(size)-1)))\n",
    "    \n",
    "    \n",
    "    for i in range(len(allocation)):\n",
    "        # allocation[i] = min(budget_remaining, thresh * size[i])\n",
    "        allocation[i] = min(budget_remaining / size[i], thresh)\n",
    "        budget_remaining -= allocation[i] * size[i]\n",
    "    return allocation"
   ]
  },
  {
   "cell_type": "code",
   "execution_count": 5,
   "metadata": {
    "id": "M0ihc2Q-9WOx"
   },
   "outputs": [],
   "source": [
    "# def sid_threshold(budget, size, mean):\n",
    "#     allocation = np.zeros(len(size))\n",
    "#     budget_remaining = budget\n",
    "\n",
    "#     conf_bnd = (np.sum(mean[1:]))**(0.6) #c*np.sqrt(np.sum(mean)* np.log(len(size)-1)) \n",
    "\n",
    "#     # thresh_lower = budget / (size[0] + np.sum(mean[1:]) + clow*conf_bnd)\n",
    "#     #thresh_upper = budget / (size[0] + np.sum(mean[1:]) - cup*conf_bnd)\n",
    "\n",
    "#     rem = len(size)\n",
    "    \n",
    "#     thresh_lower = budget / (size[0] + np.sum(mean[1:])) - (cthresh * rem**Linf)\n",
    "#     thresh_upper = budget / (size[0] + np.sum(mean[1:])) + (cthresh * rem**Linf)\n",
    "    \n",
    "#     for i in range(len(allocation)-1):\n",
    "#         # TODO: add on confidence terms for (T - i) people here\n",
    "#         #rem = len(allocation) - (i + 1)\n",
    "#         budget_upper = thresh_upper*(size[i] + np.sum(mean[i+1:])) # + c*np.sqrt(rem * np.log(rem)))\n",
    "#         budget_lower = thresh_lower*(size[i] + np.sum(mean[i+1:])) # + c*np.sqrt(rem * np.log(rem)))\n",
    "\n",
    "#         gam = (budget_remaining - budget_lower) / (budget_upper - budget_lower)\n",
    "        \n",
    "#         if gam >= 0.95: allocation[i] = thresh_upper\n",
    "#         else: allocation[i] = thresh_lower\n",
    "        \n",
    "#         if allocation[i] * size[i] <= budget_remaining:\n",
    "#             budget_remaining -= allocation[i] * size[i]\n",
    "#         else:\n",
    "#             allocation[i] = budget_remaining/size[i]\n",
    "#             print('Sid: Running Out of Budget!')\n",
    "#             budget_remaining = 0\n",
    "\n",
    "#         if budget_remaining < 0:\n",
    "#             print(\"Error: Negative Budget\")\n",
    "\n",
    "            \n",
    "#     # fix for last agent\n",
    "#     allocation[-1] = min(thresh_upper, budget_remaining / size[-1])\n",
    "    \n",
    "#     return allocation\n",
    "\n",
    "\n",
    "\n",
    "\n",
    "\n",
    "def sid_threshold(budget, size, mean):\n",
    "    allocation = np.zeros(len(size))\n",
    "    budget_remaining = budget\n",
    "    \n",
    "    rem = len(size)\n",
    "    thresh_lower = budget / (size[0] + np.sum(mean[1:])) - (cthresh / (rem**Linf))\n",
    "    thresh_upper = budget / (size[0] + np.sum(mean[1:])) + (cthresh / (rem**Linf))\n",
    "    \n",
    "    for i in range(len(allocation)):\n",
    "        # TODO: add on confidence terms for (T - i) people here\n",
    "        #rem = len(allocation) - (i + 1)\n",
    "        budget_upper = thresh_upper*(size[i] + np.sum(mean[i+1:]))\n",
    "        budget_lower = thresh_lower*(size[i] + np.sum(mean[i+1:]))\n",
    "\n",
    "        theta = (cthresh / (rem ** Linf)) * ((1/2) * np.sum(mean[i+1:])+ size[i])\n",
    "        \n",
    "        if budget_remaining >= budget_lower + theta:\n",
    "            allocation[i] = min(budget_remaining / size[i], thresh_upper)\n",
    "        else:\n",
    "            allocation[i] = min(budget_remaining / size[i], thresh_lower)\n",
    "            \n",
    "        budget_remaining -= size[i] * allocation[i]\n",
    "        \n",
    "#         if budget_remaining <= 0:\n",
    "#             print(\"Sid: Out of Budget\")\n",
    "\n",
    "    return allocation\n",
    "\n",
    "\n"
   ]
  },
  {
   "cell_type": "code",
   "execution_count": 100,
   "metadata": {
    "id": "REU86rLN9WOz"
   },
   "outputs": [],
   "source": [
    "def hope_guardrail_13(budget, size, mean):\n",
    "    allocation = np.zeros(len(size))\n",
    "    budget_remaining = budget\n",
    "    \n",
    "    \n",
    "\n",
    "\n",
    "    \n",
    "    rem = len(size)\n",
    "#     thresh_lower = max(0, budget / (size[0] + np.sum(mean[1:])) - (cthresh / (rem**Linf)))\n",
    "\n",
    "    size_future = size[0] + np.sum(mean[1:])\n",
    "    \n",
    "    thresh_lower = (budget / size_future)*(1 - (np.sqrt(cthresh*rem*np.log(rem)) / size_future) - (cthresh*np.log(rem) / size_future))\n",
    "    \n",
    "    thresh_upper = thresh_lower + (cthresh / (rem**Linf))\n",
    "    \n",
    "    if thresh_lower < 0:\n",
    "        print('Rem: ' + str(rem))\n",
    "        print('Denom of L_T: ' + str(rem ** Linf))\n",
    "        print('Expect Allocation: ' + str(budget / (size[0] + np.sum(mean[1:]))))\n",
    "        print((cthresh / (rem**Linf)))\n",
    "        print('ERRRORRRRRR!')\n",
    "    \n",
    "    \n",
    "    for i in range(len(allocation)):\n",
    "    \n",
    "        rem = len(allocation) - i\n",
    "        conf_bnd = np.sqrt(np.mean(mean)*(rem))\n",
    "        \n",
    "        \n",
    "        if budget_remaining / size[i] < thresh_lower:\n",
    "            # print(str(i) + ' giving rest of budget!')\n",
    "            allocation[i] = budget_remaining / size[i]\n",
    "        \n",
    "        \n",
    "        \n",
    "        elif budget_remaining >= thresh_lower * (np.sum(mean[i+1:]) + clow*conf_bnd) + size[i] * thresh_upper:\n",
    "            allocation[i] = thresh_upper\n",
    "\n",
    "        else:\n",
    "            allocation[i] = thresh_lower\n",
    "\n",
    "            \n",
    "        budget_remaining -= allocation[i] * size[i]\n",
    "\n",
    "        \n",
    "    if np.round(budget_remaining, 3) < 0:\n",
    "        print(budget_remaining)\n",
    "        print('Error: Negative Budget')\n",
    "                \n",
    "        \n",
    "    return allocation\n",
    "\n"
   ]
  },
  {
   "cell_type": "code",
   "execution_count": 7,
   "metadata": {},
   "outputs": [],
   "source": [
    "def adapt_init_under_over_threshold(budget, size, mean):\n",
    "    \n",
    "    \n",
    "    \n",
    "    allocation = np.zeros(len(size))\n",
    "    budget_remaining = budget\n",
    "    \n",
    "    \n",
    "\n",
    "    rem = len(size)\n",
    "    size_future = size[0] + np.sum(mean[1:])\n",
    "    \n",
    "    thresh_lower = (budget / size_future)*(1 - (np.sqrt(cthresh*rem*np.log(rem)) / size_future) - (cthresh*np.log(rem) / size_future))\n",
    "\n",
    "    thresh_upper = budget / (size[0] + np.sum(mean[1:])) + (cthresh / np.sqrt(len(size)*np.log(len(size))))\n",
    "    \n",
    "    for i in range(len(allocation)):\n",
    "    \n",
    "        rem = len(allocation) - i\n",
    "        conf_bnd = np.sqrt(np.mean(mean)*(rem* np.log(rem)))     \n",
    "        \n",
    "        \n",
    "        if budget_remaining / size[i] < thresh_lower:\n",
    "            # print(str(i) + ' giving rest of budget!')\n",
    "            allocation[i] = budget_remaining / size[i]\n",
    "        \n",
    "        elif budget_remaining <= thresh_upper * (np.sum(mean[i+1:]) + clow*conf_bnd) + size[i] * thresh_lower:\n",
    "            allocation[i] = thresh_lower\n",
    "\n",
    "        else:\n",
    "            allocation[i] = min(budget_remaining / size[i], thresh_upper)\n",
    "\n",
    "            \n",
    "        budget_remaining -= allocation[i] * size[i]\n",
    "\n",
    "        \n",
    "    if np.round(budget_remaining, 3) < 0:\n",
    "        print(budget_remaining)\n",
    "        print('Error: Negative Budget')\n",
    "                \n",
    "        \n",
    "    return allocation"
   ]
  },
  {
   "cell_type": "code",
   "execution_count": 8,
   "metadata": {},
   "outputs": [],
   "source": [
    "def adapt_threshold(budget, size, mean):\n",
    "    allocation = np.zeros(len(size))\n",
    "    budget_remaining = budget\n",
    "    \n",
    "    \n",
    "    \n",
    "\n",
    "\n",
    "    rem = len(allocation)\n",
    "    conf_bnd = np.sqrt(np.mean(mean)*(rem* np.log(rem))) \n",
    "\n",
    "\n",
    "    # print(thresh_lower, thresh_upper)\n",
    "    \n",
    "    for i in range(len(allocation)):\n",
    "    \n",
    "    \n",
    "        rem = len(allocation) - i\n",
    "        conf_bnd = np.sqrt(np.mean(mean)*(rem* np.log(rem))) \n",
    "        # calculates initial thresholds\n",
    "#         thresh_lower = budget / (np.sum(size[0:i+1]) + np.sum(mean[i+1:]) + clow*conf_bnd)\n",
    "#         thresh_upper = budget / (np.sum(size[0:i+1]) + np.sum(mean[i+1:]) - cup*conf_bnd)      \n",
    "        thresh_lower = budget / (size[0] + np.sum(mean[1:])) - (cthresh * rem**Linf)\n",
    "        thresh_upper = budget / (size[0] + np.sum(mean[1:])) + (cthresh * rem**Linf)\n",
    "\n",
    "        \n",
    "        if budget_remaining / size[i] < thresh_lower:\n",
    "            # print(str(i) + ' giving rest of budget!')\n",
    "            allocation[i] = budget_remaining / size[i]\n",
    "        \n",
    "        elif budget_remaining >= thresh_lower * (np.sum(mean[i+1:]) + clow*conf_bnd) + size[i] * thresh_upper:\n",
    "            allocation[i] = thresh_upper\n",
    "\n",
    "        else:\n",
    "            allocation[i] = thresh_lower\n",
    "\n",
    "            \n",
    "        budget_remaining -= allocation[i] * size[i]\n",
    "\n",
    "        \n",
    "    if np.round(budget_remaining, 3) < 0:\n",
    "        print(budget_remaining)\n",
    "        print('Error: Negative Budget')\n",
    "                \n",
    "        \n",
    "    return allocation"
   ]
  },
  {
   "cell_type": "code",
   "execution_count": 9,
   "metadata": {},
   "outputs": [],
   "source": [
    "def adapt_init_threshold_new_cb(budget, size, mean):\n",
    "    allocation = np.zeros(len(size))\n",
    "    budget_remaining = budget\n",
    "    \n",
    "    \n",
    "    \n",
    "\n",
    "    rem = len(allocation)\n",
    "    conf_bnd = np.sqrt(np.mean(mean)*(rem* np.log(rem))) \n",
    "\n",
    "    # calculates initial thresholds\n",
    "#     thresh_lower = budget / (np.sum(size[0]) + np.sum(mean[1:]) + clow*conf_bnd)\n",
    "#     thresh_upper = budget / (np.sum(size[0]) + np.sum(mean[1:]) - cup*conf_bnd)  \n",
    "    # print(thresh_lower, thresh_upper)\n",
    "    \n",
    "    thresh_lower = budget / (size[0] + np.sum(mean[1:])) - (cthresh / np.sqrt(len(size)*np.log(len(size))))\n",
    "    thresh_upper = budget / (size[0] + np.sum(mean[1:])) + (cthresh / np.sqrt(len(size)*np.log(len(size))))\n",
    "    \n",
    "    for i in range(len(allocation)):   \n",
    "        \n",
    "        \n",
    "        if budget_remaining / size[i] < thresh_lower:\n",
    "            # print(str(i) + ' giving rest of budget!')\n",
    "            allocation[i] = budget_remaining / size[i]\n",
    "        elif budget_remaining >= thresh_upper * (size[0] + np.sum(mean[1:]) + np.sum(size[0:i+1]) - clow*conf_bnd) + size[i] * thresh_upper:\n",
    "            allocation[i] = thresh_upper\n",
    "\n",
    "        else:\n",
    "            allocation[i] = thresh_lower\n",
    "\n",
    "            \n",
    "        budget_remaining -= allocation[i] * size[i]\n",
    "\n",
    "        \n",
    "    if np.round(budget_remaining, 3) < 0:\n",
    "        print(budget_remaining)\n",
    "        print('Error: Negative Budget')\n",
    "                \n",
    "        \n",
    "    return allocation\n",
    "\n"
   ]
  },
  {
   "cell_type": "code",
   "execution_count": 10,
   "metadata": {},
   "outputs": [],
   "source": [
    "def epoch_threshold(budget, size, mean):\n",
    "    allocation = np.zeros(len(size))\n",
    "    budget_remaining = budget\n",
    "    \n",
    "     \n",
    "    epoch_length = int(np.ceil(1 / (len(size)**(2*Linf))))\n",
    "    num_epochs = len(size) / epoch_length\n",
    "    \n",
    "    print('Num Epochs: ' + str(num_epochs))\n",
    "    print('Epoch Length: ' + str(epoch_length))\n",
    "    \n",
    "    index = 0\n",
    "    for k in range(int(np.floor(num_epochs))):\n",
    "        epoch_budget = budget_remaining / (num_epochs)\n",
    "        lower_thresh = max(0, epoch_budget / (size[index] + np.sum(mean[index+1:index+epoch_length+1])) - (cthresh * epoch_length**Linf))\n",
    "        for _ in range(epoch_length):\n",
    "            allocation[index] = min(budget_remaining / size[index], lower_thresh)\n",
    "            budget_remaining -= size[index] * allocation[index]\n",
    "            index += 1\n",
    "            \n",
    "    if index != len(size):\n",
    "        print('Carry over due to rounding: ' + str(index))\n",
    "        epoch_budget = budget_remaining\n",
    "        lower_thresh = epoch_budget / (size[index] + np.sum(mean[index+1:len(size)])) - (cthresh * epoch_length**Linf)\n",
    "        for _ in range(len(size) - index):\n",
    "            allocation[index] = min(budget_remaining / size[index], lower_thresh)\n",
    "            budget_remaining -= size[index]*allocation[index]\n",
    "            index += 1\n",
    "        \n",
    "    return allocation"
   ]
  },
  {
   "cell_type": "markdown",
   "metadata": {},
   "source": [
    "### Online EG-Based Methods"
   ]
  },
  {
   "cell_type": "code",
   "execution_count": 11,
   "metadata": {},
   "outputs": [],
   "source": [
    "def hope_online(budget, size, mean):\n",
    "    # initialize allocation vector\n",
    "    allocation = np.zeros(len(size))\n",
    "    budget_remaining = budget\n",
    "    for i in range(len(allocation)):\n",
    "        # allocation[i] = budget_remaining * size[i] / (size[i] + np.sum(mean[i+1:]))\n",
    "        allocation[i] = budget_remaining / (size[i] + np.sum(mean[i+1:]))\n",
    "        \n",
    "        \n",
    "        budget_remaining -= allocation[i] * size[i]\n",
    "    return allocation"
   ]
  },
  {
   "cell_type": "code",
   "execution_count": 12,
   "metadata": {},
   "outputs": [],
   "source": [
    "def hope_full(budget, size, mean):\n",
    "    allocation = np.zeros(len(size))\n",
    "    budget_remaining = budget\n",
    "    for i in range(len(allocation)):\n",
    "#         allocation[i] = min(budget_remaining, budget*size[i] / (np.sum(size[0:i+1]) + np.sum(mean[i+1:])))\n",
    "        allocation[i] = min(budget_remaining / size[i], budget / (np.sum(size[0:i+1]) + np.sum(mean[i+1:])))\n",
    "\n",
    "        budget_remaining -= allocation[i] * size[i]\n",
    "    return allocation\n",
    "\n"
   ]
  },
  {
   "cell_type": "markdown",
   "metadata": {
    "id": "yL7gqoap9WOz"
   },
   "source": [
    "### Test"
   ]
  },
  {
   "cell_type": "code",
   "execution_count": 13,
   "metadata": {
    "colab": {
     "base_uri": "https://localhost:8080/"
    },
    "id": "gy3JIOR09WO0",
    "outputId": "e2bf4da6-9822-4580-cda4-c503ef7c768c"
   },
   "outputs": [
    {
     "name": "stdout",
     "output_type": "stream",
     "text": [
      "9.0\n"
     ]
    }
   ],
   "source": [
    "n = 6\n",
    "sorted_distribution = np.asarray([np.arange(2) + 1 for x in range(n)])\n",
    "weights = np.asarray([np.zeros(2)+0.5 for x in range(n)])\n",
    "mean = [np.dot(weights[i], sorted_distribution[i]) for i in range(n)]\n",
    "\n",
    "expected_demand = 1.5\n",
    "budget = n * expected_demand\n",
    "print(budget)"
   ]
  },
  {
   "cell_type": "code",
   "execution_count": 14,
   "metadata": {
    "colab": {
     "base_uri": "https://localhost:8080/"
    },
    "id": "7IJVsaSj9WO2",
    "outputId": "94ffbc74-a299-4429-c183-887e6b14a98f",
    "scrolled": true
   },
   "outputs": [
    {
     "name": "stdout",
     "output_type": "stream",
     "text": [
      "[[0.5 0.5]\n",
      " [0.5 0.5]\n",
      " [0.5 0.5]\n",
      " [0.5 0.5]\n",
      " [0.5 0.5]\n",
      " [0.5 0.5]]\n"
     ]
    }
   ],
   "source": [
    "print(weights)"
   ]
  },
  {
   "cell_type": "code",
   "execution_count": 15,
   "metadata": {
    "colab": {
     "base_uri": "https://localhost:8080/"
    },
    "id": "BqPPi-qg9WO3",
    "outputId": "defec691-b0c2-47c4-8ab6-c604c285b1b7",
    "scrolled": true
   },
   "outputs": [
    {
     "name": "stdout",
     "output_type": "stream",
     "text": [
      "[[1 2]\n",
      " [1 2]\n",
      " [1 2]\n",
      " [1 2]\n",
      " [1 2]\n",
      " [1 2]]\n"
     ]
    }
   ],
   "source": [
    "print(sorted_distribution)"
   ]
  },
  {
   "cell_type": "code",
   "execution_count": 16,
   "metadata": {
    "id": "En0g8PeH9WO4"
   },
   "outputs": [],
   "source": [
    "size = [2., 1., 1., 1., 2., 1.]"
   ]
  },
  {
   "cell_type": "code",
   "execution_count": 17,
   "metadata": {
    "colab": {
     "base_uri": "https://localhost:8080/"
    },
    "id": "CpEsbp3J9WO5",
    "outputId": "5632738e-7dea-4dab-8e8c-03d46c0f34cd"
   },
   "outputs": [],
   "source": [
    "algo_list = [offline_opt, hope_online, hope_full, adapt_threshold, adapt_init_threshold, sid_threshold, fixed_threshold, epoch_threshold]"
   ]
  },
  {
   "cell_type": "code",
   "execution_count": 18,
   "metadata": {},
   "outputs": [
    {
     "name": "stdout",
     "output_type": "stream",
     "text": [
      "offline_opt\n",
      "[1.125, 1.125, 1.125, 1.125, 1.125, 1.125]\n",
      "hope_online\n",
      "[0.94736842 1.01503759 1.10731374 1.24572796 1.06776682 1.60165023]\n",
      "hope_full\n",
      "[0.94736842 1.         1.05882353 1.125      1.05882353 1.125     ]\n",
      "adapt_threshold\n",
      "[ 3.39685816  3.1834364   2.94736842 -3.92452115 -0.46684514 -0.05263158]\n",
      "adapt_init_threshold\n",
      "[1.35561671 1.35561671 0.53912013 1.35561671 0.53912013 0.53912013]\n",
      "sid_threshold\n",
      "[1.35561671 1.35561671 1.35561671 1.35561671 0.53912013 1.14367618]\n",
      "fixed_threshold\n",
      "[0.53912013 0.53912013 0.53912013 0.53912013 0.53912013 0.53912013]\n",
      "epoch_threshold\n",
      "Num Epochs: 6.0\n",
      "Epoch Length: 1\n",
      "[0.  0.  0.  0.  0.  0.5]\n"
     ]
    }
   ],
   "source": [
    "for algo in algo_list:\n",
    "    print(algo.__name__)\n",
    "    print(algo(budget, size, mean))"
   ]
  },
  {
   "cell_type": "markdown",
   "metadata": {
    "id": "D4xFOfJD9WO-"
   },
   "source": [
    "### Scaling with n"
   ]
  },
  {
   "cell_type": "code",
   "execution_count": 19,
   "metadata": {
    "colab": {
     "base_uri": "https://localhost:8080/"
    },
    "id": "7O-U6Sg7qwFG",
    "outputId": "ab210aa7-b6ee-4a23-f7a7-90822b9957db"
   },
   "outputs": [
    {
     "data": {
      "text/plain": [
       "array([2, 3, 2, 5, 2])"
      ]
     },
     "execution_count": 19,
     "metadata": {},
     "output_type": "execute_result"
    }
   ],
   "source": [
    "#np.random.choice(size=5, a=[1.,2.], p=[1/2, 1/2])\n",
    "1+np.random.poisson(size=5,lam = 1.5)"
   ]
  },
  {
   "cell_type": "code",
   "execution_count": 116,
   "metadata": {
    "colab": {
     "base_uri": "https://localhost:8080/",
     "height": 66,
     "referenced_widgets": [
      "36ca590cba264640a22e62c749911634",
      "c309b4d717224f22ba2a472838426f1c",
      "7c118dd92afd40bdb96e78e194187aaa",
      "0826e304dfb44e79bcb87eacd4fc54af",
      "27facd22fa4940419bbf78205189a910",
      "d7797e1819f541428d0c53bdc72448bd",
      "300bf685668b413fbf12bcf6d498eb40",
      "90ac6004a9f94293830616abe6f5910b"
     ]
    },
    "id": "JIYCYuR39WO-",
    "outputId": "a2fab5d7-5f41-4abc-ab19-3aee3473ef51"
   },
   "outputs": [
    {
     "data": {
      "application/vnd.jupyter.widget-view+json": {
       "model_id": "acb262e0f0f94159ae2450cbd987e629",
       "version_major": 2,
       "version_minor": 0
      },
      "text/plain": [
       "  0%|          | 0/100 [00:00<?, ?it/s]"
      ]
     },
     "metadata": {},
     "output_type": "display_data"
    },
    {
     "name": "stdout",
     "output_type": "stream",
     "text": [
      "ERROR: adapt_init_threshold\n",
      "20.000000000000004 20\n",
      "ERROR: adapt_init_threshold\n",
      "20.000000000000004 20\n",
      "ERROR: adapt_init_threshold\n",
      "22.000000000000014 22\n",
      "ERROR: adapt_init_threshold\n",
      "22.000000000000018 22\n",
      "ERROR: adapt_init_threshold\n",
      "32.00000000000001 32\n",
      "ERROR: adapt_init_threshold\n",
      "36.00000000000001 36\n",
      "ERROR: adapt_init_threshold\n",
      "44.00000000000001 44\n",
      "ERROR: adapt_init_threshold\n",
      "47.00000000000004 47\n",
      "ERROR: adapt_init_threshold\n",
      "51.00000000000005 51\n",
      "ERROR: adapt_init_threshold\n",
      "51.00000000000001 51\n",
      "ERROR: adapt_init_threshold\n",
      "67.00000000000004 67\n",
      "ERROR: adapt_init_threshold\n",
      "67.00000000000004 67\n",
      "ERROR: adapt_init_threshold\n",
      "71.00000000000001 71\n",
      "ERROR: adapt_init_threshold\n",
      "76.00000000000007 76\n",
      "ERROR: adapt_init_threshold\n",
      "76.00000000000003 76\n",
      "ERROR: adapt_init_threshold\n",
      "76.00000000000003 76\n",
      "ERROR: adapt_init_threshold\n",
      "88.00000000000003 88\n",
      "ERROR: adapt_init_threshold\n",
      "88.00000000000004 88\n",
      "ERROR: adapt_init_threshold\n",
      "94.00000000000006 94\n",
      "ERROR: adapt_init_threshold\n",
      "94.00000000000011 94\n",
      "ERROR: adapt_init_threshold\n",
      "94.00000000000007 94\n",
      "ERROR: adapt_init_threshold\n",
      "94.00000000000006 94\n",
      "ERROR: adapt_init_threshold\n",
      "94.00000000000001 94\n",
      "ERROR: adapt_init_threshold\n",
      "109.00000000000003 109\n",
      "ERROR: adapt_init_threshold\n",
      "116.00000000000009 116\n",
      "ERROR: adapt_init_threshold\n",
      "116.00000000000007 116\n",
      "ERROR: adapt_init_threshold\n",
      "125.00000000000017 125\n",
      "ERROR: adapt_init_threshold\n",
      "125.00000000000013 125\n",
      "ERROR: adapt_init_threshold\n",
      "125.00000000000006 125\n",
      "ERROR: adapt_init_threshold\n",
      "125.00000000000007 125\n",
      "ERROR: adapt_init_threshold\n",
      "134.0000000000001 134\n",
      "ERROR: adapt_init_threshold\n",
      "134.0000000000001 134\n",
      "ERROR: adapt_init_threshold\n",
      "155.0000000000001 155\n",
      "ERROR: adapt_init_threshold\n",
      "166.0000000000002 166\n",
      "ERROR: adapt_init_threshold\n",
      "192.00000000000003 192\n",
      "ERROR: adapt_init_threshold\n",
      "206.00000000000006 206\n",
      "ERROR: adapt_init_threshold\n",
      "206.00000000000009 206\n",
      "ERROR: adapt_init_threshold\n",
      "206.00000000000023 206\n",
      "ERROR: adapt_init_threshold\n",
      "222.0000000000001 222\n",
      "ERROR: adapt_init_threshold\n",
      "222.00000000000048 222\n",
      "ERROR: adapt_init_threshold\n",
      "222.00000000000026 222\n",
      "ERROR: adapt_init_threshold\n",
      "222.00000000000009 222\n",
      "ERROR: adapt_init_threshold\n",
      "256.00000000000034 256\n",
      "ERROR: adapt_init_threshold\n",
      "256.00000000000034 256\n",
      "ERROR: adapt_init_threshold\n",
      "256.00000000000034 256\n",
      "ERROR: adapt_init_threshold\n",
      "256.00000000000114 256\n",
      "ERROR: adapt_init_threshold\n",
      "256.000000000001 256\n",
      "ERROR: adapt_init_threshold\n",
      "256.0000000000009 256\n",
      "ERROR: adapt_init_threshold\n",
      "276.00000000000045 276\n",
      "ERROR: adapt_init_threshold\n",
      "296.00000000000057 296\n",
      "ERROR: adapt_init_threshold\n",
      "296.00000000000017 296\n",
      "ERROR: adapt_init_threshold\n",
      "319.0000000000002 319\n",
      "ERROR: adapt_init_threshold\n",
      "319.0000000000003 319\n",
      "ERROR: adapt_init_threshold\n",
      "319.00000000000045 319\n",
      "ERROR: adapt_init_threshold\n",
      "343.00000000000074 343\n",
      "ERROR: adapt_init_threshold\n",
      "343.00000000000057 343\n",
      "ERROR: adapt_init_threshold\n",
      "343.00000000000006 343\n",
      "ERROR: adapt_init_threshold\n",
      "397.0000000000013 397\n",
      "ERROR: adapt_init_threshold\n",
      "397.00000000000153 397\n",
      "ERROR: adapt_init_threshold\n",
      "397.0000000000016 397\n",
      "ERROR: adapt_init_threshold\n",
      "459.0000000000009 459\n",
      "ERROR: adapt_init_threshold\n",
      "459.00000000000034 459\n",
      "ERROR: adapt_init_threshold\n",
      "494.00000000000114 494\n",
      "ERROR: adapt_init_threshold\n",
      "494.00000000000074 494\n",
      "ERROR: adapt_init_threshold\n",
      "494.00000000000085 494\n",
      "ERROR: adapt_init_threshold\n",
      "494.00000000000216 494\n",
      "ERROR: adapt_init_threshold\n",
      "494.00000000000114 494\n",
      "ERROR: adapt_init_threshold\n",
      "494.0000000000002 494\n",
      "ERROR: adapt_init_threshold\n",
      "571.000000000003 571\n",
      "ERROR: adapt_init_threshold\n",
      "571.0000000000035 571\n",
      "ERROR: adapt_init_threshold\n",
      "615.0000000000024 615\n",
      "ERROR: adapt_init_threshold\n",
      "615.0000000000019 615\n",
      "ERROR: adapt_init_threshold\n",
      "615.0000000000024 615\n",
      "ERROR: adapt_init_threshold\n",
      "615.0000000000025 615\n",
      "ERROR: adapt_init_threshold\n",
      "661.0000000000002 661\n",
      "ERROR: adapt_init_threshold\n",
      "661.0000000000007 661\n",
      "ERROR: adapt_init_threshold\n",
      "661.0000000000008 661\n",
      "ERROR: adapt_init_threshold\n",
      "661.0000000000034 661\n",
      "ERROR: adapt_init_threshold\n",
      "661.0000000000006 661\n",
      "ERROR: adapt_init_threshold\n",
      "661.0000000000009 661\n",
      "ERROR: adapt_init_threshold\n",
      "661.0000000000015 661\n",
      "ERROR: adapt_init_threshold\n",
      "766.0000000000036 766\n",
      "ERROR: adapt_init_threshold\n",
      "766.0000000000015 766\n",
      "ERROR: adapt_init_threshold\n",
      "766.0000000000013 766\n",
      "ERROR: adapt_init_threshold\n",
      "766.0000000000019 766\n",
      "ERROR: adapt_init_threshold\n",
      "824.0000000000002 824\n",
      "ERROR: adapt_init_threshold\n",
      "824.0000000000032 824\n",
      "ERROR: adapt_init_threshold\n",
      "824.0000000000019 824\n",
      "ERROR: adapt_init_threshold\n",
      "824.0000000000019 824\n",
      "ERROR: adapt_init_threshold\n",
      "824.0000000000017 824\n",
      "ERROR: adapt_init_threshold\n",
      "824.0000000000026 824\n",
      "ERROR: adapt_init_threshold\n",
      "824.0000000000027 824\n",
      "ERROR: adapt_init_threshold\n",
      "824.0000000000022 824\n",
      "ERROR: adapt_init_threshold\n",
      "824.0000000000006 824\n",
      "ERROR: adapt_init_threshold\n",
      "887.0000000000005 887\n",
      "ERROR: adapt_init_threshold\n",
      "1027.0000000000036 1027\n",
      "ERROR: adapt_init_threshold\n",
      "1105.000000000005 1105\n",
      "ERROR: adapt_init_threshold\n",
      "1105.0000000000032 1105\n",
      "ERROR: adapt_init_threshold\n",
      "1105.0000000000027 1105\n",
      "ERROR: adapt_init_threshold\n",
      "1105.0000000000068 1105\n",
      "ERROR: adapt_init_threshold\n",
      "1189.0000000000146 1189\n",
      "ERROR: adapt_init_threshold\n",
      "1189.0000000000168 1189\n",
      "ERROR: adapt_init_threshold\n",
      "1189.000000000003 1189\n",
      "ERROR: adapt_init_threshold\n",
      "1189.0000000000161 1189\n",
      "ERROR: adapt_init_threshold\n",
      "1189.0000000000155 1189\n",
      "ERROR: adapt_init_threshold\n",
      "1280.000000000004 1280\n",
      "ERROR: adapt_init_threshold\n",
      "1280.0000000000045 1280\n",
      "ERROR: adapt_init_threshold\n",
      "1280.0000000000268 1280\n",
      "ERROR: adapt_init_threshold\n",
      "1280.000000000026 1280\n",
      "ERROR: adapt_init_threshold\n",
      "1280.000000000027 1280\n",
      "ERROR: adapt_init_threshold\n",
      "1280.0000000000048 1280\n",
      "ERROR: adapt_init_threshold\n",
      "1280.0000000000282 1280\n",
      "ERROR: adapt_init_threshold\n",
      "1280.0000000000064 1280\n",
      "ERROR: adapt_init_threshold\n",
      "1377.0000000000105 1377\n",
      "ERROR: adapt_init_threshold\n",
      "1377.000000000011 1377\n",
      "ERROR: adapt_init_threshold\n",
      "1377.0000000000105 1377\n",
      "ERROR: adapt_init_threshold\n",
      "1377.0000000000132 1377\n",
      "ERROR: adapt_init_threshold\n",
      "1482.0000000000077 1482\n",
      "ERROR: adapt_init_threshold\n",
      "1482.0000000000064 1482\n",
      "ERROR: adapt_init_threshold\n",
      "1482.0000000000064 1482\n",
      "ERROR: adapt_init_threshold\n",
      "1482.0000000000066 1482\n",
      "ERROR: adapt_init_threshold\n",
      "1482.0000000000039 1482\n",
      "ERROR: adapt_init_threshold\n",
      "1482.000000000005 1482\n",
      "ERROR: adapt_init_threshold\n",
      "1595.0000000000216 1595\n",
      "ERROR: adapt_init_threshold\n",
      "1595.0000000000136 1595\n",
      "ERROR: adapt_init_threshold\n",
      "1595.0000000000152 1595\n",
      "ERROR: adapt_init_threshold\n",
      "1595.000000000017 1595\n",
      "ERROR: adapt_init_threshold\n",
      "1717.0000000000177 1717\n",
      "ERROR: adapt_init_threshold\n",
      "1717.000000000014 1717\n",
      "ERROR: adapt_init_threshold\n",
      "1717.0000000000186 1717\n",
      "ERROR: adapt_init_threshold\n",
      "1717.0000000000111 1717\n",
      "ERROR: adapt_init_threshold\n",
      "1717.0000000000043 1717\n",
      "ERROR: adapt_init_threshold\n",
      "1717.000000000013 1717\n",
      "ERROR: adapt_init_threshold\n",
      "1717.0000000000116 1717\n",
      "ERROR: adapt_init_threshold\n",
      "1717.000000000015 1717\n",
      "ERROR: adapt_init_threshold\n",
      "1848.0000000000168 1848\n",
      "ERROR: adapt_init_threshold\n",
      "1848.0000000000148 1848\n",
      "ERROR: adapt_init_threshold\n",
      "1848.0000000000346 1848\n",
      "ERROR: adapt_init_threshold\n",
      "1848.0000000000189 1848\n",
      "ERROR: adapt_init_threshold\n",
      "1848.0000000000366 1848\n",
      "ERROR: adapt_init_threshold\n",
      "1848.0000000000077 1848\n",
      "ERROR: adapt_init_threshold\n",
      "1848.000000000024 1848\n",
      "ERROR: adapt_init_threshold\n",
      "1848.0000000000275 1848\n",
      "ERROR: adapt_init_threshold\n",
      "1848.000000000018 1848\n",
      "ERROR: adapt_init_threshold\n",
      "1848.0000000000125 1848\n",
      "ERROR: adapt_init_threshold\n",
      "1848.000000000012 1848\n",
      "ERROR: adapt_init_threshold\n",
      "1989.0000000000355 1989\n",
      "ERROR: adapt_init_threshold\n",
      "1989.0000000000166 1989\n",
      "ERROR: adapt_init_threshold\n",
      "1989.0000000000323 1989\n",
      "ERROR: adapt_init_threshold\n",
      "1989.0000000000093 1989\n",
      "ERROR: adapt_init_threshold\n",
      "2141.0000000000427 2141\n",
      "ERROR: adapt_init_threshold\n",
      "2141.0000000000377 2141\n",
      "ERROR: adapt_init_threshold\n",
      "2141.0000000000255 2141\n",
      "ERROR: adapt_init_threshold\n",
      "2141.00000000002 2141\n",
      "ERROR: adapt_init_threshold\n",
      "2141.0000000000587 2141\n",
      "ERROR: adapt_init_threshold\n",
      "2141.0000000000487 2141\n",
      "ERROR: adapt_init_threshold\n",
      "2141.0000000000373 2141\n",
      "ERROR: adapt_init_threshold\n",
      "2141.000000000034 2141\n",
      "ERROR: adapt_init_threshold\n",
      "2141.000000000029 2141\n",
      "ERROR: adapt_init_threshold\n",
      "2141.0000000000437 2141\n",
      "ERROR: adapt_init_threshold\n",
      "2141.000000000026 2141\n",
      "ERROR: adapt_init_threshold\n",
      "2141.0000000000523 2141\n"
     ]
    },
    {
     "name": "stdout",
     "output_type": "stream",
     "text": [
      "ERROR: adapt_init_threshold\n",
      "2141.0000000000286 2141\n",
      "ERROR: adapt_init_threshold\n",
      "2141.0000000000578 2141\n",
      "ERROR: adapt_init_threshold\n",
      "2141.0000000000286 2141\n",
      "ERROR: adapt_init_threshold\n",
      "2141.000000000061 2141\n",
      "ERROR: adapt_init_threshold\n",
      "2305.0000000000227 2305\n",
      "ERROR: adapt_init_threshold\n",
      "2305.000000000031 2305\n",
      "ERROR: adapt_init_threshold\n",
      "2305.0000000000296 2305\n",
      "ERROR: adapt_init_threshold\n",
      "2305.000000000029 2305\n",
      "ERROR: adapt_init_threshold\n",
      "2481.0000000000064 2481\n",
      "ERROR: adapt_init_threshold\n",
      "2481.0000000000136 2481\n",
      "ERROR: adapt_init_threshold\n",
      "2481.0000000000414 2481\n",
      "ERROR: adapt_init_threshold\n",
      "2481.0000000000387 2481\n",
      "ERROR: adapt_init_threshold\n",
      "2481.0000000000155 2481\n",
      "ERROR: adapt_init_threshold\n",
      "2481.0000000000355 2481\n",
      "ERROR: adapt_init_threshold\n",
      "2481.000000000039 2481\n",
      "ERROR: adapt_init_threshold\n",
      "2481.000000000003 2481\n",
      "ERROR: adapt_init_threshold\n",
      "2481.000000000001 2481\n",
      "ERROR: adapt_init_threshold\n",
      "2481.0000000000255 2481\n",
      "ERROR: adapt_init_threshold\n",
      "2481.0000000000437 2481\n",
      "ERROR: adapt_init_threshold\n",
      "2481.0000000000427 2481\n",
      "ERROR: adapt_init_threshold\n",
      "2481.0000000000173 2481\n",
      "ERROR: adapt_init_threshold\n",
      "2481.0000000000446 2481\n",
      "ERROR: adapt_init_threshold\n",
      "2670.000000000005 2670\n",
      "ERROR: adapt_init_threshold\n",
      "2670.000000000007 2670\n",
      "ERROR: adapt_init_threshold\n",
      "2670.000000000007 2670\n",
      "ERROR: adapt_init_threshold\n",
      "2874.0000000001314 2874\n",
      "ERROR: adapt_init_threshold\n",
      "2874.0000000001496 2874\n",
      "ERROR: adapt_init_threshold\n",
      "2874.000000000147 2874\n",
      "ERROR: adapt_init_threshold\n",
      "2874.0000000001446 2874\n",
      "ERROR: adapt_init_threshold\n",
      "2874.0000000000055 2874\n",
      "ERROR: adapt_init_threshold\n",
      "2874.000000000012 2874\n",
      "ERROR: adapt_init_threshold\n",
      "3093.0000000000555 3093\n",
      "ERROR: adapt_init_threshold\n",
      "3093.0000000000045 3093\n",
      "ERROR: adapt_init_threshold\n",
      "3093.000000000003 3093\n",
      "ERROR: adapt_init_threshold\n",
      "3093.000000000038 3093\n",
      "ERROR: adapt_init_threshold\n",
      "3093.0000000000377 3093\n",
      "ERROR: adapt_init_threshold\n",
      "3093.0000000000105 3093\n",
      "ERROR: adapt_init_threshold\n",
      "3093.000000000005 3093\n",
      "ERROR: adapt_init_threshold\n",
      "3093.0000000000055 3093\n",
      "ERROR: adapt_init_threshold\n",
      "3093.0000000000086 3093\n",
      "ERROR: adapt_init_threshold\n",
      "3093.00000000001 3093\n",
      "ERROR: adapt_init_threshold\n",
      "3330.0000000000077 3330\n"
     ]
    }
   ],
   "source": [
    "data = []\n",
    "\n",
    "# algo_list = [adapt_init_threshold, hope_full, hope_online, fixed_threshold]\n",
    "\n",
    "# algo_list = [fixed_threshold, adapt_init_threshold, sid_threshold, epoch_threshold]\n",
    "\n",
    "algo_list = [fixed_threshold, adapt_init_threshold]\n",
    "\n",
    "num_iterations = 100\n",
    "max_n = 10000\n",
    "\n",
    "mean_size = 1.5\n",
    "\n",
    "# for n in tqdm(np.arange(1, max_n+1, 1000)):\n",
    "\n",
    "num_groups = np.logspace(2, 20, base=1.5, num=100).astype(int)\n",
    "\n",
    "for n in tqdm(num_groups):\n",
    "    n = int(n) + 5\n",
    "    expected_size = np.zeros(n) + mean_size\n",
    "    budget = n\n",
    "    \n",
    "    for i in range(num_iterations):\n",
    "        size = np.random.choice(size=n, a=[1.,2.], p=[1/2, 1/2])\n",
    "        # size = 1+np.random.poisson(size=n,lam = mean_size-1)\n",
    "        \n",
    "        opt = offline_opt(budget, size, expected_size)\n",
    "        \n",
    "        for algo in algo_list:\n",
    "            sol = algo(budget, size, expected_size)\n",
    "            \n",
    "            data_dict = {'NumGroups': n, 'Algorithm':algo.__name__, 'Norm': 'L1', 'Value': np.sum(np.abs(opt-sol))}\n",
    "            data.append(data_dict)\n",
    "            data_dict = {'NumGroups': n, 'Algorithm':algo.__name__, 'Norm': 'Linf', 'Value': np.max(np.abs(opt-sol))}\n",
    "            data.append(data_dict)\n",
    "            \n",
    "            if np.dot(size, sol) > budget:\n",
    "                print('ERROR: ' + str(algo.__name__))\n",
    "                print(np.dot(size, sol), budget)\n",
    "            \n",
    "            data_dict = {'NumGroups': n, 'Algorithm':algo.__name__, 'Norm': 'Waste', 'Value': (budget - np.dot(size, sol))}\n",
    "            data.append(data_dict)\n",
    "        \n",
    "    sleep(0)"
   ]
  },
  {
   "cell_type": "code",
   "execution_count": 117,
   "metadata": {
    "colab": {
     "base_uri": "https://localhost:8080/",
     "height": 1000
    },
    "id": "ppinbYK_9WO-",
    "outputId": "4647630b-9c85-4147-9c25-b2136306a551",
    "scrolled": true
   },
   "outputs": [
    {
     "data": {
      "text/plain": [
       "<matplotlib.axes._subplots.AxesSubplot at 0x7f06261ca6a0>"
      ]
     },
     "execution_count": 117,
     "metadata": {},
     "output_type": "execute_result"
    },
    {
     "name": "stderr",
     "output_type": "stream",
     "text": [
      "/home/sean/anaconda3/lib/python3.6/site-packages/matplotlib/figure.py:2267: UserWarning: This figure includes Axes that are not compatible with tight_layout, so results might be incorrect.\n",
      "  warnings.warn(\"This figure includes Axes that are not compatible \"\n"
     ]
    },
    {
     "data": {
      "image/png": "[encoded data removed]",
      "text/plain": [
       "<Figure size 1152x576 with 1 Axes>"
      ]
     },
     "metadata": {},
     "output_type": "display_data"
    },
    {
     "name": "stderr",
     "output_type": "stream",
     "text": [
      "/home/sean/anaconda3/lib/python3.6/site-packages/matplotlib/figure.py:2267: UserWarning: This figure includes Axes that are not compatible with tight_layout, so results might be incorrect.\n",
      "  warnings.warn(\"This figure includes Axes that are not compatible \"\n"
     ]
    },
    {
     "data": {
      "image/png": "[encoded data removed]",
      "text/plain": [
       "<Figure size 1152x576 with 1 Axes>"
      ]
     },
     "metadata": {},
     "output_type": "display_data"
    }
   ],
   "source": [
    "df = pd.DataFrame.from_records(data)\n",
    "df.columns\n",
    "\n",
    "\n",
    "plt.style.use('PaperDoubleFig.mplstyle.txt')\n",
    "# Make some style choices for plotting \n",
    "colorWheel =['#2bd1e5',\n",
    "            '#281bf5',\n",
    "             '#db1bf5',\n",
    "             '#F5CD1B',\n",
    "            '#FF5733','#9cf51b',]\n",
    "dashesStyles = [[3,1],\n",
    "            [2,1,10,1],\n",
    "            [4, 1, 1, 1, 1, 1],[1000,1],[8,2]]\n",
    "\n",
    "\n",
    "#filled_markers = ('o', 'v', '^', '<', '>', '8', 's', 'p', '*', 'h', 'H', 'D', 'd', 'P', 'X')\n",
    "#plt.figure(figsize=(20,10))\n",
    "#plt.title('Simple Distribution L1')\n",
    "#sns.lineplot(x='NumGroups', y='value', hue='variable', data=df[df.Norm == 'L1'])\n",
    "\n",
    "filled_markers = ('o', 'v', '^', '<', '>', '8', 's', 'p', '*', 'h', 'H', 'D', 'd', 'P', 'X')\n",
    "dash_styles = [\"\",\n",
    "               (4, 1.5),\n",
    "               (1, 1),\n",
    "               (3, 1, 1.5, 1),\n",
    "               (5, 1, 1, 1),\n",
    "               (5, 1, 2, 1, 2, 1),\n",
    "               (2, 2, 3, 1.5),\n",
    "               (1, 2.5, 3, 1.2)]\n",
    "\n",
    "plt.figure(figsize=(16,8))\n",
    "# plt.rc('text', usetex=True)\n",
    "plt.title('Simple Distribution LInf')\n",
    "sns.lineplot(x='NumGroups', y='Value', hue='Algorithm', dashes = dash_styles, data=df[df.Norm == 'Linf'], ci = None)\n",
    "\n",
    "\n",
    "plt.figure(figsize=(16,8))\n",
    "# plt.rc('text', usetex=True)\n",
    "plt.title('Simple Distribution Waste')\n",
    "data_alg = df[df.Algorithm != 'fixed_threshold']\n",
    "# data_alg = df\n",
    "sns.lineplot(x='NumGroups', y='Value', hue='Algorithm', dashes = dash_styles, data=data_alg[data_alg.Norm == 'Waste'], ci=None)\n"
   ]
  },
  {
   "cell_type": "code",
   "execution_count": 118,
   "metadata": {
    "scrolled": true
   },
   "outputs": [
    {
     "data": {
      "text/plain": [
       "[<matplotlib.lines.Line2D at 0x7f0626067438>]"
      ]
     },
     "execution_count": 118,
     "metadata": {},
     "output_type": "execute_result"
    },
    {
     "name": "stderr",
     "output_type": "stream",
     "text": [
      "/home/sean/anaconda3/lib/python3.6/site-packages/matplotlib/figure.py:2267: UserWarning: This figure includes Axes that are not compatible with tight_layout, so results might be incorrect.\n",
      "  warnings.warn(\"This figure includes Axes that are not compatible \"\n"
     ]
    },
    {
     "data": {
      "image/png": "[encoded data removed]",
      "text/plain": [
       "<Figure size 1152x576 with 2 Axes>"
      ]
     },
     "metadata": {},
     "output_type": "display_data"
    }
   ],
   "source": [
    "df_test = df[df.Norm == 'Waste']\n",
    "df_test = df_test[df_test.Algorithm=='adapt_init_threshold']\n",
    "df_test_2 = df_test.groupby(['NumGroups']).mean()\n",
    "plt.figure(figsize=(16,8))\n",
    "plt.subplot(1,2,1)\n",
    "plt.plot(df_test_2**2)\n",
    "\n",
    "plt.subplot(1,2,2)\n",
    "plt.plot(df_test_2**3)\n",
    "\n"
   ]
  },
  {
   "cell_type": "code",
   "execution_count": 107,
   "metadata": {},
   "outputs": [
    {
     "data": {
      "text/plain": [
       "[<matplotlib.lines.Line2D at 0x7f062679d780>]"
      ]
     },
     "execution_count": 107,
     "metadata": {},
     "output_type": "execute_result"
    },
    {
     "name": "stderr",
     "output_type": "stream",
     "text": [
      "/home/sean/anaconda3/lib/python3.6/site-packages/matplotlib/figure.py:2267: UserWarning: This figure includes Axes that are not compatible with tight_layout, so results might be incorrect.\n",
      "  warnings.warn(\"This figure includes Axes that are not compatible \"\n"
     ]
    },
    {
     "data": {
      "image/png": "[encoded data removed]",
      "text/plain": [
       "<Figure size 518.4x320.4 with 1 Axes>"
      ]
     },
     "metadata": {},
     "output_type": "display_data"
    }
   ],
   "source": [
    "\n",
    "df_test = df[df.Norm == 'Linf']\n",
    "df_test = df_test[df_test.Algorithm=='adapt_init_threshold']\n",
    "df_test_2 = df_test.groupby(['NumGroups']).mean()\n",
    "plt.plot(1 / (df_test_2**3))\n"
   ]
  },
  {
   "cell_type": "markdown",
   "metadata": {
    "id": "iYWsXi6m9WO_"
   },
   "source": [
    "### Group by Group Difference"
   ]
  },
  {
   "cell_type": "code",
   "execution_count": 30,
   "metadata": {
    "colab": {
     "base_uri": "https://localhost:8080/",
     "height": 66,
     "referenced_widgets": [
      "4e3df20dc731444784fbb4f33643c67e",
      "ce55ee73b0294da8b008c516617bb09b",
      "f50a3476dbe9482eaf390029e4a4e70b",
      "1d1e6bc1cc0d4db79933ad5d148ef50f",
      "cc8e9e3f2a984a0c843c6a8738b78d1b",
      "1020cc0308f1474e80421ae282221863",
      "01a0cc0c9f3f4971ab0ceee36e4aedc3",
      "ddcd260ceee148658115f2be978953bf"
     ]
    },
    "id": "wi1qi7iL9WO_",
    "outputId": "6b04ebb5-8bbd-4118-b431-eb9bfe023244"
   },
   "outputs": [
    {
     "data": {
      "application/vnd.jupyter.widget-view+json": {
       "model_id": "e143d3f4741e46579531f4ff20382901",
       "version_major": 2,
       "version_minor": 0
      },
      "text/plain": [
       "  0%|          | 0/100 [00:00<?, ?it/s]"
      ]
     },
     "metadata": {},
     "output_type": "display_data"
    }
   ],
   "source": [
    "fair_data = []\n",
    "\n",
    "n = 100\n",
    "num_iterations = 100\n",
    "\n",
    "mean_size = 1.5\n",
    "expected_size = np.zeros(n) + mean_size\n",
    "\n",
    "for i in tqdm(range(num_iterations)):\n",
    "    \n",
    "    expected_size = np.zeros(n) + mean_size\n",
    "    budget = n\n",
    "    size = np.random.choice(size=n, a=[1.,2.], p=[1/2, 1/2])\n",
    "    \n",
    "    opt = offline_opt(budget, size, expected_size)\n",
    "    for algo in algo_list:\n",
    "        sol = algo(budget, size, expected_size)\n",
    "        \n",
    "        \n",
    "        \n",
    "        \n",
    "        for j in range(n):\n",
    "            data.append({'Location':j, 'Algorithm':algo.__name__, 'Value': opt[j] - sol[j]})\n",
    "            \n",
    "            \n",
    "        fair_data.append({'Iteration':i, 'Algorithm':algo.__name__, 'Waste':(budget - np.sum(sol))/n, 'Envy':np.max(sol) - np.min(sol), 'Proportional':budget / np.sum(size) - np.min(sol)})\n",
    "            \n",
    "    for i in range(n):\n",
    "        data.append({'Location': i, 'Algorithm':'Zero', 'Value': 0})"
   ]
  },
  {
   "cell_type": "code",
   "execution_count": 31,
   "metadata": {},
   "outputs": [
    {
     "data": {
      "text/plain": [
       "[]"
      ]
     },
     "execution_count": 31,
     "metadata": {},
     "output_type": "execute_result"
    },
    {
     "name": "stderr",
     "output_type": "stream",
     "text": [
      "/home/sean/anaconda3/lib/python3.6/site-packages/matplotlib/figure.py:2267: UserWarning: This figure includes Axes that are not compatible with tight_layout, so results might be incorrect.\n",
      "  warnings.warn(\"This figure includes Axes that are not compatible \"\n"
     ]
    },
    {
     "data": {
      "image/png": "[encoded data removed]",
      "text/plain": [
       "<Figure size 1440x720 with 1 Axes>"
      ]
     },
     "metadata": {},
     "output_type": "display_data"
    }
   ],
   "source": [
    "df = pd.DataFrame.from_records(data)\n",
    "\n",
    "plt.figure(figsize=(20,10))\n",
    "sns.lineplot(x='Location', y='Value', hue = 'Algorithm', data=df, ci = None)\n",
    "plt.title('Allocation Difference')\n",
    "plt.xlabel('Location')\n",
    "plt.ylabel('Allocation Difference')\n",
    "plt.plot()"
   ]
  },
  {
   "cell_type": "markdown",
   "metadata": {},
   "source": [
    "Note: Discrepancy is between where max and average are between this plot and the other one."
   ]
  },
  {
   "cell_type": "markdown",
   "metadata": {},
   "source": [
    "### Printing Fairness Metrics"
   ]
  },
  {
   "cell_type": "code",
   "execution_count": 26,
   "metadata": {},
   "outputs": [
    {
     "name": "stdout",
     "output_type": "stream",
     "text": [
      "                         Waste      Envy  Proportional\n",
      "Algorithm                                             \n",
      "adapt_init_threshold  0.323525  0.205645      0.110282\n",
      "sid_threshold         0.316649  0.347123      0.251761\n"
     ]
    }
   ],
   "source": [
    "fair_df = pd.DataFrame.from_records(fair_data)\n",
    "fair_df = fair_df.groupby(['Algorithm']).mean()\n",
    "print(fair_df.drop(['Iteration'], axis=1))"
   ]
  }
 ],
 "metadata": {
  "colab": {
   "collapsed_sections": [],
   "name": "Copy of test simulations.ipynb",
   "provenance": []
  },
  "kernelspec": {
   "display_name": "Python 3",
   "language": "python",
   "name": "python3"
  },
  "language_info": {
   "codemirror_mode": {
    "name": "ipython",
    "version": 3
   },
   "file_extension": ".py",
   "mimetype": "text/x-python",
   "name": "python",
   "nbconvert_exporter": "python",
   "pygments_lexer": "ipython3",
   "version": "3.6.5"
  },
  "widgets": {
   "application/vnd.jupyter.widget-state+json": {
    "01a0cc0c9f3f4971ab0ceee36e4aedc3": {
     "model_module": "@jupyter-widgets/controls",
     "model_name": "DescriptionStyleModel",
     "state": {
      "_model_module": "@jupyter-widgets/controls",
      "_model_module_version": "1.5.0",
      "_model_name": "DescriptionStyleModel",
      "_view_count": null,
      "_view_module": "@jupyter-widgets/base",
      "_view_module_version": "1.2.0",
      "_view_name": "StyleView",
      "description_width": ""
     }
    },
    "0826e304dfb44e79bcb87eacd4fc54af": {
     "model_module": "@jupyter-widgets/controls",
     "model_name": "HTMLModel",
     "state": {
      "_dom_classes": [],
      "_model_module": "@jupyter-widgets/controls",
      "_model_module_version": "1.5.0",
      "_model_name": "HTMLModel",
      "_view_count": null,
      "_view_module": "@jupyter-widgets/controls",
      "_view_module_version": "1.5.0",
      "_view_name": "HTMLView",
      "description": "",
      "description_tooltip": null,
      "layout": "IPY_MODEL_90ac6004a9f94293830616abe6f5910b",
      "placeholder": "​",
      "style": "IPY_MODEL_300bf685668b413fbf12bcf6d498eb40",
      "value": " 99/99 [00:53&lt;00:00,  1.87it/s]"
     }
    },
    "1020cc0308f1474e80421ae282221863": {
     "model_module": "@jupyter-widgets/base",
     "model_name": "LayoutModel",
     "state": {
      "_model_module": "@jupyter-widgets/base",
      "_model_module_version": "1.2.0",
      "_model_name": "LayoutModel",
      "_view_count": null,
      "_view_module": "@jupyter-widgets/base",
      "_view_module_version": "1.2.0",
      "_view_name": "LayoutView",
      "align_content": null,
      "align_items": null,
      "align_self": null,
      "border": null,
      "bottom": null,
      "display": null,
      "flex": null,
      "flex_flow": null,
      "grid_area": null,
      "grid_auto_columns": null,
      "grid_auto_flow": null,
      "grid_auto_rows": null,
      "grid_column": null,
      "grid_gap": null,
      "grid_row": null,
      "grid_template_areas": null,
      "grid_template_columns": null,
      "grid_template_rows": null,
      "height": null,
      "justify_content": null,
      "justify_items": null,
      "left": null,
      "margin": null,
      "max_height": null,
      "max_width": null,
      "min_height": null,
      "min_width": null,
      "object_fit": null,
      "object_position": null,
      "order": null,
      "overflow": null,
      "overflow_x": null,
      "overflow_y": null,
      "padding": null,
      "right": null,
      "top": null,
      "visibility": null,
      "width": null
     }
    },
    "1d1e6bc1cc0d4db79933ad5d148ef50f": {
     "model_module": "@jupyter-widgets/controls",
     "model_name": "HTMLModel",
     "state": {
      "_dom_classes": [],
      "_model_module": "@jupyter-widgets/controls",
      "_model_module_version": "1.5.0",
      "_model_name": "HTMLModel",
      "_view_count": null,
      "_view_module": "@jupyter-widgets/controls",
      "_view_module_version": "1.5.0",
      "_view_name": "HTMLView",
      "description": "",
      "description_tooltip": null,
      "layout": "IPY_MODEL_ddcd260ceee148658115f2be978953bf",
      "placeholder": "​",
      "style": "IPY_MODEL_01a0cc0c9f3f4971ab0ceee36e4aedc3",
      "value": " 1000/1000 [00:06&lt;00:00, 163.48it/s]"
     }
    },
    "27facd22fa4940419bbf78205189a910": {
     "model_module": "@jupyter-widgets/controls",
     "model_name": "ProgressStyleModel",
     "state": {
      "_model_module": "@jupyter-widgets/controls",
      "_model_module_version": "1.5.0",
      "_model_name": "ProgressStyleModel",
      "_view_count": null,
      "_view_module": "@jupyter-widgets/base",
      "_view_module_version": "1.2.0",
      "_view_name": "StyleView",
      "bar_color": null,
      "description_width": "initial"
     }
    },
    "300bf685668b413fbf12bcf6d498eb40": {
     "model_module": "@jupyter-widgets/controls",
     "model_name": "DescriptionStyleModel",
     "state": {
      "_model_module": "@jupyter-widgets/controls",
      "_model_module_version": "1.5.0",
      "_model_name": "DescriptionStyleModel",
      "_view_count": null,
      "_view_module": "@jupyter-widgets/base",
      "_view_module_version": "1.2.0",
      "_view_name": "StyleView",
      "description_width": ""
     }
    },
    "36ca590cba264640a22e62c749911634": {
     "model_module": "@jupyter-widgets/controls",
     "model_name": "HBoxModel",
     "state": {
      "_dom_classes": [],
      "_model_module": "@jupyter-widgets/controls",
      "_model_module_version": "1.5.0",
      "_model_name": "HBoxModel",
      "_view_count": null,
      "_view_module": "@jupyter-widgets/controls",
      "_view_module_version": "1.5.0",
      "_view_name": "HBoxView",
      "box_style": "",
      "children": [
       "IPY_MODEL_7c118dd92afd40bdb96e78e194187aaa",
       "IPY_MODEL_0826e304dfb44e79bcb87eacd4fc54af"
      ],
      "layout": "IPY_MODEL_c309b4d717224f22ba2a472838426f1c"
     }
    },
    "4e3df20dc731444784fbb4f33643c67e": {
     "model_module": "@jupyter-widgets/controls",
     "model_name": "HBoxModel",
     "state": {
      "_dom_classes": [],
      "_model_module": "@jupyter-widgets/controls",
      "_model_module_version": "1.5.0",
      "_model_name": "HBoxModel",
      "_view_count": null,
      "_view_module": "@jupyter-widgets/controls",
      "_view_module_version": "1.5.0",
      "_view_name": "HBoxView",
      "box_style": "",
      "children": [
       "IPY_MODEL_f50a3476dbe9482eaf390029e4a4e70b",
       "IPY_MODEL_1d1e6bc1cc0d4db79933ad5d148ef50f"
      ],
      "layout": "IPY_MODEL_ce55ee73b0294da8b008c516617bb09b"
     }
    },
    "7c118dd92afd40bdb96e78e194187aaa": {
     "model_module": "@jupyter-widgets/controls",
     "model_name": "FloatProgressModel",
     "state": {
      "_dom_classes": [],
      "_model_module": "@jupyter-widgets/controls",
      "_model_module_version": "1.5.0",
      "_model_name": "FloatProgressModel",
      "_view_count": null,
      "_view_module": "@jupyter-widgets/controls",
      "_view_module_version": "1.5.0",
      "_view_name": "ProgressView",
      "bar_style": "success",
      "description": "100%",
      "description_tooltip": null,
      "layout": "IPY_MODEL_d7797e1819f541428d0c53bdc72448bd",
      "max": 99,
      "min": 0,
      "orientation": "horizontal",
      "style": "IPY_MODEL_27facd22fa4940419bbf78205189a910",
      "value": 99
     }
    },
    "90ac6004a9f94293830616abe6f5910b": {
     "model_module": "@jupyter-widgets/base",
     "model_name": "LayoutModel",
     "state": {
      "_model_module": "@jupyter-widgets/base",
      "_model_module_version": "1.2.0",
      "_model_name": "LayoutModel",
      "_view_count": null,
      "_view_module": "@jupyter-widgets/base",
      "_view_module_version": "1.2.0",
      "_view_name": "LayoutView",
      "align_content": null,
      "align_items": null,
      "align_self": null,
      "border": null,
      "bottom": null,
      "display": null,
      "flex": null,
      "flex_flow": null,
      "grid_area": null,
      "grid_auto_columns": null,
      "grid_auto_flow": null,
      "grid_auto_rows": null,
      "grid_column": null,
      "grid_gap": null,
      "grid_row": null,
      "grid_template_areas": null,
      "grid_template_columns": null,
      "grid_template_rows": null,
      "height": null,
      "justify_content": null,
      "justify_items": null,
      "left": null,
      "margin": null,
      "max_height": null,
      "max_width": null,
      "min_height": null,
      "min_width": null,
      "object_fit": null,
      "object_position": null,
      "order": null,
      "overflow": null,
      "overflow_x": null,
      "overflow_y": null,
      "padding": null,
      "right": null,
      "top": null,
      "visibility": null,
      "width": null
     }
    },
    "c309b4d717224f22ba2a472838426f1c": {
     "model_module": "@jupyter-widgets/base",
     "model_name": "LayoutModel",
     "state": {
      "_model_module": "@jupyter-widgets/base",
      "_model_module_version": "1.2.0",
      "_model_name": "LayoutModel",
      "_view_count": null,
      "_view_module": "@jupyter-widgets/base",
      "_view_module_version": "1.2.0",
      "_view_name": "LayoutView",
      "align_content": null,
      "align_items": null,
      "align_self": null,
      "border": null,
      "bottom": null,
      "display": null,
      "flex": null,
      "flex_flow": null,
      "grid_area": null,
      "grid_auto_columns": null,
      "grid_auto_flow": null,
      "grid_auto_rows": null,
      "grid_column": null,
      "grid_gap": null,
      "grid_row": null,
      "grid_template_areas": null,
      "grid_template_columns": null,
      "grid_template_rows": null,
      "height": null,
      "justify_content": null,
      "justify_items": null,
      "left": null,
      "margin": null,
      "max_height": null,
      "max_width": null,
      "min_height": null,
      "min_width": null,
      "object_fit": null,
      "object_position": null,
      "order": null,
      "overflow": null,
      "overflow_x": null,
      "overflow_y": null,
      "padding": null,
      "right": null,
      "top": null,
      "visibility": null,
      "width": null
     }
    },
    "cc8e9e3f2a984a0c843c6a8738b78d1b": {
     "model_module": "@jupyter-widgets/controls",
     "model_name": "ProgressStyleModel",
     "state": {
      "_model_module": "@jupyter-widgets/controls",
      "_model_module_version": "1.5.0",
      "_model_name": "ProgressStyleModel",
      "_view_count": null,
      "_view_module": "@jupyter-widgets/base",
      "_view_module_version": "1.2.0",
      "_view_name": "StyleView",
      "bar_color": null,
      "description_width": "initial"
     }
    },
    "ce55ee73b0294da8b008c516617bb09b": {
     "model_module": "@jupyter-widgets/base",
     "model_name": "LayoutModel",
     "state": {
      "_model_module": "@jupyter-widgets/base",
      "_model_module_version": "1.2.0",
      "_model_name": "LayoutModel",
      "_view_count": null,
      "_view_module": "@jupyter-widgets/base",
      "_view_module_version": "1.2.0",
      "_view_name": "LayoutView",
      "align_content": null,
      "align_items": null,
      "align_self": null,
      "border": null,
      "bottom": null,
      "display": null,
      "flex": null,
      "flex_flow": null,
      "grid_area": null,
      "grid_auto_columns": null,
      "grid_auto_flow": null,
      "grid_auto_rows": null,
      "grid_column": null,
      "grid_gap": null,
      "grid_row": null,
      "grid_template_areas": null,
      "grid_template_columns": null,
      "grid_template_rows": null,
      "height": null,
      "justify_content": null,
      "justify_items": null,
      "left": null,
      "margin": null,
      "max_height": null,
      "max_width": null,
      "min_height": null,
      "min_width": null,
      "object_fit": null,
      "object_position": null,
      "order": null,
      "overflow": null,
      "overflow_x": null,
      "overflow_y": null,
      "padding": null,
      "right": null,
      "top": null,
      "visibility": null,
      "width": null
     }
    },
    "d7797e1819f541428d0c53bdc72448bd": {
     "model_module": "@jupyter-widgets/base",
     "model_name": "LayoutModel",
     "state": {
      "_model_module": "@jupyter-widgets/base",
      "_model_module_version": "1.2.0",
      "_model_name": "LayoutModel",
      "_view_count": null,
      "_view_module": "@jupyter-widgets/base",
      "_view_module_version": "1.2.0",
      "_view_name": "LayoutView",
      "align_content": null,
      "align_items": null,
      "align_self": null,
      "border": null,
      "bottom": null,
      "display": null,
      "flex": null,
      "flex_flow": null,
      "grid_area": null,
      "grid_auto_columns": null,
      "grid_auto_flow": null,
      "grid_auto_rows": null,
      "grid_column": null,
      "grid_gap": null,
      "grid_row": null,
      "grid_template_areas": null,
      "grid_template_columns": null,
      "grid_template_rows": null,
      "height": null,
      "justify_content": null,
      "justify_items": null,
      "left": null,
      "margin": null,
      "max_height": null,
      "max_width": null,
      "min_height": null,
      "min_width": null,
      "object_fit": null,
      "object_position": null,
      "order": null,
      "overflow": null,
      "overflow_x": null,
      "overflow_y": null,
      "padding": null,
      "right": null,
      "top": null,
      "visibility": null,
      "width": null
     }
    },
    "ddcd260ceee148658115f2be978953bf": {
     "model_module": "@jupyter-widgets/base",
     "model_name": "LayoutModel",
     "state": {
      "_model_module": "@jupyter-widgets/base",
      "_model_module_version": "1.2.0",
      "_model_name": "LayoutModel",
      "_view_count": null,
      "_view_module": "@jupyter-widgets/base",
      "_view_module_version": "1.2.0",
      "_view_name": "LayoutView",
      "align_content": null,
      "align_items": null,
      "align_self": null,
      "border": null,
      "bottom": null,
      "display": null,
      "flex": null,
      "flex_flow": null,
      "grid_area": null,
      "grid_auto_columns": null,
      "grid_auto_flow": null,
      "grid_auto_rows": null,
      "grid_column": null,
      "grid_gap": null,
      "grid_row": null,
      "grid_template_areas": null,
      "grid_template_columns": null,
      "grid_template_rows": null,
      "height": null,
      "justify_content": null,
      "justify_items": null,
      "left": null,
      "margin": null,
      "max_height": null,
      "max_width": null,
      "min_height": null,
      "min_width": null,
      "object_fit": null,
      "object_position": null,
      "order": null,
      "overflow": null,
      "overflow_x": null,
      "overflow_y": null,
      "padding": null,
      "right": null,
      "top": null,
      "visibility": null,
      "width": null
     }
    },
    "f50a3476dbe9482eaf390029e4a4e70b": {
     "model_module": "@jupyter-widgets/controls",
     "model_name": "FloatProgressModel",
     "state": {
      "_dom_classes": [],
      "_model_module": "@jupyter-widgets/controls",
      "_model_module_version": "1.5.0",
      "_model_name": "FloatProgressModel",
      "_view_count": null,
      "_view_module": "@jupyter-widgets/controls",
      "_view_module_version": "1.5.0",
      "_view_name": "ProgressView",
      "bar_style": "success",
      "description": "100%",
      "description_tooltip": null,
      "layout": "IPY_MODEL_1020cc0308f1474e80421ae282221863",
      "max": 1000,
      "min": 0,
      "orientation": "horizontal",
      "style": "IPY_MODEL_cc8e9e3f2a984a0c843c6a8738b78d1b",
      "value": 1000
     }
    }
   }
  }
 },
 "nbformat": 4,
 "nbformat_minor": 1
}
