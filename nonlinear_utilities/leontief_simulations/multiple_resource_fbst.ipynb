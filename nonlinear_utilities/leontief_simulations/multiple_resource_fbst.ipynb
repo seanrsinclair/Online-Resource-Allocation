{
 "cells": [
  {
   "cell_type": "markdown",
   "metadata": {
    "id": "AT5gf3Q59WOm"
   },
   "source": [
    "# Multiple Type Experiment"
   ]
  },
  {
   "cell_type": "code",
   "execution_count": 1,
   "metadata": {
    "id": "Bu5uZ0yB9WOv"
   },
   "outputs": [],
   "source": [
    "import warnings;\n",
    "warnings.filterwarnings('ignore');\n",
    "\n",
    "from time import sleep\n",
    "from tqdm.auto import tqdm\n",
    "\n",
    "import sys\n",
    "import importlib\n",
    "import numpy as np\n",
    "import nbformat\n",
    "# import plotly.express\n",
    "# import plotly.express as px\n",
    "import pandas as pd\n",
    "import cvxpy as cp\n",
    "import scipy.optimize as optimization\n",
    "import matplotlib.pyplot as plt\n",
    "import seaborn as sns\n",
    "\n",
    "from solvers import generate_cvxpy_solve, verify_fairness, get_utility, offline_opt, fixed_threshold, hope_online, hope_full, hope_guardrail\n",
    "from radar_plot import *"
   ]
  },
  {
   "cell_type": "code",
   "execution_count": 2,
   "metadata": {},
   "outputs": [],
   "source": [
    "df = pd.read_csv('../MFP Regular Sites 2019 - addresses2019 updated.csv')"
   ]
  },
  {
   "cell_type": "code",
   "execution_count": 3,
   "metadata": {},
   "outputs": [
    {
     "data": {
      "text/plain": [
       "Index(['Site Name', 'Address', 'City', 'State', 'ZIP', 'latitude', 'longitude',\n",
       "       'Number of Visits in 2019', 'Average Demand per Visit',\n",
       "       'StDev(Demand per Visit)', 'Unnamed: 10',\n",
       "       'Demand per Visit == the number of clients serviced on that visit'],\n",
       "      dtype='object')"
      ]
     },
     "execution_count": 3,
     "metadata": {},
     "output_type": "execute_result"
    }
   ],
   "source": [
    "df.columns"
   ]
  },
  {
   "cell_type": "code",
   "execution_count": 4,
   "metadata": {},
   "outputs": [],
   "source": [
    "locations = df[['latitude', 'longitude']]\n",
    "data_weights = df['Average Demand per Visit']\n",
    "data_stdev = df['StDev(Demand per Visit)']"
   ]
  },
  {
   "cell_type": "markdown",
   "metadata": {
    "id": "D4xFOfJD9WO-"
   },
   "source": [
    "### Scaling with n"
   ]
  },
  {
   "cell_type": "code",
   "execution_count": 5,
   "metadata": {},
   "outputs": [
    {
     "name": "stdout",
     "output_type": "stream",
     "text": [
      "[0.25 0.3  0.45]\n",
      "70\n"
     ]
    }
   ],
   "source": [
    "data = []\n",
    "\n",
    "np.random.seed(5)\n",
    "\n",
    "# seed 2 - 47 locations\n",
    "\n",
    "num_types = 3\n",
    "num_resources = 5\n",
    "dist_types = np.asarray([.25, .3, 1-.25-.3])\n",
    "print(dist_types)\n",
    "\n",
    "weights = np.asarray([[3.9, 3.0, 2.8, 2.7, .1], [3.9, 3.0, .1, 2.7, .1], [3.9, 3.0, 2.8, 2.7, 1.9]])\n",
    "sum_of_rows = weights.sum(axis=1)\n",
    "weights = weights / sum_of_rows[:, np.newaxis]\n",
    "\n",
    "algo_list = {'Fixed Threshold': fixed_threshold,\n",
    "             'Hope Guardrail $L_T = 1/2$': lambda a,b,c,d,e,f: hope_guardrail(a,b,c,d,e,f,1/2),\n",
    "             'Hope Guardrail $L_T = 1/3$': lambda a,b,c,d,e,f: hope_guardrail(a,b,c,d,e,f,1/3),\n",
    "             'Hope Online': hope_online,\n",
    "             'Hope Full': hope_full}\n",
    "             \n",
    "\n",
    "num_algo = len(algo_list)\n",
    "\n",
    "num_iterations = 200\n",
    "\n",
    "# num_iterations = 1\n",
    "\n",
    "max_n = len(data_stdev)\n",
    "utility = 'leontief'\n",
    "print(max_n)"
   ]
  },
  {
   "cell_type": "code",
   "execution_count": 6,
   "metadata": {
    "colab": {
     "base_uri": "https://localhost:8080/",
     "height": 67,
     "referenced_widgets": [
      "6edde265d414491ba9c5d75c4b666028",
      "378b8b4ca0244f30b3e3d75c17037de8",
      "1fb709b814ce4d4d81ec24c1443dc6a2",
      "1e36c3f407884be9847d7393629ef768",
      "78d9669e53ce463193e4485863ef887f",
      "b9e16375f07c49208662ae88538a4213",
      "5bde03c411474113b4c4bed539353f57",
      "6d967cff11574e62aed6bc3f86c3187c"
     ]
    },
    "executionInfo": {
     "elapsed": 19292,
     "status": "ok",
     "timestamp": 1611785669817,
     "user": {
      "displayName": "Sean Sinclair",
      "photoUrl": "https://lh3.googleusercontent.com/a-/AOh14GgiZ1PfVGrBMLuC7RxoNojx6NGtoiM-OmF94fkk=s64",
      "userId": "12952511139192190002"
     },
     "user_tz": 300
    },
    "id": "JIYCYuR39WO-",
    "outputId": "0d6ade11-4ee5-4f01-8dd5-753861aff7da",
    "scrolled": false
   },
   "outputs": [
    {
     "data": {
      "application/vnd.jupyter.widget-view+json": {
       "model_id": "bfc650d1bc184d78a996c5278c4960e3",
       "version_major": 2,
       "version_minor": 0
      },
      "text/plain": [
       "  0%|          | 0/7 [00:00<?, ?it/s]"
      ]
     },
     "metadata": {},
     "output_type": "display_data"
    },
    {
     "name": "stdout",
     "output_type": "stream",
     "text": [
      "Num Locations: 5\n",
      "Num Locations: 15\n",
      "Num Locations: 25\n",
      "Num Locations: 35\n",
      "Num Locations: 45\n",
      "Num Locations: 55\n",
      "Num Locations: 65\n"
     ]
    }
   ],
   "source": [
    "\n",
    "\n",
    "num_groups = np.arange(5, max_n, 10)\n",
    "\n",
    "for n in tqdm(num_groups):\n",
    "    print('Num Locations: ' + str(n))\n",
    "\n",
    "    alloc_diff = np.zeros((len(algo_list), num_iterations, n, num_types, num_resources)) \n",
    "    \n",
    "    for i in range(num_iterations):\n",
    "        \n",
    "        index = np.random.choice(max_n, n, replace=False)\n",
    "        mean_size = np.asarray([dist_types * data_weights[index].to_numpy()[j] for j in range(n)])\n",
    "        stdev_size = np.asarray([(dist_types**2) * data_weights[index].to_numpy()[j] for j in range(n)])\n",
    "             \n",
    "        budget = np.asarray([np.sum(mean_size)]*num_resources)\n",
    "        \n",
    "        size = np.maximum(1, np.random.normal(mean_size, stdev_size))\n",
    "        \n",
    "        \n",
    "        # print('Size: ' + str(size))\n",
    "        total_num_types = np.sum(size, axis=0)\n",
    "\n",
    "        \n",
    "        prob, solver = generate_cvxpy_solve(num_types, num_resources, utility)\n",
    "\n",
    "        \n",
    "        opt = offline_opt(budget, size, weights, solver)\n",
    "        # print('offline opt: ' + str(opt))\n",
    "        index = 0\n",
    "        for algo in algo_list:\n",
    "            \n",
    "        \n",
    "            sol, waste = algo_list[algo](budget, size, mean_size, stdev_size, weights, solver)\n",
    "\n",
    "            waste, envy, proportionality, c_envy = verify_fairness(weights, sol, np.asarray(size), np.asarray(budget), utility, opt)\n",
    "\n",
    "            data_dict = {'NumGroups': n, 'Algorithm': algo, 'Norm': 'Hindsight_Envy', 'Value': envy}\n",
    "            data.append(data_dict)\n",
    "            data_dict = {'NumGroups': n, 'Algorithm':algo, 'Norm': 'Proportionality', 'Value': proportionality}\n",
    "            data.append(data_dict)\n",
    "            data_dict = {'NumGroups': n, 'Algorithm':algo, 'Norm': 'Waste', 'Value': waste}\n",
    "            data.append(data_dict)\n",
    "            data_dict = {'NumGroups': n, 'Algorithm':algo, 'Norm': 'Counterfactual_Envy', 'Value': c_envy}\n",
    "            data.append(data_dict)"
   ]
  },
  {
   "cell_type": "code",
   "execution_count": 7,
   "metadata": {},
   "outputs": [],
   "source": [
    "df = pd.DataFrame.from_records(data)\n",
    "df.to_csv('./data_leontief/multi_fbst.csv', index=False)\n",
    "df = pd.read_csv('./data_leontief/multi_fbst.csv')"
   ]
  },
  {
   "cell_type": "code",
   "execution_count": 8,
   "metadata": {},
   "outputs": [
    {
     "data": {
      "image/png": "[encoded data removed]",
      "text/plain": [
       "<Figure size 1440x432 with 3 Axes>"
      ]
     },
     "metadata": {
      "needs_background": "light"
     },
     "output_type": "display_data"
    }
   ],
   "source": [
    "\n",
    "df.columns\n",
    "df = df.assign(Algorithm = lambda df: df.Algorithm.replace({'fixed_threshold': 'Fixed Threshold', 'hope_guardrail_13': 'Guarded Hope $L_T = T^{-1/3}$', 'hope_guardrail_12': 'Guarded Hope $L_T = T^{-1/2}$'}))\n",
    "\n",
    "\n",
    "\n",
    "plt.style.use('PaperDoubleFig.mplstyle.txt')\n",
    "plt.rc('text.latex', preamble=r'\\usepackage{amsfonts}')\n",
    "\n",
    "# Make some style choices for plotting \n",
    "# colorWheel =['#2bd1e5',\n",
    "#             '#281bf5',\n",
    "#              '#db1bf5',\n",
    "#              '#F5CD1B',\n",
    "#             '#FF5733','#9cf51b',]\n",
    "dashesStyles = [[3,1],\n",
    "            [2,1,10,1],\n",
    "            [4, 1, 1, 1, 1, 1],[1000,1],[8,2]]\n",
    "\n",
    "\n",
    "#filled_markers = ('o', 'v', '^', '<', '>', '8', 's', 'p', '*', 'h', 'H', 'D', 'd', 'P', 'X')\n",
    "#plt.figure(figsize=(20,10))\n",
    "#plt.title('Simple Distribution L1')\n",
    "#sns.lineplot(x='NumGroups', y='value', hue='variable', data=df[df.Norm == 'L1'])\n",
    "\n",
    "filled_markers = ('o', 'v', '^', '<', '>', '8', 's', 'p', '*', 'h', 'H', 'D', 'd', 'P', 'X')\n",
    "dash_styles = [\"\",\n",
    "               (4, 1.5),\n",
    "               (1, 1),\n",
    "               (3, 1, 1.5, 1),\n",
    "               (5, 1, 1, 1),\n",
    "               (5, 1, 2, 1, 2, 1),\n",
    "               (2, 2, 3, 1.5),\n",
    "               (1, 2.5, 3, 1.2)]\n",
    "\n",
    "# fig = plt.figure(figsize=(20,6))\n",
    "plt.rc('text', usetex=True)\n",
    "\n",
    "\n",
    "\n",
    "fg, axs = plt.subplots(1,3, sharex='all', figsize=(20,6))\n",
    "sns.lineplot(x='NumGroups', y='Value', hue='Algorithm', style = 'Algorithm', dashes = dashesStyles[0:len(algo_list)],\n",
    "                     data=df[df.Norm == 'Counterfactual_Envy'], ax = axs[0], linewidth=4, palette = sns.color_palette(\"colorblind\", len(algo_list)),\n",
    "            ci = None)\n",
    "sns.lineplot(x='NumGroups', y='Value', hue='Algorithm', style = 'Algorithm', dashes = dashesStyles[0:len(algo_list)], \n",
    "             data=df[df.Norm == 'Waste'], ax = axs[1], linewidth=4, palette = sns.color_palette(\"colorblind\", len(algo_list)),\n",
    "            ci = None)\n",
    "\n",
    "sns.lineplot(x='NumGroups', y='Value', hue='Algorithm', style = 'Algorithm', dashes = dashesStyles[0:len(algo_list)], \n",
    "             data=df[df.Norm == 'Hindsight_Envy'], ax = axs[2], linewidth=4, palette = sns.color_palette(\"colorblind\", len(algo_list)),\n",
    "            ci = None)\n",
    "\n",
    "\n",
    "axs[0].get_legend().remove()\n",
    "axs[0].set_ylabel('$\\mathbb{E}[\\Delta_{\\it EF}]$')\n",
    "axs[0].set_xlabel('Number of Rounds')\n",
    "\n",
    "axs[1].set_ylabel('$\\mathbb{E}[\\Delta_{\\it efficiency}]$')\n",
    "axs[1].set_xlabel('Number of Rounds')\n",
    "axs[1].get_legend().remove()\n",
    "\n",
    "axs[2].get_legend().remove()\n",
    "axs[2].set_ylabel(r'$\\mathbb{E}[Envy]$')\n",
    "axs[2].set_xlabel('Number of Rounds')\n",
    "\n",
    "# axs[2].legend(ncol = 1, loc= 'upper right')\n",
    "\n",
    "\n",
    "\n",
    "\n",
    "plt.show()\n",
    "fg.savefig('./figures/fbst_multi_leontief.pdf', bbox_inches = 'tight',pad_inches = 0.01, dpi=900)"
   ]
  },
  {
   "cell_type": "markdown",
   "metadata": {
    "id": "iYWsXi6m9WO_"
   },
   "source": [
    "### Group by Group Difference"
   ]
  },
  {
   "cell_type": "code",
   "execution_count": 9,
   "metadata": {
    "colab": {
     "base_uri": "https://localhost:8080/",
     "height": 67,
     "referenced_widgets": [
      "443eb1755fff42eb828f3c1c09ecee7d",
      "0a19ceff7978453c92fb8950419e072d",
      "1cd56fc409a842bd847832d9012c8324",
      "812807fe41d548d6a635abb417332377",
      "c49975ea20ec4c98a6b72cc99e10745e",
      "927e76f879524fe58bcb136499394955",
      "dad148b4204b4e989f04cc1616c1eb5f",
      "f8d83b0651e142ae8a6268d4e7f45205"
     ]
    },
    "executionInfo": {
     "elapsed": 22077,
     "status": "ok",
     "timestamp": 1611785672617,
     "user": {
      "displayName": "Sean Sinclair",
      "photoUrl": "https://lh3.googleusercontent.com/a-/AOh14GgiZ1PfVGrBMLuC7RxoNojx6NGtoiM-OmF94fkk=s64",
      "userId": "12952511139192190002"
     },
     "user_tz": 300
    },
    "id": "wi1qi7iL9WO_",
    "outputId": "b92cd6ea-351e-42d8-e143-f4c81d8efa8a",
    "scrolled": true
   },
   "outputs": [
    {
     "data": {
      "application/vnd.jupyter.widget-view+json": {
       "model_id": "0ca10ed660684f3cb320c7818f915983",
       "version_major": 2,
       "version_minor": 0
      },
      "text/plain": [
       "  0%|          | 0/200 [00:00<?, ?it/s]"
      ]
     },
     "metadata": {},
     "output_type": "display_data"
    }
   ],
   "source": [
    "fair_data = []\n",
    "\n",
    "\n",
    "algo_list = {'Fixed Threshold': fixed_threshold,\n",
    "             'Hope Guardrail $L_T = 1/2$': lambda a,b,c,d,e,f: hope_guardrail(a,b,c,d,e,f,1/2),\n",
    "             'Hope Guardrail $L_T = 1/3$': lambda a,b,c,d,e,f: hope_guardrail(a,b,c,d,e,f,1/3),\n",
    "             'Hope Online': hope_online,\n",
    "             'Hope Full': hope_full}             \n",
    "\n",
    "num_algo = len(algo_list)\n",
    "\n",
    "num_iterations = 200\n",
    "n = 10\n",
    "\n",
    "for i in tqdm(range(num_iterations)):\n",
    "\n",
    "    index = np.random.choice(max_n, n, replace=False)\n",
    "    mean_size = np.asarray([dist_types * data_weights[index].to_numpy()[j] for j in range(n)])\n",
    "    stdev_size = np.asarray([(dist_types**2) * data_weights[index].to_numpy()[j] for j in range(n)])\n",
    "\n",
    "    budget = np.asarray([np.sum(mean_size)]*num_resources)\n",
    "\n",
    "    size = np.maximum(1, np.random.normal(mean_size, stdev_size))\n",
    "\n",
    "\n",
    "#     print('Size: ' + str(size))\n",
    "    total_num_types = np.sum(size, axis=0)\n",
    "\n",
    "\n",
    "    prob, solver = generate_cvxpy_solve(num_types, num_resources, utility)\n",
    "\n",
    "\n",
    "    # print(num_types, num_resources, budget.shape size.shape, )\n",
    "\n",
    "    opt = offline_opt(budget, size, weights, solver)\n",
    "\n",
    "    # print('opt: ' + str(opt))\n",
    "    index = 0\n",
    "    for algo in algo_list:\n",
    "\n",
    "        sol, waste = algo_list[algo](budget, size, mean_size, stdev_size, weights, solver)\n",
    "        # print('budget: ' + str(budget))\n",
    "        # print('waste: ' + str(waste))\n",
    "        # print(algo + ' : ' + str(sol))\n",
    "        waste, envy, proportionality, c_envy = verify_fairness(weights, sol, np.asarray(size), np.asarray(budget), utility, opt)\n",
    "\n",
    "        fair_data.append({'Iteration':i, 'Algorithm':algo, \n",
    "                          '$\\Delta_{\\it efficiency}$': waste, \n",
    "                          '$\\Delta_{\\it Prop}$': proportionality, \n",
    "#                           '\\textsc{NSW}'.encode('unicode_escape').decode('utf'): nsw,\n",
    "                         '\\textsc{Envy}'.encode('unicode_escape').decode('utf'): envy, \n",
    "                          '$\\Delta_{\\it EF}$': c_envy\n",
    "                            })\n"
   ]
  },
  {
   "cell_type": "code",
   "execution_count": 10,
   "metadata": {},
   "outputs": [],
   "source": [
    "fair_df = pd.DataFrame.from_records(fair_data)\n",
    "fair_df.to_csv('./data_leontief/multi_fbst_fair.csv', index=False)\n",
    "fair_df = pd.read_csv('./data_leontief/multi_fbst_fair.csv')"
   ]
  },
  {
   "cell_type": "markdown",
   "metadata": {},
   "source": [
    "### Printing Fairness Metrics"
   ]
  },
  {
   "cell_type": "code",
   "execution_count": 11,
   "metadata": {},
   "outputs": [
    {
     "name": "stdout",
     "output_type": "stream",
     "text": [
      "                            $\\Delta_{\\it efficiency}$  $\\Delta_{\\it Prop}$  \\\n",
      "Algorithm                                                                    \n",
      "Fixed Threshold                           2421.021987             1.142130   \n",
      "Hope Full                                  514.853733             0.874399   \n",
      "Hope Guardrail $L_T = 1/2$                 705.795622             0.897553   \n",
      "Hope Guardrail $L_T = 1/3$                 705.018715             0.896838   \n",
      "Hope Online                                 91.271544             0.507631   \n",
      "\n",
      "                            \\textsc{Envy}  $\\Delta_{\\it EF}$  \n",
      "Algorithm                                                     \n",
      "Fixed Threshold              2.174359e-07           1.142130  \n",
      "Hope Full                    1.042346e+00           0.876692  \n",
      "Hope Guardrail $L_T = 1/2$   1.301248e+00           0.975811  \n",
      "Hope Guardrail $L_T = 1/3$   2.422768e+00           1.601046  \n",
      "Hope Online                  1.457285e+00           1.060014  \n"
     ]
    }
   ],
   "source": [
    "# print(fair_df.columns)\n",
    "fair_df = fair_df.groupby(['Algorithm']).mean()\n",
    "print(fair_df.drop(['Iteration'], axis=1))\n",
    "\n",
    "fair_df['$\\Delta_{\\it efficiency}$'] = (-1)*fair_df['$\\Delta_{\\it efficiency}$']\n",
    "fair_df['\\textsc{Envy}'.encode('unicode_escape').decode('utf')] = (-1)*fair_df['\\textsc{Envy}'.encode('unicode_escape').decode('utf')]\n",
    "fair_df['$\\Delta_{\\it EF}$'] = (-1)* fair_df['$\\Delta_{\\it EF}$']\n",
    "fair_df['$\\Delta_{\\it Prop}$'] = (-1) * fair_df['$\\Delta_{\\it Prop}$']"
   ]
  },
  {
   "cell_type": "code",
   "execution_count": 12,
   "metadata": {},
   "outputs": [
    {
     "name": "stdout",
     "output_type": "stream",
     "text": [
      "                            $\\Delta_{\\it efficiency}$  $\\Delta_{\\it Prop}$  \\\n",
      "Algorithm                                                                    \n",
      "Fixed Threshold                              0.100000             0.100000   \n",
      "Hope Full                                    0.836367             0.479761   \n",
      "Hope Guardrail $L_T = 1/2$                   0.762605             0.446919   \n",
      "Hope Guardrail $L_T = 1/3$                   0.762905             0.447933   \n",
      "Hope Online                                  1.000000             1.000000   \n",
      "\n",
      "                            \\textsc{Envy}  $\\Delta_{\\it EF}$  \n",
      "Algorithm                                                     \n",
      "Fixed Threshold                  1.000000           0.670197  \n",
      "Hope Full                        0.612794           1.000000  \n",
      "Hope Guardrail $L_T = 1/2$       0.516618           0.876846  \n",
      "Hope Guardrail $L_T = 1/3$       0.100000           0.100000  \n",
      "Hope Online                      0.458654           0.772224  \n"
     ]
    }
   ],
   "source": [
    "fair_df = normalize(fair_df).drop(['Iteration'], axis=1)\n",
    "\n",
    "print(fair_df)"
   ]
  },
  {
   "cell_type": "code",
   "execution_count": 13,
   "metadata": {},
   "outputs": [
    {
     "data": {
      "image/png": "[encoded data removed]",
      "text/plain": [
       "<Figure size 432x432 with 1 Axes>"
      ]
     },
     "metadata": {
      "needs_background": "light"
     },
     "output_type": "display_data"
    },
    {
     "data": {
      "image/png": "[encoded data removed]",
      "text/plain": [
       "<Figure size 432x432 with 1 Axes>"
      ]
     },
     "metadata": {
      "needs_background": "light"
     },
     "output_type": "display_data"
    }
   ],
   "source": [
    "# number of variable\n",
    "\n",
    "\n",
    "from math import pi\n",
    "plt.style.use('PaperDoubleFig.mplstyle.txt')\n",
    "\n",
    "plt.rc('text', usetex=True)\n",
    "plt.rc('text.latex', preamble=r'\\usepackage{amsfonts}')\n",
    "\n",
    "\n",
    "\n",
    "\n",
    "N = len(list(fair_df))\n",
    "theta = radar_factory(N, frame='polygon')\n",
    "\n",
    "spoke_labels = ['$\\\\mathbb{E}[\\\\Delta_{\\\\it efficiency}]$', '$\\\\mathbb{E}[\\\\Delta_{\\\\it Prop}]$', '$\\\\mathbb{E}[\\\\textsc{Envy}]$', '$\\\\mathbb{E}[\\\\Delta_{\\\\it EF}]$']\n",
    "\n",
    "fig, ax = plt.subplots(figsize=(6, 6), subplot_kw=dict(projection='radar'))\n",
    "fig.subplots_adjust(top=0.85, bottom=0.05)\n",
    "\n",
    "ax.set_rgrids([0.2, 0.4, 0.6, 0.8])\n",
    "# ax.set_title('Comparison of Fairness Metrics',  position=(0.5, 1.1), ha='center')\n",
    "dashesStyles = [[3,1],\n",
    "            [2,1,10,1],\n",
    "            [4, 1, 1, 1, 1, 1],[1000,1],[8,2]]\n",
    "\n",
    "first_plot = { algo : algo_list[algo] for algo in ['Fixed Threshold', 'Hope Guardrail $L_T = 1/2$', 'Hope Guardrail $L_T = 1/3$']}\n",
    "second_plot = { algo : algo_list[algo] for algo in ['Hope Guardrail $L_T = 1/2$', 'Hope Online', 'Hope Full']}\n",
    "\n",
    "\n",
    "index = 0\n",
    "for algo in first_plot:\n",
    "    values = fair_df.loc[algo].to_numpy()\n",
    "    ax.plot(theta, values, linewidth=3, dashes=dashesStyles[index], label=algo, color = sns.color_palette('colorblind', len(algo_list))[index])\n",
    "    ax.fill(theta, values, color = sns.color_palette('colorblind', len(algo_list))[index],  alpha=0)\n",
    "    index += 1\n",
    "ax.set_varlabels(spoke_labels)\n",
    "\n",
    "# plt.legend(loc='right', bbox_to_anchor=(2.15, .5))\n",
    "\n",
    "plt.savefig('./figures/multi_fbst_leontief_guardrail_radar.pdf')\n",
    "plt.show()\n",
    "\n",
    "\n",
    "\n",
    "\n",
    "\n",
    "fig, ax = plt.subplots(figsize=(6, 6), subplot_kw=dict(projection='radar'))\n",
    "fig.subplots_adjust(top=0.85, bottom=0.05)\n",
    "\n",
    "ax.set_rgrids([0.2, 0.4, 0.6, 0.8])\n",
    "\n",
    "\n",
    "dashesStyles = [\n",
    "            [2,1,10,1],\n",
    "            [1000,1],[8,2]]\n",
    "\n",
    "color_list = [sns.color_palette(\"colorblind\", len(algo_list))[1], sns.color_palette(\"colorblind\", len(algo_list))[3], sns.color_palette(\"colorblind\", len(algo_list))[4]]\n",
    "\n",
    "index = 0\n",
    "for algo in second_plot:\n",
    "    values = fair_df.loc[algo].to_numpy()\n",
    "    ax.plot(theta, values, linewidth=3, dashes=dashesStyles[index], label=algo, color = color_list[index])\n",
    "    ax.fill(theta, values, color = sns.color_palette('colorblind', len(algo_list))[index],  alpha=0)\n",
    "    index += 1\n",
    "ax.set_varlabels(spoke_labels)\n",
    "\n",
    "# plt.legend(loc='right', bbox_to_anchor=(2.15, .5))\n",
    "\n",
    "plt.savefig('./figures/multi_fbst_leontief_heuristic_radar.pdf')\n",
    "plt.show()\n",
    "\n",
    "\n"
   ]
  }
 ],
 "metadata": {
  "colab": {
   "collapsed_sections": [],
   "name": "adaptive_threshold.ipynb",
   "provenance": []
  },
  "kernelspec": {
   "display_name": "Python 3",
   "language": "python",
   "name": "python3"
  },
  "language_info": {
   "codemirror_mode": {
    "name": "ipython",
    "version": 3
   },
   "file_extension": ".py",
   "mimetype": "text/x-python",
   "name": "python",
   "nbconvert_exporter": "python",
   "pygments_lexer": "ipython3",
   "version": "3.6.13"
  },
  "widgets": {
   "application/vnd.jupyter.widget-state+json": {
    "0a19ceff7978453c92fb8950419e072d": {
     "model_module": "@jupyter-widgets/base",
     "model_name": "LayoutModel",
     "state": {
      "_model_module": "@jupyter-widgets/base",
      "_model_module_version": "1.2.0",
      "_model_name": "LayoutModel",
      "_view_count": null,
      "_view_module": "@jupyter-widgets/base",
      "_view_module_version": "1.2.0",
      "_view_name": "LayoutView",
      "align_content": null,
      "align_items": null,
      "align_self": null,
      "border": null,
      "bottom": null,
      "display": null,
      "flex": null,
      "flex_flow": null,
      "grid_area": null,
      "grid_auto_columns": null,
      "grid_auto_flow": null,
      "grid_auto_rows": null,
      "grid_column": null,
      "grid_gap": null,
      "grid_row": null,
      "grid_template_areas": null,
      "grid_template_columns": null,
      "grid_template_rows": null,
      "height": null,
      "justify_content": null,
      "justify_items": null,
      "left": null,
      "margin": null,
      "max_height": null,
      "max_width": null,
      "min_height": null,
      "min_width": null,
      "object_fit": null,
      "object_position": null,
      "order": null,
      "overflow": null,
      "overflow_x": null,
      "overflow_y": null,
      "padding": null,
      "right": null,
      "top": null,
      "visibility": null,
      "width": null
     }
    },
    "1cd56fc409a842bd847832d9012c8324": {
     "model_module": "@jupyter-widgets/controls",
     "model_name": "FloatProgressModel",
     "state": {
      "_dom_classes": [],
      "_model_module": "@jupyter-widgets/controls",
      "_model_module_version": "1.5.0",
      "_model_name": "FloatProgressModel",
      "_view_count": null,
      "_view_module": "@jupyter-widgets/controls",
      "_view_module_version": "1.5.0",
      "_view_name": "ProgressView",
      "bar_style": "success",
      "description": "100%",
      "description_tooltip": null,
      "layout": "IPY_MODEL_927e76f879524fe58bcb136499394955",
      "max": 100,
      "min": 0,
      "orientation": "horizontal",
      "style": "IPY_MODEL_c49975ea20ec4c98a6b72cc99e10745e",
      "value": 100
     }
    },
    "1e36c3f407884be9847d7393629ef768": {
     "model_module": "@jupyter-widgets/controls",
     "model_name": "HTMLModel",
     "state": {
      "_dom_classes": [],
      "_model_module": "@jupyter-widgets/controls",
      "_model_module_version": "1.5.0",
      "_model_name": "HTMLModel",
      "_view_count": null,
      "_view_module": "@jupyter-widgets/controls",
      "_view_module_version": "1.5.0",
      "_view_name": "HTMLView",
      "description": "",
      "description_tooltip": null,
      "layout": "IPY_MODEL_6d967cff11574e62aed6bc3f86c3187c",
      "placeholder": "​",
      "style": "IPY_MODEL_5bde03c411474113b4c4bed539353f57",
      "value": " 99/99 [00:18&lt;00:00,  5.49it/s]"
     }
    },
    "1fb709b814ce4d4d81ec24c1443dc6a2": {
     "model_module": "@jupyter-widgets/controls",
     "model_name": "FloatProgressModel",
     "state": {
      "_dom_classes": [],
      "_model_module": "@jupyter-widgets/controls",
      "_model_module_version": "1.5.0",
      "_model_name": "FloatProgressModel",
      "_view_count": null,
      "_view_module": "@jupyter-widgets/controls",
      "_view_module_version": "1.5.0",
      "_view_name": "ProgressView",
      "bar_style": "success",
      "description": "100%",
      "description_tooltip": null,
      "layout": "IPY_MODEL_b9e16375f07c49208662ae88538a4213",
      "max": 99,
      "min": 0,
      "orientation": "horizontal",
      "style": "IPY_MODEL_78d9669e53ce463193e4485863ef887f",
      "value": 99
     }
    },
    "378b8b4ca0244f30b3e3d75c17037de8": {
     "model_module": "@jupyter-widgets/base",
     "model_name": "LayoutModel",
     "state": {
      "_model_module": "@jupyter-widgets/base",
      "_model_module_version": "1.2.0",
      "_model_name": "LayoutModel",
      "_view_count": null,
      "_view_module": "@jupyter-widgets/base",
      "_view_module_version": "1.2.0",
      "_view_name": "LayoutView",
      "align_content": null,
      "align_items": null,
      "align_self": null,
      "border": null,
      "bottom": null,
      "display": null,
      "flex": null,
      "flex_flow": null,
      "grid_area": null,
      "grid_auto_columns": null,
      "grid_auto_flow": null,
      "grid_auto_rows": null,
      "grid_column": null,
      "grid_gap": null,
      "grid_row": null,
      "grid_template_areas": null,
      "grid_template_columns": null,
      "grid_template_rows": null,
      "height": null,
      "justify_content": null,
      "justify_items": null,
      "left": null,
      "margin": null,
      "max_height": null,
      "max_width": null,
      "min_height": null,
      "min_width": null,
      "object_fit": null,
      "object_position": null,
      "order": null,
      "overflow": null,
      "overflow_x": null,
      "overflow_y": null,
      "padding": null,
      "right": null,
      "top": null,
      "visibility": null,
      "width": null
     }
    },
    "443eb1755fff42eb828f3c1c09ecee7d": {
     "model_module": "@jupyter-widgets/controls",
     "model_name": "HBoxModel",
     "state": {
      "_dom_classes": [],
      "_model_module": "@jupyter-widgets/controls",
      "_model_module_version": "1.5.0",
      "_model_name": "HBoxModel",
      "_view_count": null,
      "_view_module": "@jupyter-widgets/controls",
      "_view_module_version": "1.5.0",
      "_view_name": "HBoxView",
      "box_style": "",
      "children": [
       "IPY_MODEL_1cd56fc409a842bd847832d9012c8324",
       "IPY_MODEL_812807fe41d548d6a635abb417332377"
      ],
      "layout": "IPY_MODEL_0a19ceff7978453c92fb8950419e072d"
     }
    },
    "5bde03c411474113b4c4bed539353f57": {
     "model_module": "@jupyter-widgets/controls",
     "model_name": "DescriptionStyleModel",
     "state": {
      "_model_module": "@jupyter-widgets/controls",
      "_model_module_version": "1.5.0",
      "_model_name": "DescriptionStyleModel",
      "_view_count": null,
      "_view_module": "@jupyter-widgets/base",
      "_view_module_version": "1.2.0",
      "_view_name": "StyleView",
      "description_width": ""
     }
    },
    "6d967cff11574e62aed6bc3f86c3187c": {
     "model_module": "@jupyter-widgets/base",
     "model_name": "LayoutModel",
     "state": {
      "_model_module": "@jupyter-widgets/base",
      "_model_module_version": "1.2.0",
      "_model_name": "LayoutModel",
      "_view_count": null,
      "_view_module": "@jupyter-widgets/base",
      "_view_module_version": "1.2.0",
      "_view_name": "LayoutView",
      "align_content": null,
      "align_items": null,
      "align_self": null,
      "border": null,
      "bottom": null,
      "display": null,
      "flex": null,
      "flex_flow": null,
      "grid_area": null,
      "grid_auto_columns": null,
      "grid_auto_flow": null,
      "grid_auto_rows": null,
      "grid_column": null,
      "grid_gap": null,
      "grid_row": null,
      "grid_template_areas": null,
      "grid_template_columns": null,
      "grid_template_rows": null,
      "height": null,
      "justify_content": null,
      "justify_items": null,
      "left": null,
      "margin": null,
      "max_height": null,
      "max_width": null,
      "min_height": null,
      "min_width": null,
      "object_fit": null,
      "object_position": null,
      "order": null,
      "overflow": null,
      "overflow_x": null,
      "overflow_y": null,
      "padding": null,
      "right": null,
      "top": null,
      "visibility": null,
      "width": null
     }
    },
    "6edde265d414491ba9c5d75c4b666028": {
     "model_module": "@jupyter-widgets/controls",
     "model_name": "HBoxModel",
     "state": {
      "_dom_classes": [],
      "_model_module": "@jupyter-widgets/controls",
      "_model_module_version": "1.5.0",
      "_model_name": "HBoxModel",
      "_view_count": null,
      "_view_module": "@jupyter-widgets/controls",
      "_view_module_version": "1.5.0",
      "_view_name": "HBoxView",
      "box_style": "",
      "children": [
       "IPY_MODEL_1fb709b814ce4d4d81ec24c1443dc6a2",
       "IPY_MODEL_1e36c3f407884be9847d7393629ef768"
      ],
      "layout": "IPY_MODEL_378b8b4ca0244f30b3e3d75c17037de8"
     }
    },
    "78d9669e53ce463193e4485863ef887f": {
     "model_module": "@jupyter-widgets/controls",
     "model_name": "ProgressStyleModel",
     "state": {
      "_model_module": "@jupyter-widgets/controls",
      "_model_module_version": "1.5.0",
      "_model_name": "ProgressStyleModel",
      "_view_count": null,
      "_view_module": "@jupyter-widgets/base",
      "_view_module_version": "1.2.0",
      "_view_name": "StyleView",
      "bar_color": null,
      "description_width": "initial"
     }
    },
    "812807fe41d548d6a635abb417332377": {
     "model_module": "@jupyter-widgets/controls",
     "model_name": "HTMLModel",
     "state": {
      "_dom_classes": [],
      "_model_module": "@jupyter-widgets/controls",
      "_model_module_version": "1.5.0",
      "_model_name": "HTMLModel",
      "_view_count": null,
      "_view_module": "@jupyter-widgets/controls",
      "_view_module_version": "1.5.0",
      "_view_name": "HTMLView",
      "description": "",
      "description_tooltip": null,
      "layout": "IPY_MODEL_f8d83b0651e142ae8a6268d4e7f45205",
      "placeholder": "​",
      "style": "IPY_MODEL_dad148b4204b4e989f04cc1616c1eb5f",
      "value": " 100/100 [00:01&lt;00:00, 63.46it/s]"
     }
    },
    "927e76f879524fe58bcb136499394955": {
     "model_module": "@jupyter-widgets/base",
     "model_name": "LayoutModel",
     "state": {
      "_model_module": "@jupyter-widgets/base",
      "_model_module_version": "1.2.0",
      "_model_name": "LayoutModel",
      "_view_count": null,
      "_view_module": "@jupyter-widgets/base",
      "_view_module_version": "1.2.0",
      "_view_name": "LayoutView",
      "align_content": null,
      "align_items": null,
      "align_self": null,
      "border": null,
      "bottom": null,
      "display": null,
      "flex": null,
      "flex_flow": null,
      "grid_area": null,
      "grid_auto_columns": null,
      "grid_auto_flow": null,
      "grid_auto_rows": null,
      "grid_column": null,
      "grid_gap": null,
      "grid_row": null,
      "grid_template_areas": null,
      "grid_template_columns": null,
      "grid_template_rows": null,
      "height": null,
      "justify_content": null,
      "justify_items": null,
      "left": null,
      "margin": null,
      "max_height": null,
      "max_width": null,
      "min_height": null,
      "min_width": null,
      "object_fit": null,
      "object_position": null,
      "order": null,
      "overflow": null,
      "overflow_x": null,
      "overflow_y": null,
      "padding": null,
      "right": null,
      "top": null,
      "visibility": null,
      "width": null
     }
    },
    "b9e16375f07c49208662ae88538a4213": {
     "model_module": "@jupyter-widgets/base",
     "model_name": "LayoutModel",
     "state": {
      "_model_module": "@jupyter-widgets/base",
      "_model_module_version": "1.2.0",
      "_model_name": "LayoutModel",
      "_view_count": null,
      "_view_module": "@jupyter-widgets/base",
      "_view_module_version": "1.2.0",
      "_view_name": "LayoutView",
      "align_content": null,
      "align_items": null,
      "align_self": null,
      "border": null,
      "bottom": null,
      "display": null,
      "flex": null,
      "flex_flow": null,
      "grid_area": null,
      "grid_auto_columns": null,
      "grid_auto_flow": null,
      "grid_auto_rows": null,
      "grid_column": null,
      "grid_gap": null,
      "grid_row": null,
      "grid_template_areas": null,
      "grid_template_columns": null,
      "grid_template_rows": null,
      "height": null,
      "justify_content": null,
      "justify_items": null,
      "left": null,
      "margin": null,
      "max_height": null,
      "max_width": null,
      "min_height": null,
      "min_width": null,
      "object_fit": null,
      "object_position": null,
      "order": null,
      "overflow": null,
      "overflow_x": null,
      "overflow_y": null,
      "padding": null,
      "right": null,
      "top": null,
      "visibility": null,
      "width": null
     }
    },
    "c49975ea20ec4c98a6b72cc99e10745e": {
     "model_module": "@jupyter-widgets/controls",
     "model_name": "ProgressStyleModel",
     "state": {
      "_model_module": "@jupyter-widgets/controls",
      "_model_module_version": "1.5.0",
      "_model_name": "ProgressStyleModel",
      "_view_count": null,
      "_view_module": "@jupyter-widgets/base",
      "_view_module_version": "1.2.0",
      "_view_name": "StyleView",
      "bar_color": null,
      "description_width": "initial"
     }
    },
    "dad148b4204b4e989f04cc1616c1eb5f": {
     "model_module": "@jupyter-widgets/controls",
     "model_name": "DescriptionStyleModel",
     "state": {
      "_model_module": "@jupyter-widgets/controls",
      "_model_module_version": "1.5.0",
      "_model_name": "DescriptionStyleModel",
      "_view_count": null,
      "_view_module": "@jupyter-widgets/base",
      "_view_module_version": "1.2.0",
      "_view_name": "StyleView",
      "description_width": ""
     }
    },
    "f8d83b0651e142ae8a6268d4e7f45205": {
     "model_module": "@jupyter-widgets/base",
     "model_name": "LayoutModel",
     "state": {
      "_model_module": "@jupyter-widgets/base",
      "_model_module_version": "1.2.0",
      "_model_name": "LayoutModel",
      "_view_count": null,
      "_view_module": "@jupyter-widgets/base",
      "_view_module_version": "1.2.0",
      "_view_name": "LayoutView",
      "align_content": null,
      "align_items": null,
      "align_self": null,
      "border": null,
      "bottom": null,
      "display": null,
      "flex": null,
      "flex_flow": null,
      "grid_area": null,
      "grid_auto_columns": null,
      "grid_auto_flow": null,
      "grid_auto_rows": null,
      "grid_column": null,
      "grid_gap": null,
      "grid_row": null,
      "grid_template_areas": null,
      "grid_template_columns": null,
      "grid_template_rows": null,
      "height": null,
      "justify_content": null,
      "justify_items": null,
      "left": null,
      "margin": null,
      "max_height": null,
      "max_width": null,
      "min_height": null,
      "min_width": null,
      "object_fit": null,
      "object_position": null,
      "order": null,
      "overflow": null,
      "overflow_x": null,
      "overflow_y": null,
      "padding": null,
      "right": null,
      "top": null,
      "visibility": null,
      "width": null
     }
    }
   }
  }
 },
 "nbformat": 4,
 "nbformat_minor": 1
}
