{
 "cells": [
  {
   "cell_type": "code",
   "execution_count": 1,
   "id": "8790d4df",
   "metadata": {},
   "outputs": [],
   "source": [
    "# import gmaps\n",
    "import pandas as pd\n",
    "import matplotlib.pyplot as plt"
   ]
  },
  {
   "cell_type": "code",
   "execution_count": 2,
   "id": "6e311ad0",
   "metadata": {},
   "outputs": [],
   "source": [
    "df = pd.read_csv('dairy_dataset.csv')"
   ]
  },
  {
   "cell_type": "code",
   "execution_count": 3,
   "id": "1691c57e",
   "metadata": {},
   "outputs": [
    {
     "data": {
      "text/plain": [
       "Index(['Location', 'Total Land Area (acres)', 'Number of Cows', 'Farm Size',\n",
       "       'Date', 'Product ID', 'Product Name', 'Brand', 'Quantity (liters/kg)',\n",
       "       'Price per Unit', 'Total Value', 'Shelf Life (days)',\n",
       "       'Storage Condition', 'Production Date', 'Expiration Date',\n",
       "       'Quantity Sold (liters/kg)', 'Price per Unit (sold)',\n",
       "       'Approx. Total Revenue(INR)', 'Customer Location', 'Sales Channel',\n",
       "       'Quantity in Stock (liters/kg)', 'Minimum Stock Threshold (liters/kg)',\n",
       "       'Reorder Quantity (liters/kg)'],\n",
       "      dtype='object')"
      ]
     },
     "execution_count": 3,
     "metadata": {},
     "output_type": "execute_result"
    }
   ],
   "source": [
    "df.columns"
   ]
  },
  {
   "cell_type": "code",
   "execution_count": 4,
   "id": "6fed2cd2",
   "metadata": {},
   "outputs": [
    {
     "name": "stdout",
     "output_type": "stream",
     "text": [
      "['Ice Cream' 'Milk' 'Yogurt' 'Cheese' 'Buttermilk' 'Curd' 'Paneer' 'Lassi'\n",
      " 'Ghee' 'Butter']\n"
     ]
    }
   ],
   "source": [
    "products = df['Product Name'].unique()\n",
    "print(products)\n",
    "df = df[df[\"Storage Condition\"] != \"Polythene Packet\"]"
   ]
  },
  {
   "cell_type": "code",
   "execution_count": 5,
   "id": "e5617694",
   "metadata": {},
   "outputs": [
    {
     "data": {
      "text/plain": [
       "(array([57., 23., 53., 24., 37., 22., 49., 33., 73., 60.]),\n",
       " array([25. , 26.5, 28. , 29.5, 31. , 32.5, 34. , 35.5, 37. , 38.5, 40. ]),\n",
       " <BarContainer object of 10 artists>)"
      ]
     },
     "execution_count": 5,
     "metadata": {},
     "output_type": "execute_result"
    },
    {
     "data": {
      "image/png": "[encoded data removed]",
      "text/plain": [
       "<Figure size 640x480 with 1 Axes>"
      ]
     },
     "metadata": {},
     "output_type": "display_data"
    }
   ],
   "source": [
    "prod = 'Milk'\n",
    "df_prod = df[df['Product Name'] == prod]\n",
    "\n",
    "plt.hist(df_prod['Shelf Life (days)'])"
   ]
  },
  {
   "cell_type": "code",
   "execution_count": null,
   "id": "7c2e1542",
   "metadata": {},
   "outputs": [],
   "source": []
  },
  {
   "cell_type": "code",
   "execution_count": 6,
   "id": "196234a3",
   "metadata": {},
   "outputs": [
    {
     "ename": "NameError",
     "evalue": "name 'df_prod_shelf_dates' is not defined",
     "output_type": "error",
     "traceback": [
      "\u001b[0;31m---------------------------------------------------------------------------\u001b[0m",
      "\u001b[0;31mNameError\u001b[0m                                 Traceback (most recent call last)",
      "Cell \u001b[0;32mIn[6], line 1\u001b[0m\n\u001b[0;32m----> 1\u001b[0m \u001b[38;5;28mprint\u001b[39m(\u001b[43mdf_prod_shelf_dates\u001b[49m)\n",
      "\u001b[0;31mNameError\u001b[0m: name 'df_prod_shelf_dates' is not defined"
     ]
    }
   ],
   "source": [
    "print(df_prod_shelf_dates)"
   ]
  }
 ],
 "metadata": {
  "kernelspec": {
   "display_name": "Python 3 (ipykernel)",
   "language": "python",
   "name": "python3"
  },
  "language_info": {
   "codemirror_mode": {
    "name": "ipython",
    "version": 3
   },
   "file_extension": ".py",
   "mimetype": "text/x-python",
   "name": "python",
   "nbconvert_exporter": "python",
   "pygments_lexer": "ipython3",
   "version": "3.8.18"
  }
 },
 "nbformat": 4,
 "nbformat_minor": 5
}
