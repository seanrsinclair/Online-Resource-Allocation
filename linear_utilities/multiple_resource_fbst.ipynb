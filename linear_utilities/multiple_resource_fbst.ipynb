{
 "cells": [
  {
   "cell_type": "markdown",
   "metadata": {
    "id": "AT5gf3Q59WOm"
   },
   "source": [
    "# Multiple Type Experiment"
   ]
  },
  {
   "cell_type": "code",
   "execution_count": 1,
   "metadata": {
    "id": "Bu5uZ0yB9WOv"
   },
   "outputs": [],
   "source": [
    "import warnings;\n",
    "warnings.filterwarnings('ignore');\n",
    "\n",
    "from time import sleep\n",
    "from tqdm.auto import tqdm\n",
    "\n",
    "import sys\n",
    "import importlib\n",
    "import numpy as np\n",
    "import nbformat\n",
    "# import plotly.express\n",
    "# import plotly.express as px\n",
    "import pandas as pd\n",
    "import cvxpy as cp\n",
    "import scipy.optimize as optimization\n",
    "import matplotlib.pyplot as plt\n",
    "import seaborn as sns\n",
    "\n",
    "from algorithms_multiple import *\n",
    "from radar_plot import *"
   ]
  },
  {
   "cell_type": "code",
   "execution_count": 2,
   "metadata": {},
   "outputs": [],
   "source": [
    "df = pd.read_csv('../MFP Regular Sites 2019 - addresses2019 updated.csv')"
   ]
  },
  {
   "cell_type": "code",
   "execution_count": null,
   "metadata": {},
   "outputs": [],
   "source": []
  },
  {
   "cell_type": "code",
   "execution_count": 3,
   "metadata": {},
   "outputs": [
    {
     "data": {
      "text/plain": [
       "Index(['Site Name', 'Address', 'City', 'State', 'ZIP', 'latitude', 'longitude',\n",
       "       'Number of Visits in 2019', 'Average Demand per Visit',\n",
       "       'StDev(Demand per Visit)', 'Unnamed: 10',\n",
       "       'Demand per Visit == the number of clients serviced on that visit'],\n",
       "      dtype='object')"
      ]
     },
     "execution_count": 3,
     "metadata": {},
     "output_type": "execute_result"
    }
   ],
   "source": [
    "df.columns"
   ]
  },
  {
   "cell_type": "code",
   "execution_count": 4,
   "metadata": {},
   "outputs": [],
   "source": [
    "locations = df[['latitude', 'longitude']]\n",
    "data_weights = df['Average Demand per Visit']\n",
    "data_stdev = df['StDev(Demand per Visit)']"
   ]
  },
  {
   "cell_type": "code",
   "execution_count": 5,
   "metadata": {},
   "outputs": [
    {
     "data": {
      "text/plain": [
       "0     46.1\n",
       "1     57.3\n",
       "2     45.3\n",
       "3     28.8\n",
       "4     53.4\n",
       "      ... \n",
       "65    51.9\n",
       "66    35.3\n",
       "67    30.4\n",
       "68    34.9\n",
       "69    63.5\n",
       "Name: StDev(Demand per Visit), Length: 70, dtype: float64"
      ]
     },
     "execution_count": 5,
     "metadata": {},
     "output_type": "execute_result"
    }
   ],
   "source": [
    "data_stdev"
   ]
  },
  {
   "cell_type": "markdown",
   "metadata": {},
   "source": [
    "### Simple Test"
   ]
  },
  {
   "cell_type": "code",
   "execution_count": 6,
   "metadata": {},
   "outputs": [
    {
     "data": {
      "text/plain": [
       "(-1.628531753960904e-10,\n",
       " array([[0.5, 0.5],\n",
       "        [0.5, 0.5]]))"
      ]
     },
     "execution_count": 6,
     "metadata": {},
     "output_type": "execute_result"
    }
   ],
   "source": [
    "prob, solver = generate_cvxpy_solve(2, 2)\n",
    "\n",
    "solver(np.asarray([1., 1.]), np.asarray([[1,1],[1,1]]), np.asarray([1,1]))"
   ]
  },
  {
   "cell_type": "code",
   "execution_count": 7,
   "metadata": {},
   "outputs": [],
   "source": [
    "prob, solver = generate_cvxpy_solve(5,3)"
   ]
  },
  {
   "cell_type": "markdown",
   "metadata": {
    "id": "D4xFOfJD9WO-"
   },
   "source": [
    "### Scaling with n"
   ]
  },
  {
   "cell_type": "code",
   "execution_count": 8,
   "metadata": {},
   "outputs": [
    {
     "name": "stdout",
     "output_type": "stream",
     "text": [
      "[0.25 0.3  0.45]\n",
      "70\n"
     ]
    }
   ],
   "source": [
    "data = []\n",
    "\n",
    "np.random.seed(5)\n",
    "\n",
    "# seed 2 - 47 locations\n",
    "\n",
    "num_types = 3\n",
    "num_resources = 5\n",
    "dist_types = np.asarray([.25, .3, 1-.25-.3])\n",
    "print(dist_types)\n",
    "\n",
    "weights = np.asarray([[3.9, 3.0, 2.8, 2.7, .1], [3.9, 3.0, .1, 2.7, .1], [3.9, 3.0, 2.8, 2.7, 1.9]])\n",
    "sum_of_rows = weights.sum(axis=1)\n",
    "weights = weights / sum_of_rows[:, np.newaxis]\n",
    "\n",
    "algo_list = {'Fixed Threshold': fixed_threshold,\n",
    "             'Hope Guardrail $L_T = 1/2$': lambda a,b,c,d,e,f: hope_guardrail(a,b,c,d,e,f,1/2),\n",
    "             'Hope Guardrail $L_T = 1/3$': lambda a,b,c,d,e,f: hope_guardrail(a,b,c,d,e,f,1/3),\n",
    "             'Hope Online': hope_online,\n",
    "             'Hope Full': hope_full}\n",
    "             \n",
    "\n",
    "num_algo = len(algo_list)\n",
    "\n",
    "num_iterations = 200\n",
    "\n",
    "# num_iterations = 1\n",
    "\n",
    "max_n = len(data_stdev)\n",
    "\n",
    "print(max_n)"
   ]
  },
  {
   "cell_type": "code",
   "execution_count": null,
   "metadata": {
    "colab": {
     "base_uri": "https://localhost:8080/",
     "height": 67,
     "referenced_widgets": [
      "6edde265d414491ba9c5d75c4b666028",
      "378b8b4ca0244f30b3e3d75c17037de8",
      "1fb709b814ce4d4d81ec24c1443dc6a2",
      "1e36c3f407884be9847d7393629ef768",
      "78d9669e53ce463193e4485863ef887f",
      "b9e16375f07c49208662ae88538a4213",
      "5bde03c411474113b4c4bed539353f57",
      "6d967cff11574e62aed6bc3f86c3187c"
     ]
    },
    "executionInfo": {
     "elapsed": 19292,
     "status": "ok",
     "timestamp": 1611785669817,
     "user": {
      "displayName": "Sean Sinclair",
      "photoUrl": "https://lh3.googleusercontent.com/a-/AOh14GgiZ1PfVGrBMLuC7RxoNojx6NGtoiM-OmF94fkk=s64",
      "userId": "12952511139192190002"
     },
     "user_tz": 300
    },
    "id": "JIYCYuR39WO-",
    "outputId": "0d6ade11-4ee5-4f01-8dd5-753861aff7da"
   },
   "outputs": [
    {
     "data": {
      "application/vnd.jupyter.widget-view+json": {
       "model_id": "72e0d4e742d54a218b305c72d1df5e76",
       "version_major": 2,
       "version_minor": 0
      },
      "text/plain": [
       "  0%|          | 0/13 [00:00<?, ?it/s]"
      ]
     },
     "metadata": {},
     "output_type": "display_data"
    },
    {
     "name": "stdout",
     "output_type": "stream",
     "text": [
      "Num Locations: 5\n",
      "Num Locations: 10\n",
      "Num Locations: 15\n",
      "Num Locations: 20\n"
     ]
    }
   ],
   "source": [
    "\n",
    "\n",
    "num_groups = np.arange(5, max_n, 5)\n",
    "\n",
    "# num_groups = np.arange(5, max_n)\n",
    "# num_groups = [47]\n",
    "# num_groups = [10]\n",
    "\n",
    "for n in tqdm(num_groups):\n",
    "    print('Num Locations: ' + str(n))\n",
    "\n",
    "    alloc_diff = np.zeros((len(algo_list), num_iterations, n, num_types, num_resources)) \n",
    "    \n",
    "    for i in range(num_iterations):\n",
    "        \n",
    "        index = np.random.choice(max_n, n, replace=False)\n",
    "        mean_size = np.asarray([dist_types * data_weights[index].to_numpy()[j] for j in range(n)])\n",
    "        stdev_size = np.asarray([(dist_types**2) * data_stdev[index].to_numpy()[j] for j in range(n)])\n",
    "             \n",
    "        budget = np.asarray([np.sum(mean_size)]*num_resources)\n",
    "        \n",
    "        size = np.maximum(1, np.random.normal(mean_size, stdev_size))\n",
    "        \n",
    "        \n",
    "        # print('Size: ' + str(size))\n",
    "        total_num_types = np.sum(size, axis=0)\n",
    "\n",
    "        \n",
    "        prob, solver = generate_cvxpy_solve(num_types, num_resources)\n",
    "\n",
    "        \n",
    "        opt = offline_opt(budget, size, weights, solver)\n",
    "        # print('offline opt: ' + str(opt))\n",
    "        index = 0\n",
    "        for algo in algo_list:\n",
    "            \n",
    "        \n",
    "            sol, waste = algo_list[algo](budget, size, mean_size, stdev_size, weights, solver)\n",
    "            # print('budget: ' + str(budget))\n",
    "            # print('waste: ' + str(waste))\n",
    "            # print(algo + ' : ' + str(sol))\n",
    "            if np.around(np.sum(waste), 3) < 0:\n",
    "                print(f'Error with: {algo} and waste: {waste}')\n",
    "            envy = 0\n",
    "            for k in range(num_types):\n",
    "                for t in range(n):\n",
    "                    envy = max(envy, np.abs(np.dot(weights[k, :], opt[t, k, :] - sol[t, k, :])))\n",
    "            alloc_diff[index, i, :, :, :] = opt - sol\n",
    "            data_dict = {'NumGroups': n, 'Algorithm': algo, 'Norm': 'Envy', 'Value': envy}\n",
    "            data.append(data_dict)\n",
    "            data_dict = {'NumGroups': n, 'Algorithm':algo, 'Norm': 'L1', 'Value': np.sum(np.abs(opt-sol))}\n",
    "            data.append(data_dict)\n",
    "            data_dict = {'NumGroups': n, 'Algorithm':algo, 'Norm': 'Linf', 'Value': np.max(np.abs(opt-sol))}\n",
    "            data.append(data_dict)\n",
    "            data_dict = {'NumGroups': n, 'Algorithm':algo, 'Norm': 'Waste', 'Value': np.sum(waste)}\n",
    "            data.append(data_dict)\n",
    "            index += 1\n",
    "\n",
    "    index = 0\n",
    "    for algo in algo_list:\n",
    "        ex_ante_envy = 0\n",
    "        for k in range(num_types):\n",
    "            for t in range(n):\n",
    "                # print(alloc_diff.shape)\n",
    "                avg_diff = [np.abs(np.dot(weights[k, :], alloc_diff[index, r, t, k, :])) for r in range(num_iterations)]\n",
    "                ex_ante_envy = max(ex_ante_envy, np.mean(avg_diff))\n",
    "        data_dict = {'NumGroups': n, 'Algorithm':algo, 'Norm': 'Ex-Ante Envy', 'Value': np.max(np.abs(np.mean(alloc_diff[index, :, :], axis=1)))}\n",
    "        data.append(data_dict)\n",
    "        index += 1"
   ]
  },
  {
   "cell_type": "code",
   "execution_count": 9,
   "metadata": {},
   "outputs": [],
   "source": [
    "# df = pd.DataFrame.from_records(data)\n",
    "# df.to_csv('./data/multi_fbst.csv', index=False)\n",
    "df = pd.read_csv('./data/multi_fbst.csv')"
   ]
  },
  {
   "cell_type": "code",
   "execution_count": 10,
   "metadata": {},
   "outputs": [
    {
     "data": {
      "image/png": "[encoded data removed]",
      "text/plain": [
       "<Figure size 1440x432 with 3 Axes>"
      ]
     },
     "metadata": {
      "needs_background": "light"
     },
     "output_type": "display_data"
    }
   ],
   "source": [
    "\n",
    "df.columns\n",
    "df = df.assign(Algorithm = lambda df: df.Algorithm.replace({'fixed_threshold': 'Static Allocation', 'hope_guardrail_13': 'Guarded Hope $L_T = T^{-1/3}$', 'hope_guardrail_12': 'Guarded Hope $L_T = T^{-1/2}$'}))\n",
    "\n",
    "\n",
    "\n",
    "plt.style.use('PaperDoubleFig.mplstyle.txt')\n",
    "plt.rc('text.latex', preamble=r'\\usepackage{amsfonts}')\n",
    "# Make some style choices for plotting \n",
    "# colorWheel =['#2bd1e5',\n",
    "#             '#281bf5',\n",
    "#              '#db1bf5',\n",
    "#              '#F5CD1B',\n",
    "#             '#FF5733','#9cf51b',]\n",
    "dashesStyles = [[3,1],\n",
    "            [2,1,10,1],\n",
    "            [4, 1, 1, 1, 1, 1],[1000,1],[8,2]]\n",
    "\n",
    "\n",
    "#filled_markers = ('o', 'v', '^', '<', '>', '8', 's', 'p', '*', 'h', 'H', 'D', 'd', 'P', 'X')\n",
    "#plt.figure(figsize=(20,10))\n",
    "#plt.title('Simple Distribution L1')\n",
    "#sns.lineplot(x='NumGroups', y='value', hue='variable', data=df[df.Norm == 'L1'])\n",
    "\n",
    "filled_markers = ('o', 'v', '^', '<', '>', '8', 's', 'p', '*', 'h', 'H', 'D', 'd', 'P', 'X')\n",
    "dash_styles = [\"\",\n",
    "               (4, 1.5),\n",
    "               (1, 1),\n",
    "               (3, 1, 1.5, 1),\n",
    "               (5, 1, 1, 1),\n",
    "               (5, 1, 2, 1, 2, 1),\n",
    "               (2, 2, 3, 1.5),\n",
    "               (1, 2.5, 3, 1.2)]\n",
    "\n",
    "# fig = plt.figure(figsize=(20,6))\n",
    "plt.rc('text', usetex=True)\n",
    "\n",
    "\n",
    "\n",
    "fg, axs = plt.subplots(1,3, sharex='all', figsize=(20,6))\n",
    "sns.lineplot(x='NumGroups', y='Value', hue='Algorithm', style = 'Algorithm', dashes = dashesStyles[0:len(algo_list)],\n",
    "                     data=df[df.Norm == 'Linf'], ax = axs[0], linewidth=4, palette = sns.color_palette(\"colorblind\", len(algo_list)),\n",
    "            ci = None)\n",
    "sns.lineplot(x='NumGroups', y='Value', hue='Algorithm', style = 'Algorithm', dashes = dashesStyles[0:len(algo_list)], \n",
    "             data=df[df.Norm == 'Waste'], ax = axs[1], linewidth=4, palette = sns.color_palette(\"colorblind\", len(algo_list)),\n",
    "            ci = None)\n",
    "\n",
    "sns.lineplot(x='NumGroups', y='Value', hue='Algorithm', style = 'Algorithm', dashes = dashesStyles[0:len(algo_list)], \n",
    "             data=df[df.Norm == 'Ex-Ante Envy'], ax = axs[2], linewidth=4, palette = sns.color_palette(\"colorblind\", len(algo_list)),\n",
    "            ci = None)\n",
    "\n",
    "\n",
    "\n",
    "axs[0].get_legend().remove()\n",
    "axs[0].set_ylabel('$\\mathbb{E}[\\Delta_{\\it EF}]$')\n",
    "axs[0].set_xlabel('Number of Rounds')\n",
    "\n",
    "axs[1].set_ylabel('$\\mathbb{E}[\\Delta_{\\it efficiency}]$')\n",
    "axs[1].set_xlabel('Number of Rounds')\n",
    "axs[1].get_legend().remove()\n",
    "\n",
    "axs[2].get_legend().remove()\n",
    "axs[2].set_ylabel(r'$\\mathbb{E}[Envy]$')\n",
    "axs[2].set_xlabel('Number of Rounds')\n",
    "\n",
    "\n",
    "# axs[2].legend(ncol = 5, loc= 'lower center', bbox_to_anchor=(-1, -.3, 0.5, 0.5))\n",
    "\n",
    "\n",
    "\n",
    "\n",
    "plt.show()\n",
    "fg.savefig('./figures/multi_fbst.pdf', bbox_inches = 'tight',pad_inches = 0.01, dpi=900)"
   ]
  },
  {
   "cell_type": "code",
   "execution_count": 13,
   "metadata": {},
   "outputs": [
    {
     "data": {
      "text/plain": [
       "<bound method NDFrame.tail of         NumGroups                   Algorithm          Norm        Value\n",
       "0               5             Fixed Threshold          Envy     0.616562\n",
       "1               5             Fixed Threshold            L1    30.451250\n",
       "2               5             Fixed Threshold          Linf     0.689320\n",
       "3               5             Fixed Threshold         Waste  1597.752745\n",
       "4               5  Hope Guardrail $L_T = 1/2$          Envy     0.506514\n",
       "...           ...                         ...           ...          ...\n",
       "260320         69             Fixed Threshold  Ex-Ante Envy     0.738640\n",
       "260321         69  Hope Guardrail $L_T = 1/2$  Ex-Ante Envy     0.384246\n",
       "260322         69  Hope Guardrail $L_T = 1/3$  Ex-Ante Envy     0.210825\n",
       "260323         69                 Hope Online  Ex-Ante Envy     1.922327\n",
       "260324         69                   Hope Full  Ex-Ante Envy     0.210348\n",
       "\n",
       "[260325 rows x 4 columns]>"
      ]
     },
     "execution_count": 13,
     "metadata": {},
     "output_type": "execute_result"
    }
   ],
   "source": [
    "df.tail"
   ]
  },
  {
   "cell_type": "markdown",
   "metadata": {
    "id": "iYWsXi6m9WO_"
   },
   "source": [
    "### Group by Group Difference"
   ]
  },
  {
   "cell_type": "code",
   "execution_count": 60,
   "metadata": {
    "colab": {
     "base_uri": "https://localhost:8080/",
     "height": 67,
     "referenced_widgets": [
      "443eb1755fff42eb828f3c1c09ecee7d",
      "0a19ceff7978453c92fb8950419e072d",
      "1cd56fc409a842bd847832d9012c8324",
      "812807fe41d548d6a635abb417332377",
      "c49975ea20ec4c98a6b72cc99e10745e",
      "927e76f879524fe58bcb136499394955",
      "dad148b4204b4e989f04cc1616c1eb5f",
      "f8d83b0651e142ae8a6268d4e7f45205"
     ]
    },
    "executionInfo": {
     "elapsed": 22077,
     "status": "ok",
     "timestamp": 1611785672617,
     "user": {
      "displayName": "Sean Sinclair",
      "photoUrl": "https://lh3.googleusercontent.com/a-/AOh14GgiZ1PfVGrBMLuC7RxoNojx6NGtoiM-OmF94fkk=s64",
      "userId": "12952511139192190002"
     },
     "user_tz": 300
    },
    "id": "wi1qi7iL9WO_",
    "outputId": "b92cd6ea-351e-42d8-e143-f4c81d8efa8a",
    "scrolled": true
   },
   "outputs": [
    {
     "data": {
      "application/vnd.jupyter.widget-view+json": {
       "model_id": "06b15385934b4b688c03ec3905571243",
       "version_major": 2,
       "version_minor": 0
      },
      "text/plain": [
       "  0%|          | 0/200 [00:00<?, ?it/s]"
      ]
     },
     "metadata": {},
     "output_type": "display_data"
    }
   ],
   "source": [
    "fair_data = []\n",
    "\n",
    "\n",
    "algo_list = {'Fixed Threshold': fixed_threshold,\n",
    "             'Hope Guardrail $L_T = 1/2$': lambda a,b,c,d,e,f: hope_guardrail(a,b,c,d,e,f,1/2),\n",
    "             'Hope Guardrail $L_T = 1/3$': lambda a,b,c,d,e,f: hope_guardrail(a,b,c,d,e,f,1/3),\n",
    "             'Hope Online': hope_online,\n",
    "             'Hope Full': hope_full}             \n",
    "\n",
    "num_algo = len(algo_list)\n",
    "\n",
    "num_iterations = 200\n",
    "n = 10\n",
    "\n",
    "alloc_diff = np.zeros((len(algo_list), num_iterations, n, num_types, num_resources)) \n",
    "\n",
    "for i in tqdm(range(num_iterations)):\n",
    "\n",
    "    index = np.random.choice(max_n, n, replace=False)\n",
    "    mean_size = np.asarray([dist_types * data_weights[index].to_numpy()[j] for j in range(n)])\n",
    "    stdev_size = np.asarray([(dist_types**2) * data_weights[index].to_numpy()[j] for j in range(n)])\n",
    "\n",
    "    budget = np.asarray([np.sum(mean_size)]*num_resources)\n",
    "\n",
    "    size = np.maximum(1, np.random.normal(mean_size, stdev_size))\n",
    "\n",
    "\n",
    "    # print('Size: ' + str(size))\n",
    "    total_num_types = np.sum(size, axis=0)\n",
    "\n",
    "\n",
    "    prob, solver = generate_cvxpy_solve(num_types, num_resources)\n",
    "\n",
    "\n",
    "    # print(num_types, num_resources, budget.shape size.shape, )\n",
    "\n",
    "    opt = offline_opt(budget, size, weights, solver)\n",
    "\n",
    "    # print('opt: ' + str(opt))\n",
    "    index = 0\n",
    "    \n",
    "    \n",
    "    for algo in algo_list:\n",
    "        # print(algo)\n",
    "        sol, waste = algo_list[algo](budget, size, mean_size, stdev_size, weights, solver)\n",
    "        prop_alloc = budget / np.sum(size)   \n",
    "        \n",
    "        \n",
    "        true_envy = 0\n",
    "        proportional = 0\n",
    "        nsw = 0\n",
    "        envy = 0\n",
    "        \n",
    "        nsw = np.prod([np.dot(weights[k, :], sol[t, k, :]) ** (size[t,k] / np.sum(size)) for t in range(n) for k in range(num_types)])\n",
    "        proportional = np.max([max(np.dot(weights[k, :], prop_alloc) - np.matmul(sol[:,k,:], weights[k,:])) for k in range(num_types)])\n",
    "        true_envy = np.max([max(np.matmul(sol[:,k2,:], weights[k1, :])) - min(np.matmul(sol[:,k1,:], weights[k1,:])) for k1 in range(num_types) for k2 in range(num_types)])\n",
    "        envy = np.max([np.abs(np.dot(weights[k, :], opt[t, k, :] - sol[t, k, :])) for t in range(n) for k in range(num_types)])\n",
    "                \n",
    "        alloc_diff[index, i, :, :, :] = opt - sol\n",
    "        index += 1\n",
    "        \n",
    "        fair_data.append({'Iteration':i, 'Algorithm':algo, \n",
    "                          '$\\Delta_{\\it efficiency}$': np.sum(waste) / n, \n",
    "                          '$\\Delta_{\\it Prop}$': proportional, \n",
    "#                           '\\textsc{NSW}'.encode('unicode_escape').decode('utf'): nsw,\n",
    "                         '\\textsc{Envy}'.encode('unicode_escape').decode('utf'): true_envy, \n",
    "                          '$\\Delta_{\\it EF}$': envy\n",
    "                            })\n",
    "            \n",
    "# for i in range(n):\n",
    "#     data.append({'Location': i, 'Algorithm':'Zero', 'Value': 0})\n",
    "#     ?\n",
    "    \n",
    "# index = 0\n",
    "# for algo in algo_list:\n",
    "#     ex_ante_envy = np.max([np.mean([np.abs(np.dot(weights[k, :], alloc_diff[index, r, t, k, :])) for r in range(num_iterations)]) for t in range(n) for k in range(num_types)])\n",
    "#     data_dict = {'Algorithm':algo, 'Iteration': 1, '$\\Delta_{\\it EF}^+$' : ex_ante_envy}\n",
    "#     fair_data.append(data_dict)\n",
    "#     index += 1"
   ]
  },
  {
   "cell_type": "code",
   "execution_count": 64,
   "metadata": {},
   "outputs": [],
   "source": [
    "fair_df = pd.DataFrame.from_records(fair_data)\n",
    "fair_df.to_csv('./data/multi_fbst_fair.csv', index=False)\n",
    "fair_df = pd.read_csv('./data/multi_fbst_fair.csv')"
   ]
  },
  {
   "cell_type": "markdown",
   "metadata": {},
   "source": [
    "### Printing Fairness Metrics"
   ]
  },
  {
   "cell_type": "markdown",
   "metadata": {},
   "source": [
    "In hindsight proportional as the same makes sense, as it will be achieved by people obtaining X_lower, which is the same for all the algorithms (and algorithms ensure they don't run out of budget....)\n",
    "\n",
    "TODO: Add NSW, EF"
   ]
  },
  {
   "cell_type": "code",
   "execution_count": 65,
   "metadata": {},
   "outputs": [
    {
     "data": {
      "text/plain": [
       "Index(['Iteration', 'Algorithm', '$\\Delta_{\\it efficiency}$',\n",
       "       '$\\Delta_{\\it Prop}$', '\\textsc{Envy}', '$\\Delta_{\\it EF}$'],\n",
       "      dtype='object')"
      ]
     },
     "execution_count": 65,
     "metadata": {},
     "output_type": "execute_result"
    }
   ],
   "source": [
    "fair_df.columns"
   ]
  },
  {
   "cell_type": "code",
   "execution_count": 66,
   "metadata": {},
   "outputs": [
    {
     "name": "stdout",
     "output_type": "stream",
     "text": [
      "                            $\\Delta_{\\it efficiency}$  $\\Delta_{\\it Prop}$  \\\n",
      "Algorithm                                                                    \n",
      "Fixed Threshold                            215.136949             0.313756   \n",
      "Hope Full                                   17.798132             0.267467   \n",
      "Hope Guardrail $L_T = 1/2$                  78.473747             0.246616   \n",
      "Hope Guardrail $L_T = 1/3$                  77.788140             0.249965   \n",
      "Hope Online                                  0.000044             0.156297   \n",
      "\n",
      "                            \\textsc{Envy}  $\\Delta_{\\it EF}$  \n",
      "Algorithm                                                     \n",
      "Fixed Threshold                  0.000002           0.457828  \n",
      "Hope Full                        0.568720           0.484522  \n",
      "Hope Guardrail $L_T = 1/2$       0.517446           0.385973  \n",
      "Hope Guardrail $L_T = 1/3$       0.972448           0.641961  \n",
      "Hope Online                      0.705540           0.498078  \n",
      "                            Iteration  $\\Delta_{\\it efficiency}$  \\\n",
      "Algorithm                                                          \n",
      "Fixed Threshold                  99.5                -215.136949   \n",
      "Hope Full                        99.5                 -17.798132   \n",
      "Hope Guardrail $L_T = 1/2$       99.5                 -78.473747   \n",
      "Hope Guardrail $L_T = 1/3$       99.5                 -77.788140   \n",
      "Hope Online                      99.5                  -0.000044   \n",
      "\n",
      "                            $\\Delta_{\\it Prop}$  \\textsc{Envy}  \\\n",
      "Algorithm                                                        \n",
      "Fixed Threshold                       -0.313756      -0.000002   \n",
      "Hope Full                             -0.267467      -0.568720   \n",
      "Hope Guardrail $L_T = 1/2$            -0.246616      -0.517446   \n",
      "Hope Guardrail $L_T = 1/3$            -0.249965      -0.972448   \n",
      "Hope Online                           -0.156297      -0.705540   \n",
      "\n",
      "                            $\\Delta_{\\it EF}$  \n",
      "Algorithm                                      \n",
      "Fixed Threshold                     -0.457828  \n",
      "Hope Full                           -0.484522  \n",
      "Hope Guardrail $L_T = 1/2$          -0.385973  \n",
      "Hope Guardrail $L_T = 1/3$          -0.641961  \n",
      "Hope Online                         -0.498078  \n"
     ]
    }
   ],
   "source": [
    "# print(fair_df.columns)\n",
    "# fair_df = fair_df.drop(fair_df.columns[4], axis=1)\n",
    "fair_df = fair_df.groupby(['Algorithm']).mean()\n",
    "print(fair_df.drop(['Iteration'], axis=1))\n",
    "\n",
    "fair_df['$\\Delta_{\\it efficiency}$'] = (-1)*fair_df['$\\Delta_{\\it efficiency}$']\n",
    "fair_df['\\textsc{Envy}'.encode('unicode_escape').decode('utf')] = (-1)*fair_df['\\textsc{Envy}'.encode('unicode_escape').decode('utf')]\n",
    "fair_df['$\\Delta_{\\it EF}$'] = (-1)* fair_df['$\\Delta_{\\it EF}$']\n",
    "fair_df['$\\Delta_{\\it Prop}$'] = (-1) * fair_df['$\\Delta_{\\it Prop}$']\n",
    "# fair_df['$\\Delta_{\\it EF}^+$'] = (-1)*fair_df['$\\Delta_{\\it EF}^+$']\n",
    "print(fair_df)"
   ]
  },
  {
   "cell_type": "code",
   "execution_count": 67,
   "metadata": {},
   "outputs": [
    {
     "name": "stdout",
     "output_type": "stream",
     "text": [
      "                            $\\Delta_{\\it efficiency}$  $\\Delta_{\\it Prop}$  \\\n",
      "Algorithm                                                                    \n",
      "Fixed Threshold                              0.100000             0.100000   \n",
      "Hope Full                                    0.925544             0.364579   \n",
      "Hope Guardrail $L_T = 1/2$                   0.671714             0.483756   \n",
      "Hope Guardrail $L_T = 1/3$                   0.674583             0.464614   \n",
      "Hope Online                                  1.000000             1.000000   \n",
      "\n",
      "                            \\textsc{Envy}  $\\Delta_{\\it EF}$  \n",
      "Algorithm                                                     \n",
      "Fixed Threshold                  1.000000           0.747375  \n",
      "Hope Full                        0.473650           0.653523  \n",
      "Hope Guardrail $L_T = 1/2$       0.521104           1.000000  \n",
      "Hope Guardrail $L_T = 1/3$       0.100000           0.100000  \n",
      "Hope Online                      0.347024           0.605863  \n"
     ]
    }
   ],
   "source": [
    "fair_df = normalize(fair_df).drop(['Iteration'], axis=1)\n",
    "print(fair_df)"
   ]
  },
  {
   "cell_type": "code",
   "execution_count": 68,
   "metadata": {},
   "outputs": [
    {
     "name": "stdout",
     "output_type": "stream",
     "text": [
      "4\n",
      "{'Fixed Threshold': <function fixed_threshold at 0x7fdef6803b70>, 'Hope Guardrail $L_T = 1/2$': <function <lambda> at 0x7fdf5026e048>, 'Hope Guardrail $L_T = 1/3$': <function <lambda> at 0x7fdef56c7e18>}\n",
      "{'Hope Guardrail $L_T = 1/2$': <function <lambda> at 0x7fdf5026e048>, 'Hope Online': <function hope_online at 0x7fdef6803a60>, 'Hope Full': <function hope_full at 0x7fdef6803ae8>}\n"
     ]
    },
    {
     "data": {
      "image/png": "[encoded data removed]",
      "text/plain": [
       "<Figure size 432x432 with 1 Axes>"
      ]
     },
     "metadata": {
      "needs_background": "light"
     },
     "output_type": "display_data"
    },
    {
     "data": {
      "image/png": "[encoded data removed]",
      "text/plain": [
       "<Figure size 432x432 with 1 Axes>"
      ]
     },
     "metadata": {
      "needs_background": "light"
     },
     "output_type": "display_data"
    }
   ],
   "source": [
    "# number of variable\n",
    "\n",
    "\n",
    "from math import pi\n",
    "plt.style.use('PaperDoubleFig.mplstyle.txt')\n",
    "\n",
    "plt.rc('text', usetex=True)\n",
    "plt.rc('text.latex', preamble=r'\\usepackage{amsfonts}')\n",
    "\n",
    "\n",
    "\n",
    "\n",
    "N = len(list(fair_df))\n",
    "print(N)\n",
    "theta = radar_factory(N, frame='polygon')\n",
    "\n",
    "spoke_labels = ['$\\\\mathbb{E}[\\\\Delta_{\\\\it efficiency}]$', '$\\\\mathbb{E}[\\\\Delta_{\\\\it Prop}]$', '$\\\\mathbb{E}[\\\\textsc{Envy}]$', '$\\\\mathbb{E}[\\\\Delta_{\\\\it EF}]$']\n",
    "\n",
    "fig, ax = plt.subplots(figsize=(6, 6), subplot_kw=dict(projection='radar'))\n",
    "fig.subplots_adjust(top=0.85, bottom=0.05)\n",
    "\n",
    "ax.set_rgrids([0.2, 0.4, 0.6, 0.8])\n",
    "# ax.set_title('Comparison of Fairness Metrics',  position=(0.5, 1.1), ha='center')\n",
    "dashesStyles = [[3,1],\n",
    "            [2,1,10,1],\n",
    "            [4, 1, 1, 1, 1, 1],[1000,1],[8,2]]\n",
    "\n",
    "first_plot = { algo : algo_list[algo] for algo in ['Fixed Threshold', 'Hope Guardrail $L_T = 1/2$', 'Hope Guardrail $L_T = 1/3$']}\n",
    "second_plot = { algo : algo_list[algo] for algo in ['Hope Guardrail $L_T = 1/2$', 'Hope Online', 'Hope Full']}\n",
    "print(first_plot)\n",
    "print(second_plot)\n",
    "\n",
    "index = 0\n",
    "for algo in first_plot:\n",
    "    values = fair_df.loc[algo].to_numpy()\n",
    "    ax.plot(theta, values, linewidth=3, dashes=dashesStyles[index], label=algo, color = sns.color_palette('colorblind', len(algo_list))[index])\n",
    "    ax.fill(theta, values, color = sns.color_palette('colorblind', len(algo_list))[index],  alpha=0)\n",
    "    index += 1\n",
    "ax.set_varlabels(spoke_labels)\n",
    "\n",
    "# plt.legend(loc='right', bbox_to_anchor=(2.15, .5))\n",
    "\n",
    "plt.savefig('./figures/multi_fbst_leontief_guardrail_radar.pdf')\n",
    "plt.show()\n",
    "\n",
    "\n",
    "\n",
    "\n",
    "\n",
    "fig, ax = plt.subplots(figsize=(6, 6), subplot_kw=dict(projection='radar'))\n",
    "fig.subplots_adjust(top=0.85, bottom=0.05)\n",
    "\n",
    "ax.set_rgrids([0.2, 0.4, 0.6, 0.8])\n",
    "\n",
    "\n",
    "dashesStyles = [\n",
    "            [2,1,10,1],\n",
    "            [1000,1],[8,2]]\n",
    "\n",
    "color_list = [sns.color_palette(\"colorblind\", len(algo_list))[1], sns.color_palette(\"colorblind\", len(algo_list))[3], sns.color_palette(\"colorblind\", len(algo_list))[4]]\n",
    "\n",
    "index = 0\n",
    "for algo in second_plot:\n",
    "    values = fair_df.loc[algo].to_numpy()\n",
    "    ax.plot(theta, values, linewidth=3, dashes=dashesStyles[index], label=algo, color = color_list[index])\n",
    "    ax.fill(theta, values, color = sns.color_palette('colorblind', len(algo_list))[index],  alpha=0)\n",
    "    index += 1\n",
    "ax.set_varlabels(spoke_labels)\n",
    "\n",
    "# plt.legend(loc='right', bbox_to_anchor=(2.15, .5))\n",
    "\n",
    "plt.savefig('./figures/multi_fbst_leontief_heuristic_radar.pdf')\n",
    "plt.show()\n",
    "\n",
    "\n"
   ]
  }
 ],
 "metadata": {
  "colab": {
   "collapsed_sections": [],
   "name": "adaptive_threshold.ipynb",
   "provenance": []
  },
  "kernelspec": {
   "display_name": "Python 3",
   "language": "python",
   "name": "python3"
  },
  "language_info": {
   "codemirror_mode": {
    "name": "ipython",
    "version": 3
   },
   "file_extension": ".py",
   "mimetype": "text/x-python",
   "name": "python",
   "nbconvert_exporter": "python",
   "pygments_lexer": "ipython3",
   "version": "3.6.13"
  },
  "widgets": {
   "application/vnd.jupyter.widget-state+json": {
    "0a19ceff7978453c92fb8950419e072d": {
     "model_module": "@jupyter-widgets/base",
     "model_name": "LayoutModel",
     "state": {
      "_model_module": "@jupyter-widgets/base",
      "_model_module_version": "1.2.0",
      "_model_name": "LayoutModel",
      "_view_count": null,
      "_view_module": "@jupyter-widgets/base",
      "_view_module_version": "1.2.0",
      "_view_name": "LayoutView",
      "align_content": null,
      "align_items": null,
      "align_self": null,
      "border": null,
      "bottom": null,
      "display": null,
      "flex": null,
      "flex_flow": null,
      "grid_area": null,
      "grid_auto_columns": null,
      "grid_auto_flow": null,
      "grid_auto_rows": null,
      "grid_column": null,
      "grid_gap": null,
      "grid_row": null,
      "grid_template_areas": null,
      "grid_template_columns": null,
      "grid_template_rows": null,
      "height": null,
      "justify_content": null,
      "justify_items": null,
      "left": null,
      "margin": null,
      "max_height": null,
      "max_width": null,
      "min_height": null,
      "min_width": null,
      "object_fit": null,
      "object_position": null,
      "order": null,
      "overflow": null,
      "overflow_x": null,
      "overflow_y": null,
      "padding": null,
      "right": null,
      "top": null,
      "visibility": null,
      "width": null
     }
    },
    "1cd56fc409a842bd847832d9012c8324": {
     "model_module": "@jupyter-widgets/controls",
     "model_name": "FloatProgressModel",
     "state": {
      "_dom_classes": [],
      "_model_module": "@jupyter-widgets/controls",
      "_model_module_version": "1.5.0",
      "_model_name": "FloatProgressModel",
      "_view_count": null,
      "_view_module": "@jupyter-widgets/controls",
      "_view_module_version": "1.5.0",
      "_view_name": "ProgressView",
      "bar_style": "success",
      "description": "100%",
      "description_tooltip": null,
      "layout": "IPY_MODEL_927e76f879524fe58bcb136499394955",
      "max": 100,
      "min": 0,
      "orientation": "horizontal",
      "style": "IPY_MODEL_c49975ea20ec4c98a6b72cc99e10745e",
      "value": 100
     }
    },
    "1e36c3f407884be9847d7393629ef768": {
     "model_module": "@jupyter-widgets/controls",
     "model_name": "HTMLModel",
     "state": {
      "_dom_classes": [],
      "_model_module": "@jupyter-widgets/controls",
      "_model_module_version": "1.5.0",
      "_model_name": "HTMLModel",
      "_view_count": null,
      "_view_module": "@jupyter-widgets/controls",
      "_view_module_version": "1.5.0",
      "_view_name": "HTMLView",
      "description": "",
      "description_tooltip": null,
      "layout": "IPY_MODEL_6d967cff11574e62aed6bc3f86c3187c",
      "placeholder": "​",
      "style": "IPY_MODEL_5bde03c411474113b4c4bed539353f57",
      "value": " 99/99 [00:18&lt;00:00,  5.49it/s]"
     }
    },
    "1fb709b814ce4d4d81ec24c1443dc6a2": {
     "model_module": "@jupyter-widgets/controls",
     "model_name": "FloatProgressModel",
     "state": {
      "_dom_classes": [],
      "_model_module": "@jupyter-widgets/controls",
      "_model_module_version": "1.5.0",
      "_model_name": "FloatProgressModel",
      "_view_count": null,
      "_view_module": "@jupyter-widgets/controls",
      "_view_module_version": "1.5.0",
      "_view_name": "ProgressView",
      "bar_style": "success",
      "description": "100%",
      "description_tooltip": null,
      "layout": "IPY_MODEL_b9e16375f07c49208662ae88538a4213",
      "max": 99,
      "min": 0,
      "orientation": "horizontal",
      "style": "IPY_MODEL_78d9669e53ce463193e4485863ef887f",
      "value": 99
     }
    },
    "378b8b4ca0244f30b3e3d75c17037de8": {
     "model_module": "@jupyter-widgets/base",
     "model_name": "LayoutModel",
     "state": {
      "_model_module": "@jupyter-widgets/base",
      "_model_module_version": "1.2.0",
      "_model_name": "LayoutModel",
      "_view_count": null,
      "_view_module": "@jupyter-widgets/base",
      "_view_module_version": "1.2.0",
      "_view_name": "LayoutView",
      "align_content": null,
      "align_items": null,
      "align_self": null,
      "border": null,
      "bottom": null,
      "display": null,
      "flex": null,
      "flex_flow": null,
      "grid_area": null,
      "grid_auto_columns": null,
      "grid_auto_flow": null,
      "grid_auto_rows": null,
      "grid_column": null,
      "grid_gap": null,
      "grid_row": null,
      "grid_template_areas": null,
      "grid_template_columns": null,
      "grid_template_rows": null,
      "height": null,
      "justify_content": null,
      "justify_items": null,
      "left": null,
      "margin": null,
      "max_height": null,
      "max_width": null,
      "min_height": null,
      "min_width": null,
      "object_fit": null,
      "object_position": null,
      "order": null,
      "overflow": null,
      "overflow_x": null,
      "overflow_y": null,
      "padding": null,
      "right": null,
      "top": null,
      "visibility": null,
      "width": null
     }
    },
    "443eb1755fff42eb828f3c1c09ecee7d": {
     "model_module": "@jupyter-widgets/controls",
     "model_name": "HBoxModel",
     "state": {
      "_dom_classes": [],
      "_model_module": "@jupyter-widgets/controls",
      "_model_module_version": "1.5.0",
      "_model_name": "HBoxModel",
      "_view_count": null,
      "_view_module": "@jupyter-widgets/controls",
      "_view_module_version": "1.5.0",
      "_view_name": "HBoxView",
      "box_style": "",
      "children": [
       "IPY_MODEL_1cd56fc409a842bd847832d9012c8324",
       "IPY_MODEL_812807fe41d548d6a635abb417332377"
      ],
      "layout": "IPY_MODEL_0a19ceff7978453c92fb8950419e072d"
     }
    },
    "5bde03c411474113b4c4bed539353f57": {
     "model_module": "@jupyter-widgets/controls",
     "model_name": "DescriptionStyleModel",
     "state": {
      "_model_module": "@jupyter-widgets/controls",
      "_model_module_version": "1.5.0",
      "_model_name": "DescriptionStyleModel",
      "_view_count": null,
      "_view_module": "@jupyter-widgets/base",
      "_view_module_version": "1.2.0",
      "_view_name": "StyleView",
      "description_width": ""
     }
    },
    "6d967cff11574e62aed6bc3f86c3187c": {
     "model_module": "@jupyter-widgets/base",
     "model_name": "LayoutModel",
     "state": {
      "_model_module": "@jupyter-widgets/base",
      "_model_module_version": "1.2.0",
      "_model_name": "LayoutModel",
      "_view_count": null,
      "_view_module": "@jupyter-widgets/base",
      "_view_module_version": "1.2.0",
      "_view_name": "LayoutView",
      "align_content": null,
      "align_items": null,
      "align_self": null,
      "border": null,
      "bottom": null,
      "display": null,
      "flex": null,
      "flex_flow": null,
      "grid_area": null,
      "grid_auto_columns": null,
      "grid_auto_flow": null,
      "grid_auto_rows": null,
      "grid_column": null,
      "grid_gap": null,
      "grid_row": null,
      "grid_template_areas": null,
      "grid_template_columns": null,
      "grid_template_rows": null,
      "height": null,
      "justify_content": null,
      "justify_items": null,
      "left": null,
      "margin": null,
      "max_height": null,
      "max_width": null,
      "min_height": null,
      "min_width": null,
      "object_fit": null,
      "object_position": null,
      "order": null,
      "overflow": null,
      "overflow_x": null,
      "overflow_y": null,
      "padding": null,
      "right": null,
      "top": null,
      "visibility": null,
      "width": null
     }
    },
    "6edde265d414491ba9c5d75c4b666028": {
     "model_module": "@jupyter-widgets/controls",
     "model_name": "HBoxModel",
     "state": {
      "_dom_classes": [],
      "_model_module": "@jupyter-widgets/controls",
      "_model_module_version": "1.5.0",
      "_model_name": "HBoxModel",
      "_view_count": null,
      "_view_module": "@jupyter-widgets/controls",
      "_view_module_version": "1.5.0",
      "_view_name": "HBoxView",
      "box_style": "",
      "children": [
       "IPY_MODEL_1fb709b814ce4d4d81ec24c1443dc6a2",
       "IPY_MODEL_1e36c3f407884be9847d7393629ef768"
      ],
      "layout": "IPY_MODEL_378b8b4ca0244f30b3e3d75c17037de8"
     }
    },
    "78d9669e53ce463193e4485863ef887f": {
     "model_module": "@jupyter-widgets/controls",
     "model_name": "ProgressStyleModel",
     "state": {
      "_model_module": "@jupyter-widgets/controls",
      "_model_module_version": "1.5.0",
      "_model_name": "ProgressStyleModel",
      "_view_count": null,
      "_view_module": "@jupyter-widgets/base",
      "_view_module_version": "1.2.0",
      "_view_name": "StyleView",
      "bar_color": null,
      "description_width": "initial"
     }
    },
    "812807fe41d548d6a635abb417332377": {
     "model_module": "@jupyter-widgets/controls",
     "model_name": "HTMLModel",
     "state": {
      "_dom_classes": [],
      "_model_module": "@jupyter-widgets/controls",
      "_model_module_version": "1.5.0",
      "_model_name": "HTMLModel",
      "_view_count": null,
      "_view_module": "@jupyter-widgets/controls",
      "_view_module_version": "1.5.0",
      "_view_name": "HTMLView",
      "description": "",
      "description_tooltip": null,
      "layout": "IPY_MODEL_f8d83b0651e142ae8a6268d4e7f45205",
      "placeholder": "​",
      "style": "IPY_MODEL_dad148b4204b4e989f04cc1616c1eb5f",
      "value": " 100/100 [00:01&lt;00:00, 63.46it/s]"
     }
    },
    "927e76f879524fe58bcb136499394955": {
     "model_module": "@jupyter-widgets/base",
     "model_name": "LayoutModel",
     "state": {
      "_model_module": "@jupyter-widgets/base",
      "_model_module_version": "1.2.0",
      "_model_name": "LayoutModel",
      "_view_count": null,
      "_view_module": "@jupyter-widgets/base",
      "_view_module_version": "1.2.0",
      "_view_name": "LayoutView",
      "align_content": null,
      "align_items": null,
      "align_self": null,
      "border": null,
      "bottom": null,
      "display": null,
      "flex": null,
      "flex_flow": null,
      "grid_area": null,
      "grid_auto_columns": null,
      "grid_auto_flow": null,
      "grid_auto_rows": null,
      "grid_column": null,
      "grid_gap": null,
      "grid_row": null,
      "grid_template_areas": null,
      "grid_template_columns": null,
      "grid_template_rows": null,
      "height": null,
      "justify_content": null,
      "justify_items": null,
      "left": null,
      "margin": null,
      "max_height": null,
      "max_width": null,
      "min_height": null,
      "min_width": null,
      "object_fit": null,
      "object_position": null,
      "order": null,
      "overflow": null,
      "overflow_x": null,
      "overflow_y": null,
      "padding": null,
      "right": null,
      "top": null,
      "visibility": null,
      "width": null
     }
    },
    "b9e16375f07c49208662ae88538a4213": {
     "model_module": "@jupyter-widgets/base",
     "model_name": "LayoutModel",
     "state": {
      "_model_module": "@jupyter-widgets/base",
      "_model_module_version": "1.2.0",
      "_model_name": "LayoutModel",
      "_view_count": null,
      "_view_module": "@jupyter-widgets/base",
      "_view_module_version": "1.2.0",
      "_view_name": "LayoutView",
      "align_content": null,
      "align_items": null,
      "align_self": null,
      "border": null,
      "bottom": null,
      "display": null,
      "flex": null,
      "flex_flow": null,
      "grid_area": null,
      "grid_auto_columns": null,
      "grid_auto_flow": null,
      "grid_auto_rows": null,
      "grid_column": null,
      "grid_gap": null,
      "grid_row": null,
      "grid_template_areas": null,
      "grid_template_columns": null,
      "grid_template_rows": null,
      "height": null,
      "justify_content": null,
      "justify_items": null,
      "left": null,
      "margin": null,
      "max_height": null,
      "max_width": null,
      "min_height": null,
      "min_width": null,
      "object_fit": null,
      "object_position": null,
      "order": null,
      "overflow": null,
      "overflow_x": null,
      "overflow_y": null,
      "padding": null,
      "right": null,
      "top": null,
      "visibility": null,
      "width": null
     }
    },
    "c49975ea20ec4c98a6b72cc99e10745e": {
     "model_module": "@jupyter-widgets/controls",
     "model_name": "ProgressStyleModel",
     "state": {
      "_model_module": "@jupyter-widgets/controls",
      "_model_module_version": "1.5.0",
      "_model_name": "ProgressStyleModel",
      "_view_count": null,
      "_view_module": "@jupyter-widgets/base",
      "_view_module_version": "1.2.0",
      "_view_name": "StyleView",
      "bar_color": null,
      "description_width": "initial"
     }
    },
    "dad148b4204b4e989f04cc1616c1eb5f": {
     "model_module": "@jupyter-widgets/controls",
     "model_name": "DescriptionStyleModel",
     "state": {
      "_model_module": "@jupyter-widgets/controls",
      "_model_module_version": "1.5.0",
      "_model_name": "DescriptionStyleModel",
      "_view_count": null,
      "_view_module": "@jupyter-widgets/base",
      "_view_module_version": "1.2.0",
      "_view_name": "StyleView",
      "description_width": ""
     }
    },
    "f8d83b0651e142ae8a6268d4e7f45205": {
     "model_module": "@jupyter-widgets/base",
     "model_name": "LayoutModel",
     "state": {
      "_model_module": "@jupyter-widgets/base",
      "_model_module_version": "1.2.0",
      "_model_name": "LayoutModel",
      "_view_count": null,
      "_view_module": "@jupyter-widgets/base",
      "_view_module_version": "1.2.0",
      "_view_name": "LayoutView",
      "align_content": null,
      "align_items": null,
      "align_self": null,
      "border": null,
      "bottom": null,
      "display": null,
      "flex": null,
      "flex_flow": null,
      "grid_area": null,
      "grid_auto_columns": null,
      "grid_auto_flow": null,
      "grid_auto_rows": null,
      "grid_column": null,
      "grid_gap": null,
      "grid_row": null,
      "grid_template_areas": null,
      "grid_template_columns": null,
      "grid_template_rows": null,
      "height": null,
      "justify_content": null,
      "justify_items": null,
      "left": null,
      "margin": null,
      "max_height": null,
      "max_width": null,
      "min_height": null,
      "min_width": null,
      "object_fit": null,
      "object_position": null,
      "order": null,
      "overflow": null,
      "overflow_x": null,
      "overflow_y": null,
      "padding": null,
      "right": null,
      "top": null,
      "visibility": null,
      "width": null
     }
    }
   }
  }
 },
 "nbformat": 4,
 "nbformat_minor": 1
}
